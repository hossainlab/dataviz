{
 "cells": [
  {
   "cell_type": "code",
   "execution_count": 1,
   "metadata": {},
   "outputs": [
    {
     "data": {
      "text/plain": [
       "True"
      ]
     },
     "execution_count": 1,
     "metadata": {},
     "output_type": "execute_result"
    }
   ],
   "source": [
    "import matplotlib\n",
    "import matplotlib.pyplot as plt\n",
    "import matplotlib.patches as patches\n",
    "\n",
    "matplotlib.interactive(True)\n",
    "plt.ion()\n",
    "matplotlib.is_interactive()"
   ]
  },
  {
   "cell_type": "markdown",
   "metadata": {},
   "source": [
    "#### Make use of the patch module to draw a shape\n",
    "* Patches allows rendering of 2D objects including geometric shapes, arrows\n",
    "* When creating a rectangle, the first argument is a tuple with the bottom-left coordinates\n",
    "* The next two coordinates are the width and height of the rectangle\n",
    "* The fill parameter represents whether the shape will be filled with a color. We choose to leave the square empty\n",
    "* Note that though we're plotting a square it appears as a rectangle due to the differing aspect ratios of the X and Y axes"
   ]
  },
  {
   "cell_type": "code",
   "execution_count": 2,
   "metadata": {},
   "outputs": [
    {
     "data": {
      "image/png": "[encoded data removed]",
      "text/plain": [
       "<matplotlib.figure.Figure at 0x10c2e8b00>"
      ]
     },
     "metadata": {},
     "output_type": "display_data"
    }
   ],
   "source": [
    "fig, ax = plt.subplots()\n",
    "\n",
    "ax.add_patch(\n",
    "    patches.Rectangle(\n",
    "        (0.1, 0.1),\n",
    "        0.5,\n",
    "        0.5,\n",
    "        fill=False \n",
    "    )\n",
    ")\n",
    "\n",
    "plt.show()"
   ]
  },
  {
   "cell_type": "markdown",
   "metadata": {},
   "source": [
    "#### Use the aspect parameter for the axis to fix the aspect ratio\n",
    "Now the X and Y axes are on the same scale\n",
    "* Other options are 'auto' or a number\n",
    "* A number n means the height will be n times the width"
   ]
  },
  {
   "cell_type": "code",
   "execution_count": 3,
   "metadata": {},
   "outputs": [
    {
     "data": {
      "image/png": "[encoded data removed]",
      "text/plain": [
       "<matplotlib.figure.Figure at 0x10c3515c0>"
      ]
     },
     "metadata": {},
     "output_type": "display_data"
    }
   ],
   "source": [
    "fig, ax = plt.subplots()\n",
    "\n",
    "ax.set_aspect(aspect='equal')\n",
    "\n",
    "ax.add_patch(\n",
    "    patches.Rectangle(\n",
    "        (0.1, 0.1),\n",
    "        0.5,\n",
    "        0.5,\n",
    "        fill=False\n",
    "    )\n",
    ")\n",
    "\n",
    "plt.show()"
   ]
  },
  {
   "cell_type": "markdown",
   "metadata": {},
   "source": [
    "#### Color the shape\n",
    "* facecolor defines the color to fill the shape with\n",
    "* edgecolor sets the color of the edge\n",
    "\n",
    "There are a number of colors which can be set using the name. For a full list of these colors, check out this link: <br />\n",
    "https://matplotlib.org/gallery/color/named_colors.html#sphx-glr-gallery-color-named-colors-py"
   ]
  },
  {
   "cell_type": "code",
   "execution_count": 4,
   "metadata": {},
   "outputs": [
    {
     "data": {
      "image/png": "[encoded data removed]",
      "text/plain": [
       "<matplotlib.figure.Figure at 0x1152a6c18>"
      ]
     },
     "metadata": {},
     "output_type": "display_data"
    }
   ],
   "source": [
    "fig, ax = plt.subplots()\n",
    "ax.set_aspect(aspect='equal')\n",
    "\n",
    "ax.add_patch(\n",
    "    patches.Rectangle(\n",
    "        (0.1, 0.1),   \n",
    "        0.5,         \n",
    "        0.5,          \n",
    "        facecolor='yellow',\n",
    "        edgecolor='green'\n",
    "    )\n",
    ")\n",
    "\n",
    "plt.show()"
   ]
  },
  {
   "cell_type": "markdown",
   "metadata": {},
   "source": [
    "#### Drawing multiple sqares\n",
    "* We use an iterator to define and add rectangles to our subplot\n",
    "* We set different patterns inside those squares with the hatch parameter\n",
    "* Note that the default facecolor is blue"
   ]
  },
  {
   "cell_type": "code",
   "execution_count": 5,
   "metadata": {},
   "outputs": [
    {
     "data": {
      "image/png": "[encoded data removed]",
      "text/plain": [
       "<matplotlib.figure.Figure at 0x11535ee80>"
      ]
     },
     "metadata": {},
     "output_type": "display_data"
    }
   ],
   "source": [
    "fig, ax = plt.subplots()\n",
    "ax.set_aspect(aspect='equal')\n",
    "\n",
    "for p in [\n",
    "    patches.Rectangle(\n",
    "        (0.1, 0.1), 0.3, 0.6,\n",
    "        hatch='.'\n",
    "    ),\n",
    "    patches.Rectangle(\n",
    "        (0.5, 0.1), 0.3, 0.6,\n",
    "        hatch='\\\\',\n",
    "        fill=False\n",
    "    ),\n",
    "]:\n",
    "    ax.add_patch(p)\n",
    "    \n",
    "plt.show()"
   ]
  },
  {
   "cell_type": "markdown",
   "metadata": {},
   "source": [
    "#### Setting the alpha value for shapes\n",
    "* Each rectangle has a different transparency level\n",
    "* Note that alpha=None is the same as alpha=1.0\n",
    "* The third rectangle is not visible, as the default xlim (and ylim) is 1"
   ]
  },
  {
   "cell_type": "code",
   "execution_count": 7,
   "metadata": {},
   "outputs": [
    {
     "data": {
      "image/png": "[encoded data removed]",
      "text/plain": [
       "<matplotlib.figure.Figure at 0x1154c2160>"
      ]
     },
     "metadata": {},
     "output_type": "display_data"
    }
   ],
   "source": [
    "fig, ax = plt.subplots()\n",
    "ax.set_aspect(aspect='equal')\n",
    "\n",
    "for p in [\n",
    "    patches.Rectangle(\n",
    "        (0.1, 0.1), 0.2, 0.6,\n",
    "        alpha=None,\n",
    "    ),\n",
    "    patches.Rectangle(\n",
    "        (0.4, 0.1), 0.2, 0.6,\n",
    "        alpha=1.0\n",
    "    ),\n",
    "    patches.Rectangle(\n",
    "        (0.7, 0.1), 0.2, 0.6,\n",
    "        alpha=0.6\n",
    "    ),\n",
    "    patches.Rectangle(\n",
    "        (1.0, 0.1), 0.2, 0.6,\n",
    "        alpha=0.1\n",
    "    ),\n",
    "]:\n",
    "    ax.add_patch(p)\n",
    "\n",
    "plt.show()"
   ]
  },
  {
   "cell_type": "markdown",
   "metadata": {},
   "source": [
    "#### Setting the xlim so that all rectangles are visible"
   ]
  },
  {
   "cell_type": "code",
   "execution_count": 8,
   "metadata": {},
   "outputs": [
    {
     "data": {
      "image/png": "[encoded data removed]",
      "text/plain": [
       "<matplotlib.figure.Figure at 0x1155c0b70>"
      ]
     },
     "metadata": {},
     "output_type": "display_data"
    }
   ],
   "source": [
    "fig, ax = plt.subplots()\n",
    "ax.set_aspect(aspect='equal')\n",
    "\n",
    "for p in [\n",
    "    patches.Rectangle(\n",
    "        (0.1, 0.1), 0.2, 0.6,\n",
    "        alpha=None,\n",
    "    ),\n",
    "    patches.Rectangle(\n",
    "        (0.4, 0.1), 0.2, 0.6,\n",
    "        alpha=1.0\n",
    "    ),\n",
    "    patches.Rectangle(\n",
    "        (0.7, 0.1), 0.2, 0.6,\n",
    "        alpha=0.6\n",
    "    ),\n",
    "    patches.Rectangle(\n",
    "        (1.0, 0.1), 0.2, 0.6,\n",
    "        alpha=0.1\n",
    "    ),\n",
    "]:\n",
    "    ax.add_patch(p)\n",
    "\n",
    "ax.set_xlim(0,1.5)\n",
    "\n",
    "plt.show()"
   ]
  },
  {
   "cell_type": "markdown",
   "metadata": {},
   "source": [
    "#### Specifying the colors in different formats\n",
    "* facecolor=None sets it to the default (blue) color\n",
    "* facecolor=\"none\" means the facecolor is empty"
   ]
  },
  {
   "cell_type": "code",
   "execution_count": 9,
   "metadata": {},
   "outputs": [
    {
     "data": {
      "image/png": "[encoded data removed]",
      "text/plain": [
       "<matplotlib.figure.Figure at 0x11549d208>"
      ]
     },
     "metadata": {},
     "output_type": "display_data"
    }
   ],
   "source": [
    "fig, ax = plt.subplots()\n",
    "ax.set_aspect(aspect='equal')\n",
    "\n",
    "for p in [\n",
    "    patches.Rectangle(\n",
    "        (0.1, 0.1), 0.2, 0.6,\n",
    "        facecolor=None\n",
    "    ),\n",
    "    patches.Rectangle(\n",
    "        (0.4, 0.1), 0.2, 0.6,\n",
    "        facecolor='none'\n",
    "    ),\n",
    "    patches.Rectangle(\n",
    "        (0.7, 0.1), 0.2, 0.6,\n",
    "        facecolor='red'\n",
    "    ),\n",
    "    patches.Rectangle(\n",
    "        (1.0, 0.1), 0.2, 0.6,\n",
    "        facecolor='#00ffff'\n",
    "    ),\n",
    "]:\n",
    "    ax.add_patch(p)\n",
    "    \n",
    "ax.set_xlim(0,1.5)\n",
    "plt.show()"
   ]
  },
  {
   "cell_type": "markdown",
   "metadata": {},
   "source": [
    "#### Shapes with edgecolor\n",
    "* Setting the edgecolor without a facecolor sets the facecolor value to 'none'\n",
    "* Note that the default edgecolor is black"
   ]
  },
  {
   "cell_type": "code",
   "execution_count": 10,
   "metadata": {},
   "outputs": [
    {
     "data": {
      "image/png": "[encoded data removed]",
      "text/plain": [
       "<matplotlib.figure.Figure at 0x1156ac0b8>"
      ]
     },
     "metadata": {},
     "output_type": "display_data"
    }
   ],
   "source": [
    "fig, ax = plt.subplots()\n",
    "ax.set_aspect(aspect='equal')\n",
    "\n",
    "for p in [\n",
    "    patches.Rectangle(\n",
    "        (0.1, 0.1), 0.2, 0.6, fill=False,\n",
    "        edgecolor=None\n",
    "    ),\n",
    "    patches.Rectangle(\n",
    "        (0.4, 0.1), 0.2, 0.6, fill=False,\n",
    "        edgecolor='none'\n",
    "    ),\n",
    "    patches.Rectangle(\n",
    "        (0.7, 0.1), 0.2, 0.6, fill=False,\n",
    "        edgecolor='red'\n",
    "    ),\n",
    "    patches.Rectangle(\n",
    "        (1.0, 0.1), 0.2, 0.6, fill=False,\n",
    "        edgecolor='#00ffff'\n",
    "    ),\n",
    "]:\n",
    "    ax.add_patch(p)\n",
    "        \n",
    "ax.set_xlim(0,1.5)\n",
    "plt.show()"
   ]
  },
  {
   "cell_type": "markdown",
   "metadata": {},
   "source": [
    "#### Changing the line width \n",
    "The default linewidth is 1.0"
   ]
  },
  {
   "cell_type": "code",
   "execution_count": 11,
   "metadata": {},
   "outputs": [
    {
     "data": {
      "image/png": "[encoded data removed]",
      "text/plain": [
       "<matplotlib.figure.Figure at 0x115762fd0>"
      ]
     },
     "metadata": {},
     "output_type": "display_data"
    }
   ],
   "source": [
    "fig, ax = plt.subplots()\n",
    "ax.set_aspect(aspect='equal')\n",
    "\n",
    "for p in [\n",
    "    patches.Rectangle(\n",
    "        (0.1, 0.1), 0.2, 0.6, fill=False,\n",
    "        linewidth=None\n",
    "    ),\n",
    "    patches.Rectangle(\n",
    "        (0.4, 0.1), 0.2, 0.6, fill=False,\n",
    "        linewidth=0\n",
    "    ),\n",
    "    patches.Rectangle(\n",
    "        (0.7, 0.1), 0.2, 0.6, fill=False,\n",
    "        linewidth=0.5\n",
    "    ),\n",
    "    patches.Rectangle(\n",
    "        (1.0, 0.1), 0.2, 0.6, fill=False,\n",
    "        linewidth=3\n",
    "    ),\n",
    "]:\n",
    "    ax.add_patch(p)\n",
    "    \n",
    "ax.set_xlim(0,1.5)\n",
    "plt.show()"
   ]
  },
  {
   "cell_type": "markdown",
   "metadata": {},
   "source": [
    "#### Different types of linestyles\n",
    "This defines the type of line representing the edge"
   ]
  },
  {
   "cell_type": "code",
   "execution_count": 12,
   "metadata": {},
   "outputs": [
    {
     "data": {
      "image/png": "[encoded data removed]",
      "text/plain": [
       "<matplotlib.figure.Figure at 0x115532898>"
      ]
     },
     "metadata": {},
     "output_type": "display_data"
    }
   ],
   "source": [
    "fig, ax = plt.subplots()\n",
    "ax.set_aspect(aspect='equal')\n",
    "\n",
    "for p in [\n",
    "    patches.Rectangle(\n",
    "        (0.1, 0.1), 0.2, 0.6, fill=False,\n",
    "        linestyle='solid'   # Default\n",
    "    ),\n",
    "    patches.Rectangle(\n",
    "        (0.4, 0.1), 0.2, 0.6, fill=False,\n",
    "        linestyle='dashed'\n",
    "    ),\n",
    "    patches.Rectangle(\n",
    "        (0.7, 0.1), 0.2, 0.6, fill=False,\n",
    "        linestyle='dashdot'\n",
    "    ),\n",
    "    patches.Rectangle(\n",
    "        (1.0, 0.1), 0.2, 0.6, fill=False,\n",
    "        linestyle='dotted'\n",
    "    ),\n",
    "]:\n",
    "    ax.add_patch(p)\n",
    "    \n",
    "ax.set_xlim(0,1.5)\n",
    "plt.show()"
   ]
  },
  {
   "cell_type": "markdown",
   "metadata": {},
   "source": [
    "#### Circles\n",
    "* The parameters when drawing a circle are the center coordinates and the radius\n",
    "* The hatch and facecolor work the same way as they do for rectangles"
   ]
  },
  {
   "cell_type": "code",
   "execution_count": 13,
   "metadata": {},
   "outputs": [
    {
     "data": {
      "image/png": "[encoded data removed]",
      "text/plain": [
       "<matplotlib.figure.Figure at 0x11560a550>"
      ]
     },
     "metadata": {},
     "output_type": "display_data"
    }
   ],
   "source": [
    "fig, ax = plt.subplots()\n",
    "ax.set_aspect(aspect='equal')\n",
    "\n",
    "for p in [\n",
    "    patches.Circle(\n",
    "        (0.1, 0.4), 0.1,\n",
    "        hatch='/'\n",
    "    ),\n",
    "    patches.Circle(\n",
    "        (0.5, 0.4), 0.1,\n",
    "        hatch='*',\n",
    "        facecolor='red'\n",
    "    ),\n",
    "    patches.Circle(\n",
    "        (0.9, 0.4), 0.1,\n",
    "        hatch='\\\\',\n",
    "        facecolor='green'\n",
    "    ),\n",
    "    patches.Circle(\n",
    "        (0.5, 0.7), 0.1,\n",
    "        hatch='//',\n",
    "        fill=False \n",
    "    ),\n",
    "]:\n",
    "    ax.add_patch(p)\n",
    "    \n",
    "plt.show()"
   ]
  },
  {
   "cell_type": "markdown",
   "metadata": {},
   "source": [
    "#### The color parameter and setting the hatch color\n",
    "* The color parameter is used to set the facecolor, edgecolor and hatch color - hence the hatch pattern cannot be seen for the green circle\n",
    "* Note that the edgecolor and hatch color are the same - there is no separate hatchcolor attribute"
   ]
  },
  {
   "cell_type": "code",
   "execution_count": 14,
   "metadata": {},
   "outputs": [
    {
     "data": {
      "image/png": "[encoded data removed]",
      "text/plain": [
       "<matplotlib.figure.Figure at 0x115254588>"
      ]
     },
     "metadata": {},
     "output_type": "display_data"
    }
   ],
   "source": [
    "fig, ax = plt.subplots()\n",
    "ax.set_aspect(aspect='equal')\n",
    "\n",
    "for p in [\n",
    "    patches.Circle(\n",
    "        (0.1, 0.4), 0.1,\n",
    "        hatch='/'\n",
    "    ),\n",
    "    patches.Circle(\n",
    "        (0.5, 0.4), 0.1,\n",
    "        hatch='*',\n",
    "        facecolor='red'\n",
    "    ),\n",
    "    patches.Circle(\n",
    "        (0.9, 0.4), 0.1,\n",
    "        hatch='\\\\',\n",
    "        color='green'\n",
    "    ),\n",
    "    patches.Circle(\n",
    "        (0.5, 0.7), 0.1,\n",
    "        hatch='//',\n",
    "        fill=False,\n",
    "        edgecolor = 'blue'\n",
    "    ),\n",
    "]:\n",
    "    ax.add_patch(p)\n",
    "    \n",
    "plt.show()"
   ]
  },
  {
   "cell_type": "markdown",
   "metadata": {},
   "source": [
    "#### Polygons\n",
    "The patches module can also draw other 2-D shapes such as a polygon\n",
    "* The parameters include a 2-D array with the x,y coordinates of the polygon vertices\n",
    "* The points are listed in sequential order. i.e. point 1 will connect to point 2 which is connected to point 3 etc. \n",
    "* By default, the polygon is 'closed' - the last point is connected to the first point\n"
   ]
  },
  {
   "cell_type": "code",
   "execution_count": 15,
   "metadata": {},
   "outputs": [
    {
     "data": {
      "image/png": "[encoded data removed]",
      "text/plain": [
       "<matplotlib.figure.Figure at 0x1155328d0>"
      ]
     },
     "metadata": {},
     "output_type": "display_data"
    }
   ],
   "source": [
    "fig, ax = plt.subplots()\n",
    "ax.set_aspect(aspect='equal')\n",
    "\n",
    "polygon = patches.Polygon([[0.1, 0.1],\n",
    "                           [0.2, 0.8], \n",
    "                           [0.5, 0.7], \n",
    "                           [0.8, 0.1], \n",
    "                           [0.4, 0.3]],\n",
    "                          fill=False)\n",
    "                   \n",
    "ax.add_patch(polygon)\n",
    "    \n",
    "plt.show()\n",
    "                   "
   ]
  },
  {
   "cell_type": "markdown",
   "metadata": {},
   "source": [
    "#### \"Open\" polygon\n",
    "In this case the first and last points are not automatically connected"
   ]
  },
  {
   "cell_type": "code",
   "execution_count": 17,
   "metadata": {},
   "outputs": [
    {
     "data": {
      "image/png": "[encoded data removed]",
      "text/plain": [
       "<matplotlib.figure.Figure at 0x11540b5f8>"
      ]
     },
     "metadata": {},
     "output_type": "display_data"
    }
   ],
   "source": [
    "fig, ax = plt.subplots()\n",
    "ax.set_aspect(aspect='equal')\n",
    "\n",
    "polygon = patches.Polygon([[0.1, 0.1],\n",
    "                           [0.2, 0.8], \n",
    "                           [0.5, 0.7], \n",
    "                           [0.8, 0.1], \n",
    "                           [0.4, 0.3]],\n",
    "                          closed=False,\n",
    "                          fill=False)\n",
    "                   \n",
    "ax.add_patch(polygon)\n",
    "    \n",
    "plt.show()           "
   ]
  },
  {
   "cell_type": "markdown",
   "metadata": {},
   "source": [
    "#### Arrows\n",
    "* The patches module can also generate other 2-D shapes such as arrows\n",
    "* Note these are not arrow lines - but 2-D arrow shapes"
   ]
  },
  {
   "cell_type": "markdown",
   "metadata": {},
   "source": [
    "4 parameters are required:\n",
    "* The first two are the x,y coordinates of the center of the arrow tail\n",
    "* The next two are the x,y coordinates of the base (not the tip) of the arrow head "
   ]
  },
  {
   "cell_type": "code",
   "execution_count": 18,
   "metadata": {},
   "outputs": [
    {
     "data": {
      "image/png": "[encoded data removed]",
      "text/plain": [
       "<matplotlib.figure.Figure at 0x11568a518>"
      ]
     },
     "metadata": {},
     "output_type": "display_data"
    }
   ],
   "source": [
    "fig, ax = plt.subplots()\n",
    "ax.set_aspect(aspect='equal')\n",
    "\n",
    "polygon = patches.Arrow(0.1, 0.2, \n",
    "                        0.7, 0.7)\n",
    "\n",
    "ax.add_patch(polygon)\n",
    "    \n",
    "plt.show()"
   ]
  },
  {
   "cell_type": "markdown",
   "metadata": {},
   "source": [
    "#### Arrow width\n",
    "* The default arrow width is 1.0 which equates to 0.2 on the axis at the tail and 0.6 at the head\n",
    "* Here we halve the width to 0.5 which is 0.1 at the tail and 0.3 at the head"
   ]
  },
  {
   "cell_type": "code",
   "execution_count": 19,
   "metadata": {},
   "outputs": [
    {
     "data": {
      "image/png": "[encoded data removed]",
      "text/plain": [
       "<matplotlib.figure.Figure at 0x115813f28>"
      ]
     },
     "metadata": {},
     "output_type": "display_data"
    }
   ],
   "source": [
    "fig, ax = plt.subplots()\n",
    "ax.set_aspect(aspect='equal')\n",
    "\n",
    "polygon = patches.Arrow(0.1, 0.2, \n",
    "                        0.7, 0.7,\n",
    "                        width=0.5)\n",
    "\n",
    "ax.add_patch(polygon)\n",
    "    \n",
    "plt.show()"
   ]
  },
  {
   "cell_type": "code",
   "execution_count": null,
   "metadata": {
    "collapsed": true
   },
   "outputs": [],
   "source": []
  }
 ],
 "metadata": {
  "kernelspec": {
   "display_name": "Python 3",
   "language": "python",
   "name": "python3"
  },
  "language_info": {
   "codemirror_mode": {
    "name": "ipython",
    "version": 3
   },
   "file_extension": ".py",
   "mimetype": "text/x-python",
   "name": "python",
   "nbconvert_exporter": "python",
   "pygments_lexer": "ipython3",
   "version": "3.6.4"
  }
 },
 "nbformat": 4,
 "nbformat_minor": 2
}
