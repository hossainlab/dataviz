{
 "cells": [
  {
   "cell_type": "code",
   "execution_count": 1,
   "metadata": {},
   "outputs": [
    {
     "data": {
      "text/plain": [
       "True"
      ]
     },
     "execution_count": 1,
     "metadata": {},
     "output_type": "execute_result"
    }
   ],
   "source": [
    "import numpy as np\n",
    "import matplotlib\n",
    "import matplotlib.pyplot as plt\n",
    "\n",
    "matplotlib.interactive(True)\n",
    "plt.ion()\n",
    "matplotlib.is_interactive()"
   ]
  },
  {
   "cell_type": "markdown",
   "metadata": {},
   "source": [
    "#### Create an array of integers for our boxplot"
   ]
  },
  {
   "cell_type": "code",
   "execution_count": 2,
   "metadata": {},
   "outputs": [
    {
     "data": {
      "text/plain": [
       "array([ 2,  5,  6,  7,  7,  7,  8, 10, 10, 11, 11, 11, 13, 13, 15, 15, 16,\n",
       "       17, 18, 19])"
      ]
     },
     "execution_count": 2,
     "metadata": {},
     "output_type": "execute_result"
    }
   ],
   "source": [
    "x = np.random.randint(low=0, high=20, size=20)\n",
    "x.sort()\n",
    "x"
   ]
  },
  {
   "cell_type": "markdown",
   "metadata": {},
   "source": [
    "#### Create a boxplot\n",
    "* The box represents the data in the middle two quartiles of the range (25th percentile to 75th percentile)\n",
    "* The horizontal colorful line in the middle is the median\n",
    "* The lines outside the box (called whiskers) represent the range of values in the distribution - but not the outliers"
   ]
  },
  {
   "cell_type": "code",
   "execution_count": 3,
   "metadata": {
    "scrolled": true
   },
   "outputs": [
    {
     "data": {
      "image/png": "[encoded data removed]",
      "text/plain": [
       "<matplotlib.figure.Figure at 0x1124b3e10>"
      ]
     },
     "metadata": {
      "filenames": {
       "image/png": "/home/jubayer/WebSites/Writings/ds-books/DataViz/book/_build/jupyter_execute/matplotlib/12_Boxplots_Violinplots_4_0.png"
      }
     },
     "output_type": "display_data"
    }
   ],
   "source": [
    "plt.boxplot(x)\n",
    "\n",
    "plt.show()"
   ]
  },
  {
   "cell_type": "markdown",
   "metadata": {},
   "source": [
    "#### Appending a high value at the end to view the change in the boxplot\n",
    "The top whisker gets elongated to include the new data. The box and the median should also change slightly"
   ]
  },
  {
   "cell_type": "code",
   "execution_count": 4,
   "metadata": {},
   "outputs": [
    {
     "data": {
      "image/png": "[encoded data removed]",
      "text/plain": [
       "<matplotlib.figure.Figure at 0x1144af4e0>"
      ]
     },
     "metadata": {
      "filenames": {
       "image/png": "/home/jubayer/WebSites/Writings/ds-books/DataViz/book/_build/jupyter_execute/matplotlib/12_Boxplots_Violinplots_6_0.png"
      }
     },
     "output_type": "display_data"
    }
   ],
   "source": [
    "x = np.append(x, 22)\n",
    "\n",
    "plt.boxplot(x) \n",
    "\n",
    "plt.show()\n"
   ]
  },
  {
   "cell_type": "markdown",
   "metadata": {},
   "source": [
    "#### Outliers are separate from the box and whiskers\n",
    "A circle will be used to denote outliers in the data"
   ]
  },
  {
   "cell_type": "code",
   "execution_count": 5,
   "metadata": {},
   "outputs": [
    {
     "data": {
      "image/png": "[encoded data removed]",
      "text/plain": [
       "<matplotlib.figure.Figure at 0x11d4379b0>"
      ]
     },
     "metadata": {
      "filenames": {
       "image/png": "/home/jubayer/WebSites/Writings/ds-books/DataViz/book/_build/jupyter_execute/matplotlib/12_Boxplots_Violinplots_8_0.png"
      }
     },
     "output_type": "display_data"
    }
   ],
   "source": [
    "x = np.append(x, 37)\n",
    "x = np.append(x, 40)\n",
    "\n",
    "plt.boxplot(x) \n",
    "\n",
    "plt.show()"
   ]
  },
  {
   "cell_type": "markdown",
   "metadata": {},
   "source": [
    "#### The boxplot can be oriented horizontally"
   ]
  },
  {
   "cell_type": "code",
   "execution_count": 6,
   "metadata": {},
   "outputs": [
    {
     "data": {
      "image/png": "[encoded data removed]",
      "text/plain": [
       "<matplotlib.figure.Figure at 0x11d5a9198>"
      ]
     },
     "metadata": {
      "filenames": {
       "image/png": "/home/jubayer/WebSites/Writings/ds-books/DataViz/book/_build/jupyter_execute/matplotlib/12_Boxplots_Violinplots_10_0.png"
      }
     },
     "output_type": "display_data"
    }
   ],
   "source": [
    "plt.boxplot(x, vert=False) \n",
    "\n",
    "plt.show()"
   ]
  },
  {
   "cell_type": "markdown",
   "metadata": {},
   "source": [
    "#### A notch can be added to the box around the median\n",
    "This is to make the median more prominent"
   ]
  },
  {
   "cell_type": "code",
   "execution_count": 7,
   "metadata": {},
   "outputs": [
    {
     "data": {
      "image/png": "[encoded data removed]",
      "text/plain": [
       "<matplotlib.figure.Figure at 0x11d5d8e48>"
      ]
     },
     "metadata": {
      "filenames": {
       "image/png": "/home/jubayer/WebSites/Writings/ds-books/DataViz/book/_build/jupyter_execute/matplotlib/12_Boxplots_Violinplots_12_0.png"
      }
     },
     "output_type": "display_data"
    }
   ],
   "source": [
    "plt.boxplot(x, \n",
    "            vert=False,\n",
    "            notch=True) \n",
    "\n",
    "plt.show()"
   ]
  },
  {
   "cell_type": "markdown",
   "metadata": {},
   "source": [
    "#### The outliers/fliers can be hidden from the boxplot\n",
    "Note that the values of the median, and the quartile ranges does not change - the outlier/flier values still affect those. Those fliers are just not visible in the plot"
   ]
  },
  {
   "cell_type": "code",
   "execution_count": 8,
   "metadata": {},
   "outputs": [
    {
     "data": {
      "image/png": "[encoded data removed]",
      "text/plain": [
       "<matplotlib.figure.Figure at 0x11d68b1d0>"
      ]
     },
     "metadata": {
      "filenames": {
       "image/png": "/home/jubayer/WebSites/Writings/ds-books/DataViz/book/_build/jupyter_execute/matplotlib/12_Boxplots_Violinplots_14_0.png"
      }
     },
     "output_type": "display_data"
    }
   ],
   "source": [
    "plt.boxplot(x, \n",
    "            vert=False,\n",
    "            notch=True,\n",
    "            showfliers=False) \n",
    "\n",
    "plt.show()"
   ]
  },
  {
   "cell_type": "markdown",
   "metadata": {},
   "source": [
    "### Formatting the boxplot"
   ]
  },
  {
   "cell_type": "markdown",
   "metadata": {},
   "source": [
    "#### Convert the box to a PathPatch object\n",
    "By default it is a Line2D object which limits formatting options. We convert to a PathPatch by setting the patch_artist of the boxplot to true. <br />\n",
    "Here, we also view all the components of a boxplot"
   ]
  },
  {
   "cell_type": "code",
   "execution_count": 9,
   "metadata": {},
   "outputs": [
    {
     "data": {
      "text/plain": [
       "{'boxes': [<matplotlib.patches.PathPatch at 0x11d88f860>],\n",
       " 'caps': [<matplotlib.lines.Line2D at 0x11d8980f0>,\n",
       "  <matplotlib.lines.Line2D at 0x11d898518>],\n",
       " 'fliers': [<matplotlib.lines.Line2D at 0x11d898d68>],\n",
       " 'means': [],\n",
       " 'medians': [<matplotlib.lines.Line2D at 0x11d898940>],\n",
       " 'whiskers': [<matplotlib.lines.Line2D at 0x11d88fac8>,\n",
       "  <matplotlib.lines.Line2D at 0x11d88fc18>]}"
      ]
     },
     "execution_count": 9,
     "metadata": {},
     "output_type": "execute_result"
    },
    {
     "data": {
      "image/png": "[encoded data removed]",
      "text/plain": [
       "<matplotlib.figure.Figure at 0x11d7e8b00>"
      ]
     },
     "metadata": {
      "filenames": {
       "image/png": "/home/jubayer/WebSites/Writings/ds-books/DataViz/book/_build/jupyter_execute/matplotlib/12_Boxplots_Violinplots_17_1.png"
      }
     },
     "output_type": "display_data"
    }
   ],
   "source": [
    "bp = plt.boxplot(x, patch_artist=True) \n",
    "bp"
   ]
  },
  {
   "cell_type": "markdown",
   "metadata": {},
   "source": [
    "#### View the number of each boxplot component\n",
    "There are two whiskers (lower and upper in that order), two caps(lower and upper in that order) and one of each other component. Even though the data has two outlier points, there is one object which represents them"
   ]
  },
  {
   "cell_type": "code",
   "execution_count": 10,
   "metadata": {},
   "outputs": [
    {
     "name": "stdout",
     "output_type": "stream",
     "text": [
      "Number of boxes:  1\n",
      "Number of whiskers:  2\n",
      "Number of caps:  2\n",
      "Number of medians:  1\n",
      "Number of fliers:  1\n"
     ]
    }
   ],
   "source": [
    "print('Number of boxes: ', len(bp['boxes']))\n",
    "print('Number of whiskers: ', len(bp['whiskers']))\n",
    "print('Number of caps: ', len(bp['caps']))\n",
    "print('Number of medians: ', len(bp['medians']))\n",
    "print('Number of fliers: ', len(bp['fliers']))"
   ]
  },
  {
   "cell_type": "markdown",
   "metadata": {},
   "source": [
    "#### We set the color of the box"
   ]
  },
  {
   "cell_type": "code",
   "execution_count": 11,
   "metadata": {},
   "outputs": [
    {
     "data": {
      "text/plain": [
       "[None, None, None]"
      ]
     },
     "execution_count": 11,
     "metadata": {},
     "output_type": "execute_result"
    },
    {
     "data": {
      "image/png": "[encoded data removed]",
      "text/plain": [
       "<matplotlib.figure.Figure at 0x11d7e8c50>"
      ]
     },
     "metadata": {
      "filenames": {
       "image/png": "/home/jubayer/WebSites/Writings/ds-books/DataViz/book/_build/jupyter_execute/matplotlib/12_Boxplots_Violinplots_21_1.png"
      }
     },
     "output_type": "display_data"
    }
   ],
   "source": [
    "bp = plt.boxplot(x, patch_artist=True) \n",
    "\n",
    "bp['boxes'][0].set(facecolor='lightyellow', \n",
    "                   edgecolor='maroon', \n",
    "                   hatch='.')"
   ]
  },
  {
   "cell_type": "markdown",
   "metadata": {},
   "source": [
    "#### Define the whiskers\n",
    "Whisker #0 is the bottom one, #1 is above the box"
   ]
  },
  {
   "cell_type": "code",
   "execution_count": 12,
   "metadata": {},
   "outputs": [
    {
     "data": {
      "text/plain": [
       "[None]"
      ]
     },
     "execution_count": 12,
     "metadata": {},
     "output_type": "execute_result"
    },
    {
     "data": {
      "image/png": "[encoded data removed]",
      "text/plain": [
       "<matplotlib.figure.Figure at 0x11d80bcf8>"
      ]
     },
     "metadata": {
      "filenames": {
       "image/png": "/home/jubayer/WebSites/Writings/ds-books/DataViz/book/_build/jupyter_execute/matplotlib/12_Boxplots_Violinplots_23_1.png"
      }
     },
     "output_type": "display_data"
    }
   ],
   "source": [
    "bp = plt.boxplot(x, patch_artist=True) \n",
    "\n",
    "bp['boxes'][0].set(facecolor='lightyellow', \n",
    "                   edgecolor='maroon', \n",
    "                   hatch='.')\n",
    "\n",
    "bp['whiskers'][0].set(color='red', \n",
    "                      linewidth=2)\n",
    "\n",
    "bp['whiskers'][1].set(color='blue')"
   ]
  },
  {
   "cell_type": "markdown",
   "metadata": {},
   "source": [
    "#### Define the caps\n",
    "Caps are the horizontal lines at the ends of the whiskers. Cap #0 is at the end of whisker #0 and whisker and cap #1 are also attached"
   ]
  },
  {
   "cell_type": "code",
   "execution_count": 13,
   "metadata": {},
   "outputs": [
    {
     "data": {
      "text/plain": [
       "[None, None]"
      ]
     },
     "execution_count": 13,
     "metadata": {},
     "output_type": "execute_result"
    },
    {
     "data": {
      "image/png": "[encoded data removed]",
      "text/plain": [
       "<matplotlib.figure.Figure at 0x11d7eca90>"
      ]
     },
     "metadata": {
      "filenames": {
       "image/png": "/home/jubayer/WebSites/Writings/ds-books/DataViz/book/_build/jupyter_execute/matplotlib/12_Boxplots_Violinplots_25_1.png"
      }
     },
     "output_type": "display_data"
    }
   ],
   "source": [
    "bp = plt.boxplot(x, patch_artist=True) \n",
    "\n",
    "bp['boxes'][0].set(facecolor='lightyellow', \n",
    "                   edgecolor='maroon', \n",
    "                   hatch='.')\n",
    "\n",
    "bp['whiskers'][0].set(color='red', \n",
    "                      linewidth=2)\n",
    "\n",
    "bp['whiskers'][1].set(color='blue')\n",
    "\n",
    "bp['caps'][0].set(color='purple')\n",
    "\n",
    "bp['caps'][1].set(color='pink',\n",
    "                  linewidth=2)"
   ]
  },
  {
   "cell_type": "markdown",
   "metadata": {},
   "source": [
    "#### Define the outlier plots\n",
    "Outliers are termed \"fliers\" in boxplots. We can set the format for these as well"
   ]
  },
  {
   "cell_type": "code",
   "execution_count": 15,
   "metadata": {},
   "outputs": [
    {
     "data": {
      "text/plain": [
       "[None, None]"
      ]
     },
     "execution_count": 15,
     "metadata": {},
     "output_type": "execute_result"
    },
    {
     "data": {
      "image/png": "[encoded data removed]",
      "text/plain": [
       "<matplotlib.figure.Figure at 0x11d4fad30>"
      ]
     },
     "metadata": {
      "filenames": {
       "image/png": "/home/jubayer/WebSites/Writings/ds-books/DataViz/book/_build/jupyter_execute/matplotlib/12_Boxplots_Violinplots_27_1.png"
      }
     },
     "output_type": "display_data"
    }
   ],
   "source": [
    "bp = plt.boxplot(x, patch_artist=True) \n",
    "\n",
    "bp['boxes'][0].set(facecolor='lightyellow', \n",
    "                   edgecolor='maroon', \n",
    "                   hatch='/')\n",
    "\n",
    "bp['fliers'][0].set(marker='D', \n",
    "                    markerfacecolor='blue')"
   ]
  },
  {
   "cell_type": "markdown",
   "metadata": {},
   "source": [
    "#### Define the median line"
   ]
  },
  {
   "cell_type": "code",
   "execution_count": 18,
   "metadata": {},
   "outputs": [
    {
     "data": {
      "text/plain": [
       "[None, None]"
      ]
     },
     "execution_count": 18,
     "metadata": {},
     "output_type": "execute_result"
    },
    {
     "data": {
      "image/png": "[encoded data removed]",
      "text/plain": [
       "<matplotlib.figure.Figure at 0x11d659780>"
      ]
     },
     "metadata": {
      "filenames": {
       "image/png": "/home/jubayer/WebSites/Writings/ds-books/DataViz/book/_build/jupyter_execute/matplotlib/12_Boxplots_Violinplots_29_1.png"
      }
     },
     "output_type": "display_data"
    }
   ],
   "source": [
    "bp = plt.boxplot(x, patch_artist=True) \n",
    "\n",
    "bp['boxes'][0].set(facecolor='lightyellow', \n",
    "                   edgecolor='maroon')\n",
    "\n",
    "bp['medians'][0].set(linestyle='--', \n",
    "                     linewidth=3)"
   ]
  },
  {
   "cell_type": "markdown",
   "metadata": {},
   "source": [
    "### Using boxplots with real data\n",
    "We load student scores in Math, Reading and Writing.<br /> \n",
    "<b>Dataset source: </b>http://roycekimmons.com/system/generate_data.php?dataset=exams&n=100 "
   ]
  },
  {
   "cell_type": "markdown",
   "metadata": {},
   "source": [
    "#### Use Pandas to load the dataset"
   ]
  },
  {
   "cell_type": "code",
   "execution_count": 19,
   "metadata": {},
   "outputs": [],
   "source": [
    "import pandas as pd"
   ]
  },
  {
   "cell_type": "code",
   "execution_count": 20,
   "metadata": {},
   "outputs": [],
   "source": [
    "exam_data = pd.read_csv('datasets/exams.csv')"
   ]
  },
  {
   "cell_type": "code",
   "execution_count": 21,
   "metadata": {},
   "outputs": [
    {
     "data": {
      "text/html": [
       "<div>\n",
       "<style scoped>\n",
       "    .dataframe tbody tr th:only-of-type {\n",
       "        vertical-align: middle;\n",
       "    }\n",
       "\n",
       "    .dataframe tbody tr th {\n",
       "        vertical-align: top;\n",
       "    }\n",
       "\n",
       "    .dataframe thead th {\n",
       "        text-align: right;\n",
       "    }\n",
       "</style>\n",
       "<table border=\"1\" class=\"dataframe\">\n",
       "  <thead>\n",
       "    <tr style=\"text-align: right;\">\n",
       "      <th></th>\n",
       "      <th>gender</th>\n",
       "      <th>race/ethnicity</th>\n",
       "      <th>parental level of education</th>\n",
       "      <th>lunch</th>\n",
       "      <th>test preparation course</th>\n",
       "      <th>math score</th>\n",
       "      <th>reading score</th>\n",
       "      <th>writing score</th>\n",
       "    </tr>\n",
       "  </thead>\n",
       "  <tbody>\n",
       "    <tr>\n",
       "      <th>0</th>\n",
       "      <td>male</td>\n",
       "      <td>group C</td>\n",
       "      <td>some high school</td>\n",
       "      <td>free/reduced</td>\n",
       "      <td>none</td>\n",
       "      <td>69</td>\n",
       "      <td>61</td>\n",
       "      <td>58</td>\n",
       "    </tr>\n",
       "    <tr>\n",
       "      <th>1</th>\n",
       "      <td>female</td>\n",
       "      <td>group C</td>\n",
       "      <td>some college</td>\n",
       "      <td>free/reduced</td>\n",
       "      <td>completed</td>\n",
       "      <td>47</td>\n",
       "      <td>65</td>\n",
       "      <td>69</td>\n",
       "    </tr>\n",
       "    <tr>\n",
       "      <th>2</th>\n",
       "      <td>male</td>\n",
       "      <td>group A</td>\n",
       "      <td>high school</td>\n",
       "      <td>standard</td>\n",
       "      <td>none</td>\n",
       "      <td>66</td>\n",
       "      <td>52</td>\n",
       "      <td>53</td>\n",
       "    </tr>\n",
       "    <tr>\n",
       "      <th>3</th>\n",
       "      <td>male</td>\n",
       "      <td>group B</td>\n",
       "      <td>some college</td>\n",
       "      <td>standard</td>\n",
       "      <td>none</td>\n",
       "      <td>88</td>\n",
       "      <td>89</td>\n",
       "      <td>82</td>\n",
       "    </tr>\n",
       "    <tr>\n",
       "      <th>4</th>\n",
       "      <td>female</td>\n",
       "      <td>group C</td>\n",
       "      <td>master's degree</td>\n",
       "      <td>free/reduced</td>\n",
       "      <td>none</td>\n",
       "      <td>62</td>\n",
       "      <td>82</td>\n",
       "      <td>76</td>\n",
       "    </tr>\n",
       "  </tbody>\n",
       "</table>\n",
       "</div>"
      ],
      "text/plain": [
       "   gender race/ethnicity parental level of education         lunch  \\\n",
       "0    male        group C            some high school  free/reduced   \n",
       "1  female        group C                some college  free/reduced   \n",
       "2    male        group A                 high school      standard   \n",
       "3    male        group B                some college      standard   \n",
       "4  female        group C             master's degree  free/reduced   \n",
       "\n",
       "  test preparation course  math score  reading score  writing score  \n",
       "0                    none          69             61             58  \n",
       "1               completed          47             65             69  \n",
       "2                    none          66             52             53  \n",
       "3                    none          88             89             82  \n",
       "4                    none          62             82             76  "
      ]
     },
     "execution_count": 21,
     "metadata": {},
     "output_type": "execute_result"
    }
   ],
   "source": [
    "exam_data.head()"
   ]
  },
  {
   "cell_type": "markdown",
   "metadata": {},
   "source": [
    "#### We only extract the exam scores\n",
    "We will then use the data in our boxplot"
   ]
  },
  {
   "cell_type": "code",
   "execution_count": 22,
   "metadata": {},
   "outputs": [
    {
     "data": {
      "text/html": [
       "<div>\n",
       "<style scoped>\n",
       "    .dataframe tbody tr th:only-of-type {\n",
       "        vertical-align: middle;\n",
       "    }\n",
       "\n",
       "    .dataframe tbody tr th {\n",
       "        vertical-align: top;\n",
       "    }\n",
       "\n",
       "    .dataframe thead th {\n",
       "        text-align: right;\n",
       "    }\n",
       "</style>\n",
       "<table border=\"1\" class=\"dataframe\">\n",
       "  <thead>\n",
       "    <tr style=\"text-align: right;\">\n",
       "      <th></th>\n",
       "      <th>math score</th>\n",
       "      <th>reading score</th>\n",
       "      <th>writing score</th>\n",
       "    </tr>\n",
       "  </thead>\n",
       "  <tbody>\n",
       "    <tr>\n",
       "      <th>0</th>\n",
       "      <td>69</td>\n",
       "      <td>61</td>\n",
       "      <td>58</td>\n",
       "    </tr>\n",
       "    <tr>\n",
       "      <th>1</th>\n",
       "      <td>47</td>\n",
       "      <td>65</td>\n",
       "      <td>69</td>\n",
       "    </tr>\n",
       "    <tr>\n",
       "      <th>2</th>\n",
       "      <td>66</td>\n",
       "      <td>52</td>\n",
       "      <td>53</td>\n",
       "    </tr>\n",
       "    <tr>\n",
       "      <th>3</th>\n",
       "      <td>88</td>\n",
       "      <td>89</td>\n",
       "      <td>82</td>\n",
       "    </tr>\n",
       "    <tr>\n",
       "      <th>4</th>\n",
       "      <td>62</td>\n",
       "      <td>82</td>\n",
       "      <td>76</td>\n",
       "    </tr>\n",
       "  </tbody>\n",
       "</table>\n",
       "</div>"
      ],
      "text/plain": [
       "   math score  reading score  writing score\n",
       "0          69             61             58\n",
       "1          47             65             69\n",
       "2          66             52             53\n",
       "3          88             89             82\n",
       "4          62             82             76"
      ]
     },
     "execution_count": 22,
     "metadata": {},
     "output_type": "execute_result"
    }
   ],
   "source": [
    "exam_scores = exam_data[['math score', 'reading score', 'writing score']]\n",
    "exam_scores.head()"
   ]
  },
  {
   "cell_type": "markdown",
   "metadata": {},
   "source": [
    "#### Examine the data\n",
    "This will give an idea of what our box plot will look like"
   ]
  },
  {
   "cell_type": "code",
   "execution_count": 23,
   "metadata": {},
   "outputs": [
    {
     "data": {
      "text/html": [
       "<div>\n",
       "<style scoped>\n",
       "    .dataframe tbody tr th:only-of-type {\n",
       "        vertical-align: middle;\n",
       "    }\n",
       "\n",
       "    .dataframe tbody tr th {\n",
       "        vertical-align: top;\n",
       "    }\n",
       "\n",
       "    .dataframe thead th {\n",
       "        text-align: right;\n",
       "    }\n",
       "</style>\n",
       "<table border=\"1\" class=\"dataframe\">\n",
       "  <thead>\n",
       "    <tr style=\"text-align: right;\">\n",
       "      <th></th>\n",
       "      <th>math score</th>\n",
       "      <th>reading score</th>\n",
       "      <th>writing score</th>\n",
       "    </tr>\n",
       "  </thead>\n",
       "  <tbody>\n",
       "    <tr>\n",
       "      <th>count</th>\n",
       "      <td>100.000000</td>\n",
       "      <td>100.000000</td>\n",
       "      <td>100.000000</td>\n",
       "    </tr>\n",
       "    <tr>\n",
       "      <th>mean</th>\n",
       "      <td>67.150000</td>\n",
       "      <td>69.180000</td>\n",
       "      <td>67.780000</td>\n",
       "    </tr>\n",
       "    <tr>\n",
       "      <th>std</th>\n",
       "      <td>12.797865</td>\n",
       "      <td>13.832607</td>\n",
       "      <td>14.874954</td>\n",
       "    </tr>\n",
       "    <tr>\n",
       "      <th>min</th>\n",
       "      <td>36.000000</td>\n",
       "      <td>34.000000</td>\n",
       "      <td>33.000000</td>\n",
       "    </tr>\n",
       "    <tr>\n",
       "      <th>25%</th>\n",
       "      <td>56.000000</td>\n",
       "      <td>60.000000</td>\n",
       "      <td>57.750000</td>\n",
       "    </tr>\n",
       "    <tr>\n",
       "      <th>50%</th>\n",
       "      <td>68.000000</td>\n",
       "      <td>69.000000</td>\n",
       "      <td>68.500000</td>\n",
       "    </tr>\n",
       "    <tr>\n",
       "      <th>75%</th>\n",
       "      <td>76.000000</td>\n",
       "      <td>80.000000</td>\n",
       "      <td>77.250000</td>\n",
       "    </tr>\n",
       "    <tr>\n",
       "      <th>max</th>\n",
       "      <td>95.000000</td>\n",
       "      <td>99.000000</td>\n",
       "      <td>100.000000</td>\n",
       "    </tr>\n",
       "  </tbody>\n",
       "</table>\n",
       "</div>"
      ],
      "text/plain": [
       "       math score  reading score  writing score\n",
       "count  100.000000     100.000000     100.000000\n",
       "mean    67.150000      69.180000      67.780000\n",
       "std     12.797865      13.832607      14.874954\n",
       "min     36.000000      34.000000      33.000000\n",
       "25%     56.000000      60.000000      57.750000\n",
       "50%     68.000000      69.000000      68.500000\n",
       "75%     76.000000      80.000000      77.250000\n",
       "max     95.000000      99.000000     100.000000"
      ]
     },
     "execution_count": 23,
     "metadata": {},
     "output_type": "execute_result"
    }
   ],
   "source": [
    "exam_scores.describe()"
   ]
  },
  {
   "cell_type": "markdown",
   "metadata": {},
   "source": [
    "#### To use the data in a boxplot, we convert it to an array\n",
    "Numpy is nice enough to eliminate the header row"
   ]
  },
  {
   "cell_type": "code",
   "execution_count": 24,
   "metadata": {},
   "outputs": [
    {
     "data": {
      "text/plain": [
       "array([[ 69,  61,  58],\n",
       "       [ 47,  65,  69],\n",
       "       [ 66,  52,  53],\n",
       "       [ 88,  89,  82],\n",
       "       [ 62,  82,  76],\n",
       "       [ 47,  69,  60],\n",
       "       [ 71,  66,  74],\n",
       "       [ 57,  62,  60],\n",
       "       [ 60,  67,  65],\n",
       "       [ 74,  72,  76],\n",
       "       [ 77,  71,  67],\n",
       "       [ 69,  79,  83],\n",
       "       [ 65,  62,  56],\n",
       "       [ 55,  58,  51],\n",
       "       [ 78,  88,  91],\n",
       "       [ 70,  72,  72],\n",
       "       [ 55,  69,  55],\n",
       "       [ 68,  68,  62],\n",
       "       [ 73,  62,  58],\n",
       "       [ 54,  50,  51],\n",
       "       [ 81,  76,  77],\n",
       "       [ 70,  76,  73],\n",
       "       [ 64,  62,  63],\n",
       "       [ 51,  66,  63],\n",
       "       [ 49,  50,  43],\n",
       "       [ 83,  80,  82],\n",
       "       [ 86,  92,  81],\n",
       "       [ 83,  89,  94],\n",
       "       [ 61,  77,  68],\n",
       "       [ 55,  50,  44],\n",
       "       [ 56,  59,  55],\n",
       "       [ 46,  57,  61],\n",
       "       [ 68,  60,  52],\n",
       "       [ 78,  75,  69],\n",
       "       [ 85,  94,  93],\n",
       "       [ 95,  99,  95],\n",
       "       [ 82,  74,  78],\n",
       "       [ 94,  85,  96],\n",
       "       [ 64,  71,  68],\n",
       "       [ 70,  80,  85],\n",
       "       [ 84,  78,  84],\n",
       "       [ 62,  81,  73],\n",
       "       [ 52,  58,  53],\n",
       "       [ 89,  72,  74],\n",
       "       [ 64,  63,  63],\n",
       "       [ 74,  77,  72],\n",
       "       [ 50,  54,  54],\n",
       "       [ 86,  76,  82],\n",
       "       [ 53,  62,  64],\n",
       "       [ 36,  35,  33],\n",
       "       [ 64,  81,  75],\n",
       "       [ 71,  69,  74],\n",
       "       [ 73,  79,  77],\n",
       "       [ 80,  81,  72],\n",
       "       [ 75,  66,  67],\n",
       "       [ 64,  57,  51],\n",
       "       [ 68,  87,  77],\n",
       "       [ 73,  60,  65],\n",
       "       [ 77,  76,  69],\n",
       "       [ 85,  89,  85],\n",
       "       [ 77,  85,  82],\n",
       "       [ 53,  70,  72],\n",
       "       [ 48,  43,  42],\n",
       "       [ 91,  91, 100],\n",
       "       [ 67,  81,  85],\n",
       "       [ 74,  87,  88],\n",
       "       [ 70,  82,  78],\n",
       "       [ 65,  56,  58],\n",
       "       [ 75,  67,  63],\n",
       "       [ 63,  56,  49],\n",
       "       [ 86,  92,  94],\n",
       "       [ 76,  87,  85],\n",
       "       [ 56,  62,  67],\n",
       "       [ 48,  61,  64],\n",
       "       [ 67,  62,  60],\n",
       "       [ 80,  86,  88],\n",
       "       [ 77,  73,  74],\n",
       "       [ 51,  58,  53],\n",
       "       [ 71,  80,  84],\n",
       "       [ 59,  67,  72],\n",
       "       [ 69,  62,  57],\n",
       "       [ 74,  71,  71],\n",
       "       [ 63,  68,  65],\n",
       "       [ 68,  54,  50],\n",
       "       [ 69,  79,  73],\n",
       "       [ 75,  86,  89],\n",
       "       [ 79,  81,  74],\n",
       "       [ 51,  36,  44],\n",
       "       [ 59,  60,  56],\n",
       "       [ 49,  55,  49],\n",
       "       [ 76,  76,  69],\n",
       "       [ 75,  78,  77],\n",
       "       [ 54,  45,  43],\n",
       "       [ 45,  63,  65],\n",
       "       [ 75,  75,  78],\n",
       "       [ 56,  59,  61],\n",
       "       [ 64,  57,  62],\n",
       "       [ 62,  48,  38],\n",
       "       [ 44,  34,  36],\n",
       "       [ 48,  48,  40]])"
      ]
     },
     "execution_count": 24,
     "metadata": {},
     "output_type": "execute_result"
    }
   ],
   "source": [
    "exam_scores_array = np.array(exam_scores)\n",
    "exam_scores_array"
   ]
  },
  {
   "cell_type": "markdown",
   "metadata": {},
   "source": [
    "#### Draw the boxplot to represent the exam scores"
   ]
  },
  {
   "cell_type": "code",
   "execution_count": 25,
   "metadata": {},
   "outputs": [
    {
     "data": {
      "image/png": "[encoded data removed]",
      "text/plain": [
       "<matplotlib.figure.Figure at 0x11da28390>"
      ]
     },
     "metadata": {
      "filenames": {
       "image/png": "/home/jubayer/WebSites/Writings/ds-books/DataViz/book/_build/jupyter_execute/matplotlib/12_Boxplots_Violinplots_42_0.png"
      }
     },
     "output_type": "display_data"
    }
   ],
   "source": [
    "bp = plt.boxplot(exam_scores_array)\n",
    "\n",
    "plt.show()"
   ]
  },
  {
   "cell_type": "markdown",
   "metadata": {},
   "source": [
    "#### Components of the boxplot\n",
    "The number of each component should be 3 times what we saw in when we only had one set of data"
   ]
  },
  {
   "cell_type": "code",
   "execution_count": 28,
   "metadata": {},
   "outputs": [
    {
     "data": {
      "image/png": "[encoded data removed]",
      "text/plain": [
       "<matplotlib.figure.Figure at 0x11d5f3208>"
      ]
     },
     "metadata": {
      "filenames": {
       "image/png": "/home/jubayer/WebSites/Writings/ds-books/DataViz/book/_build/jupyter_execute/matplotlib/12_Boxplots_Violinplots_44_0.png"
      }
     },
     "output_type": "display_data"
    }
   ],
   "source": [
    "bp = plt.boxplot(exam_scores_array, \n",
    "                 patch_artist=True)"
   ]
  },
  {
   "cell_type": "code",
   "execution_count": 29,
   "metadata": {},
   "outputs": [
    {
     "name": "stdout",
     "output_type": "stream",
     "text": [
      "Number of boxes:  3\n",
      "Number of whiskers:  6\n",
      "Number of caps:  6\n",
      "Number of medians:  3\n",
      "Number of fliers:  3\n"
     ]
    }
   ],
   "source": [
    "print('Number of boxes: ', len(bp['boxes']))\n",
    "print('Number of whiskers: ', len(bp['whiskers']))\n",
    "print('Number of caps: ', len(bp['caps']))\n",
    "print('Number of medians: ', len(bp['medians']))\n",
    "print('Number of fliers: ', len(bp['fliers']))"
   ]
  },
  {
   "cell_type": "markdown",
   "metadata": {},
   "source": [
    "### Formatting this new boxplot"
   ]
  },
  {
   "cell_type": "markdown",
   "metadata": {},
   "source": [
    "#### The colors to use for the boxes"
   ]
  },
  {
   "cell_type": "code",
   "execution_count": 30,
   "metadata": {},
   "outputs": [],
   "source": [
    "colors = ['blue', 'grey', 'lawngreen']"
   ]
  },
  {
   "cell_type": "markdown",
   "metadata": {},
   "source": [
    "#### Set the formats\n",
    "We don't do much here - just set the facecolor for the box and the color for the top cap"
   ]
  },
  {
   "cell_type": "code",
   "execution_count": 31,
   "metadata": {},
   "outputs": [
    {
     "data": {
      "image/png": "[encoded data removed]",
      "text/plain": [
       "<matplotlib.figure.Figure at 0x11ee4e8d0>"
      ]
     },
     "metadata": {
      "filenames": {
       "image/png": "/home/jubayer/WebSites/Writings/ds-books/DataViz/book/_build/jupyter_execute/matplotlib/12_Boxplots_Violinplots_50_0.png"
      }
     },
     "output_type": "display_data"
    }
   ],
   "source": [
    "bp = plt.boxplot(exam_scores_array, \n",
    "                 patch_artist=True)\n",
    "\n",
    "for i in range(len(bp['boxes'])):\n",
    "    \n",
    "    bp['boxes'][i].set(facecolor=colors[i])\n",
    "    \n",
    "    bp['caps'][2*i + 1].set(color=colors[i])"
   ]
  },
  {
   "cell_type": "markdown",
   "metadata": {},
   "source": [
    "#### We set the xtick value to portray what the box plots represent"
   ]
  },
  {
   "cell_type": "code",
   "execution_count": 32,
   "metadata": {},
   "outputs": [
    {
     "data": {
      "text/plain": [
       "([<matplotlib.axis.XTick at 0x11ef4ccf8>,\n",
       "  <matplotlib.axis.XTick at 0x11d56b4a8>,\n",
       "  <matplotlib.axis.XTick at 0x11ef614a8>],\n",
       " <a list of 3 Text xticklabel objects>)"
      ]
     },
     "execution_count": 32,
     "metadata": {},
     "output_type": "execute_result"
    },
    {
     "data": {
      "image/png": "[encoded data removed]",
      "text/plain": [
       "<matplotlib.figure.Figure at 0x11ee7e7b8>"
      ]
     },
     "metadata": {
      "filenames": {
       "image/png": "/home/jubayer/WebSites/Writings/ds-books/DataViz/book/_build/jupyter_execute/matplotlib/12_Boxplots_Violinplots_52_1.png"
      }
     },
     "output_type": "display_data"
    }
   ],
   "source": [
    "bp = plt.boxplot(exam_scores_array, \n",
    "                 patch_artist=True)\n",
    "\n",
    "for i in range(len(bp['boxes'])):\n",
    "    \n",
    "    bp['boxes'][i].set(facecolor=colors[i])\n",
    "    \n",
    "    bp['caps'][2*i + 1].set(color=colors[i])\n",
    "    \n",
    "plt.xticks([1, 2, 3], ['Math', 'Reading', 'Writing'])"
   ]
  },
  {
   "cell_type": "markdown",
   "metadata": {},
   "source": [
    "### Violin Plots\n",
    "These are similar to boxplots, except they can show the density of the data points around a particular value with their widths"
   ]
  },
  {
   "cell_type": "markdown",
   "metadata": {},
   "source": [
    "#### Exam score distribution\n",
    "This allows us to visualise how the scores are spread out in each course: <br />\n",
    "* Math and Writing scores are densest around 70\n",
    "* Reading scores have the highest density at arund 60 but density gets only marginally lower all the way up to 80. Density drops significantly below 60"
   ]
  },
  {
   "cell_type": "code",
   "execution_count": 33,
   "metadata": {},
   "outputs": [
    {
     "data": {
      "image/png": "[encoded data removed]",
      "text/plain": [
       "<matplotlib.figure.Figure at 0x11ef3e860>"
      ]
     },
     "metadata": {
      "filenames": {
       "image/png": "/home/jubayer/WebSites/Writings/ds-books/DataViz/book/_build/jupyter_execute/matplotlib/12_Boxplots_Violinplots_55_0.png"
      }
     },
     "output_type": "display_data"
    }
   ],
   "source": [
    "vp = plt.violinplot(exam_scores_array)\n",
    "plt.show()"
   ]
  },
  {
   "cell_type": "markdown",
   "metadata": {},
   "source": [
    "#### Show median and xticks\n",
    "Use the showmedians parameter to display the median value on the plot (unlike boxplots, it's not visible by default). <br />\n",
    "Set the xticks just as we did in the boxplot"
   ]
  },
  {
   "cell_type": "code",
   "execution_count": 34,
   "metadata": {},
   "outputs": [
    {
     "data": {
      "image/png": "[encoded data removed]",
      "text/plain": [
       "<matplotlib.figure.Figure at 0x11ef3e898>"
      ]
     },
     "metadata": {
      "filenames": {
       "image/png": "/home/jubayer/WebSites/Writings/ds-books/DataViz/book/_build/jupyter_execute/matplotlib/12_Boxplots_Violinplots_57_0.png"
      }
     },
     "output_type": "display_data"
    }
   ],
   "source": [
    "vp = plt.violinplot(exam_scores_array,\n",
    "                    showmedians=True)\n",
    "\n",
    "plt.xticks([1, 2, 3], ['Math', 'Reading', 'Writing'])\n",
    "\n",
    "plt.show()"
   ]
  },
  {
   "cell_type": "markdown",
   "metadata": {},
   "source": [
    "### Formatting the violin plot"
   ]
  },
  {
   "cell_type": "markdown",
   "metadata": {},
   "source": [
    "#### We re-define the same plot, but oriented horizontally\n",
    "Note that we now set the yticks to display the subjects rather than xticks. <br />\n",
    "We also view the components of the violin plot"
   ]
  },
  {
   "cell_type": "code",
   "execution_count": 39,
   "metadata": {},
   "outputs": [
    {
     "data": {
      "text/plain": [
       "([<matplotlib.axis.YTick at 0x11d9ccc88>,\n",
       "  <matplotlib.axis.YTick at 0x11d9cc978>,\n",
       "  <matplotlib.axis.YTick at 0x11d9e55c0>],\n",
       " <a list of 3 Text yticklabel objects>)"
      ]
     },
     "execution_count": 39,
     "metadata": {},
     "output_type": "execute_result"
    },
    {
     "data": {
      "image/png": "[encoded data removed]",
      "text/plain": [
       "<matplotlib.figure.Figure at 0x11f03dd30>"
      ]
     },
     "metadata": {
      "filenames": {
       "image/png": "/home/jubayer/WebSites/Writings/ds-books/DataViz/book/_build/jupyter_execute/matplotlib/12_Boxplots_Violinplots_60_1.png"
      }
     },
     "output_type": "display_data"
    }
   ],
   "source": [
    "vp = plt.violinplot(exam_scores_array,\n",
    "                    showmedians=True,\n",
    "                    vert=False)\n",
    "\n",
    "plt.yticks([1, 2, 3], ['Math', 'Reading', 'Writing'])"
   ]
  },
  {
   "cell_type": "code",
   "execution_count": 40,
   "metadata": {},
   "outputs": [
    {
     "data": {
      "text/plain": [
       "{'bodies': [<matplotlib.collections.PolyCollection at 0x11d4dcbe0>,\n",
       "  <matplotlib.collections.PolyCollection at 0x11d4dc898>,\n",
       "  <matplotlib.collections.PolyCollection at 0x11d4dcac8>],\n",
       " 'cbars': <matplotlib.collections.LineCollection at 0x11ee62320>,\n",
       " 'cmaxes': <matplotlib.collections.LineCollection at 0x11d4dcc18>,\n",
       " 'cmedians': <matplotlib.collections.LineCollection at 0x11ee62f60>,\n",
       " 'cmins': <matplotlib.collections.LineCollection at 0x11d4dcda0>}"
      ]
     },
     "execution_count": 40,
     "metadata": {},
     "output_type": "execute_result"
    }
   ],
   "source": [
    "vp"
   ]
  },
  {
   "cell_type": "markdown",
   "metadata": {},
   "source": [
    "#### Not exactly the same as a Boxplot\n",
    "Only the \"bodies\" component is a list and can be compared to the \"boxes\" in a Boxplot"
   ]
  },
  {
   "cell_type": "code",
   "execution_count": 37,
   "metadata": {},
   "outputs": [
    {
     "data": {
      "image/png": "[encoded data removed]",
      "text/plain": [
       "<matplotlib.figure.Figure at 0x11f29a358>"
      ]
     },
     "metadata": {
      "filenames": {
       "image/png": "/home/jubayer/WebSites/Writings/ds-books/DataViz/book/_build/jupyter_execute/matplotlib/12_Boxplots_Violinplots_63_0.png"
      }
     },
     "output_type": "display_data"
    }
   ],
   "source": [
    "vp = plt.violinplot(exam_scores_array,\n",
    "                    showmedians=True,\n",
    "                    vert=False)\n",
    "\n",
    "plt.yticks([1, 2, 3], ['Math', 'Reading', 'Writing'])\n",
    "\n",
    "for i in range(len(vp['bodies'])):\n",
    "    \n",
    "    vp['bodies'][i].set(facecolor=colors[i]) "
   ]
  },
  {
   "cell_type": "markdown",
   "metadata": {},
   "source": [
    "#### The other Violinplot components\n",
    "Everything else is common for the entire plot - so we can't customize them individually for each violin (unlike in a Boxplot). We specify some formatting for each of these components which will apply to every violin"
   ]
  },
  {
   "cell_type": "code",
   "execution_count": 42,
   "metadata": {},
   "outputs": [
    {
     "data": {
      "text/plain": [
       "[None]"
      ]
     },
     "execution_count": 42,
     "metadata": {},
     "output_type": "execute_result"
    },
    {
     "data": {
      "image/png": "[encoded data removed]",
      "text/plain": [
       "<matplotlib.figure.Figure at 0x11d6008d0>"
      ]
     },
     "metadata": {
      "filenames": {
       "image/png": "/home/jubayer/WebSites/Writings/ds-books/DataViz/book/_build/jupyter_execute/matplotlib/12_Boxplots_Violinplots_65_1.png"
      }
     },
     "output_type": "display_data"
    }
   ],
   "source": [
    "vp = plt.violinplot(exam_scores_array,\n",
    "                    showmedians=True,\n",
    "                    vert=False)\n",
    "\n",
    "plt.yticks([1, 2, 3], ['Math', 'Reading', 'Writing'])\n",
    "\n",
    "for i in range(len(vp['bodies'])):\n",
    "    vp['bodies'][i].set(facecolor=colors[i]) \n",
    "    \n",
    "vp['cmaxes'].set(color='maroon')\n",
    "\n",
    "vp['cmins'].set(color='black')\n",
    "\n",
    "vp['cbars'].set(linestyle=':')\n",
    "\n",
    "vp['cmedians'].set(linewidth=6)"
   ]
  },
  {
   "cell_type": "markdown",
   "metadata": {},
   "source": [
    "#### Add a legend to the plot\n",
    "When adding a legend we pass the following data: <br />\n",
    "* <b>handles:</b> These represent Artists(lines/patches) in the plot for which legends are needed (the colors for these are automatically picked up by Matplotlib). Here we only include 2 of the 3 Patches in the legend\n",
    "* <b>labels:</b> These are the labels for the corresponding handles\n",
    "* <b>loc:</b> This is the location of the legend - we use this in conjunction with the bbox_to_anchor\n",
    "* <b>bbox_to_anchor:</b> The axis coordinates (on a 1x1 scale where (1,1) is the top right of the axis) at which the legend will be anchored from the \"loc\". In our example, the \"top left\" of the legend will be anchored to position (1,1) i.e. the top right of the axis"
   ]
  },
  {
   "cell_type": "code",
   "execution_count": 47,
   "metadata": {},
   "outputs": [
    {
     "data": {
      "text/plain": [
       "<matplotlib.legend.Legend at 0x11f7ec390>"
      ]
     },
     "execution_count": 47,
     "metadata": {},
     "output_type": "execute_result"
    },
    {
     "data": {
      "image/png": "[encoded data removed]",
      "text/plain": [
       "<matplotlib.figure.Figure at 0x11f6e7b00>"
      ]
     },
     "metadata": {
      "filenames": {
       "image/png": "/home/jubayer/WebSites/Writings/ds-books/DataViz/book/_build/jupyter_execute/matplotlib/12_Boxplots_Violinplots_67_1.png"
      }
     },
     "output_type": "display_data"
    }
   ],
   "source": [
    "vp = plt.violinplot(exam_scores_array,\n",
    "                    showmedians=True,\n",
    "                    vert=False)\n",
    "\n",
    "plt.yticks([1, 2, 3], ['Math', 'Reading', 'Writing'])\n",
    "\n",
    "for i in range(len(vp['bodies'])):\n",
    "    vp['bodies'][i].set(facecolor=colors[i]) \n",
    "    \n",
    "plt.legend(handles = [vp['bodies'][0], vp['bodies'][1]],\n",
    "           labels = ['Math', 'Reading'], \n",
    "           loc = 'upper left')"
   ]
  },
  {
   "cell_type": "code",
   "execution_count": 48,
   "metadata": {},
   "outputs": [
    {
     "data": {
      "text/plain": [
       "<matplotlib.legend.Legend at 0x11d56e198>"
      ]
     },
     "execution_count": 48,
     "metadata": {},
     "output_type": "execute_result"
    },
    {
     "data": {
      "image/png": "[encoded data removed]",
      "text/plain": [
       "<matplotlib.figure.Figure at 0x11f6e06a0>"
      ]
     },
     "metadata": {
      "filenames": {
       "image/png": "/home/jubayer/WebSites/Writings/ds-books/DataViz/book/_build/jupyter_execute/matplotlib/12_Boxplots_Violinplots_68_1.png"
      }
     },
     "output_type": "display_data"
    }
   ],
   "source": [
    "vp = plt.violinplot(exam_scores_array,\n",
    "                    showmedians=True,\n",
    "                    vert=False)\n",
    "\n",
    "plt.yticks([1, 2, 3], ['Math', 'Reading', 'Writing'])\n",
    "\n",
    "for i in range(len(vp['bodies'])):\n",
    "    vp['bodies'][i].set(facecolor=colors[i]) \n",
    "    \n",
    "plt.legend(handles = [vp['bodies'][0], vp['bodies'][1]],\n",
    "           labels = ['Math', 'Reading'], \n",
    "           loc = 'upper left',\n",
    "           bbox_to_anchor = (1,1))"
   ]
  },
  {
   "cell_type": "code",
   "execution_count": null,
   "metadata": {
    "collapsed": true
   },
   "outputs": [],
   "source": []
  }
 ],
 "metadata": {
  "kernelspec": {
   "display_name": "Python 3",
   "language": "python",
   "name": "python3"
  },
  "language_info": {
   "codemirror_mode": {
    "name": "ipython",
    "version": 3
   },
   "file_extension": ".py",
   "mimetype": "text/x-python",
   "name": "python",
   "nbconvert_exporter": "python",
   "pygments_lexer": "ipython3",
   "version": "3.8.3"
  },
  "latex_envs": {
   "LaTeX_envs_menu_present": true,
   "autoclose": false,
   "autocomplete": true,
   "bibliofile": "biblio.bib",
   "cite_by": "apalike",
   "current_citInitial": 1,
   "eqLabelWithNumbers": true,
   "eqNumInitial": 1,
   "hotkeys": {
    "equation": "Ctrl-E",
    "itemize": "Ctrl-I"
   },
   "labels_anchors": false,
   "latex_user_defs": false,
   "report_style_numbering": false,
   "user_envs_cfg": false
  }
 },
 "nbformat": 4,
 "nbformat_minor": 2
}