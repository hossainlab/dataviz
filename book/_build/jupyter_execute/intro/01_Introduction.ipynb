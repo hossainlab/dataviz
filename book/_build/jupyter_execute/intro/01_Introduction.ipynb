{
 "cells": [
  {
   "cell_type": "markdown",
   "metadata": {},
   "source": [
    "# Introduction to Data Visualizaion\n",
    "\n",
    "## Why is data visualization important?\n",
    "> “A picture is worth a thousand words”\n",
    "> Because of the way the human brain processes information, using charts or graphs to visualize large amounts of complex data is easier than poring over spreadsheets or reports. Data visualization is a quick, easy way to convey concepts in a universal manner – and you can experiment with different scenarios by making slight adjustments.\n",
    "\n",
    "\n",
    "## Types of Visualization\n",
    "In statistics, we generally have two kinds of visualization:\n",
    "\n",
    "* **Exploratory data visualization:** Exploring the data visually to find patterns among the data entities.\n",
    "\n",
    "* **Explanatory data visualization:** Showcasing the identified patterns using simple graphs.\n",
    "\n",
    "##  Grammar of Graphics\n",
    "|Component | Description|\n",
    "|----------|:-----------|\n",
    "|Data| The dataset being plotted|\n",
    "|Aesthetics|The scales onto which we plot our data|\n",
    "|Geometry | The visual elements used for our data|\n",
    "|Facet | Groups by which we divide the data|\n",
    "\n",
    "## Python Visualizaion Library\n",
    "* [Matplotlib](https://matplotlib.org/index.html)\n",
    "* [Seaborn](https://seaborn.pydata.org/tutorial.html#tutorial)\n",
    "* [Plotly](https://plotly.com/python/)\n",
    "* [Plotly Express](https://plotly.com/python/)\n",
    "* [Cufflinks](https://github.com/santosjorge/cufflinks)\n",
    "* [Plotnine](https://plotnine.readthedocs.io/en/stable/)\n"
   ]
  }
 ],
 "metadata": {
  "kernelspec": {
   "display_name": "Python 3",
   "language": "python",
   "name": "python3"
  },
  "language_info": {
   "codemirror_mode": {
    "name": "ipython",
    "version": 3
   },
   "file_extension": ".py",
   "mimetype": "text/x-python",
   "name": "python",
   "nbconvert_exporter": "python",
   "pygments_lexer": "ipython3",
   "version": "3.7.8"
  },
  "latex_envs": {
   "LaTeX_envs_menu_present": true,
   "autoclose": false,
   "autocomplete": true,
   "bibliofile": "biblio.bib",
   "cite_by": "apalike",
   "current_citInitial": 1,
   "eqLabelWithNumbers": true,
   "eqNumInitial": 1,
   "hotkeys": {
    "equation": "Ctrl-E",
    "itemize": "Ctrl-I"
   },
   "labels_anchors": false,
   "latex_user_defs": false,
   "report_style_numbering": false,
   "user_envs_cfg": false
  }
 },
 "nbformat": 4,
 "nbformat_minor": 4
}