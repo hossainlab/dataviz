{
 "cells": [
  {
   "cell_type": "code",
   "execution_count": 1,
   "metadata": {},
   "outputs": [
    {
     "data": {
      "text/plain": [
       "True"
      ]
     },
     "execution_count": 1,
     "metadata": {},
     "output_type": "execute_result"
    }
   ],
   "source": [
    "import matplotlib\n",
    "import matplotlib.pyplot as plt\n",
    "import matplotlib.patches as patches\n",
    "\n",
    "matplotlib.interactive(True)\n",
    "plt.ion()\n",
    "matplotlib.is_interactive()"
   ]
  },
  {
   "cell_type": "code",
   "execution_count": 2,
   "metadata": {},
   "outputs": [
    {
     "data": {
      "image/png": "[encoded data removed]",
      "text/plain": [
       "<Figure size 432x288 with 1 Axes>"
      ]
     },
     "metadata": {
      "needs_background": "light"
     },
     "output_type": "display_data"
    }
   ],
   "source": [
    "fig, ax = plt.subplots()\n",
    "\n",
    "ax.add_patch(\n",
    "    patches.Rectangle(\n",
    "        (0.1, 0.1),\n",
    "        0.5,\n",
    "        0.5,\n",
    "        fill=False \n",
    "    )\n",
    ")\n",
    "\n",
    "plt.show()"
   ]
  },
  {
   "cell_type": "code",
   "execution_count": 3,
   "metadata": {},
   "outputs": [
    {
     "data": {
      "image/png": "[encoded data removed]",
      "text/plain": [
       "<Figure size 432x288 with 1 Axes>"
      ]
     },
     "metadata": {
      "needs_background": "light"
     },
     "output_type": "display_data"
    }
   ],
   "source": [
    "fig, ax = plt.subplots()\n",
    "\n",
    "ax.set_aspect(aspect='equal')\n",
    "\n",
    "ax.add_patch(\n",
    "    patches.Rectangle(\n",
    "        (0.1, 0.1),\n",
    "        0.5,\n",
    "        0.5,\n",
    "        fill=False\n",
    "    )\n",
    ")\n",
    "\n",
    "plt.show()"
   ]
  },
  {
   "cell_type": "code",
   "execution_count": 4,
   "metadata": {},
   "outputs": [
    {
     "data": {
      "image/png": "[encoded data removed]",
      "text/plain": [
       "<Figure size 432x288 with 1 Axes>"
      ]
     },
     "metadata": {
      "needs_background": "light"
     },
     "output_type": "display_data"
    }
   ],
   "source": [
    "fig, ax = plt.subplots()\n",
    "ax.set_aspect(aspect='equal')\n",
    "\n",
    "ax.add_patch(\n",
    "    patches.Rectangle(\n",
    "        (0.1, 0.1),   \n",
    "        0.5,         \n",
    "        0.5,          \n",
    "        facecolor='yellow',\n",
    "        edgecolor='green'\n",
    "    )\n",
    ")\n",
    "\n",
    "plt.show()"
   ]
  },
  {
   "cell_type": "code",
   "execution_count": 5,
   "metadata": {},
   "outputs": [
    {
     "data": {
      "image/png": "[encoded data removed]",
      "text/plain": [
       "<Figure size 432x288 with 1 Axes>"
      ]
     },
     "metadata": {
      "needs_background": "light"
     },
     "output_type": "display_data"
    }
   ],
   "source": [
    "fig, ax = plt.subplots()\n",
    "ax.set_aspect(aspect='equal')\n",
    "\n",
    "for p in [\n",
    "    patches.Rectangle(\n",
    "        (0.1, 0.1), 0.3, 0.6,\n",
    "        hatch='.'\n",
    "    ),\n",
    "    patches.Rectangle(\n",
    "        (0.5, 0.1), 0.3, 0.6,\n",
    "        hatch='\\\\',\n",
    "        fill=False\n",
    "    ),\n",
    "]:\n",
    "    ax.add_patch(p)\n",
    "    \n",
    "plt.show()"
   ]
  },
  {
   "cell_type": "code",
   "execution_count": 6,
   "metadata": {},
   "outputs": [
    {
     "data": {
      "image/png": "[encoded data removed]",
      "text/plain": [
       "<Figure size 432x288 with 1 Axes>"
      ]
     },
     "metadata": {
      "needs_background": "light"
     },
     "output_type": "display_data"
    }
   ],
   "source": [
    "fig, ax = plt.subplots()\n",
    "ax.set_aspect(aspect='equal')\n",
    "\n",
    "for p in [\n",
    "    patches.Rectangle(\n",
    "        (0.1, 0.1), 0.2, 0.6,\n",
    "        alpha=None,\n",
    "    ),\n",
    "    patches.Rectangle(\n",
    "        (0.4, 0.1), 0.2, 0.6,\n",
    "        alpha=1.0\n",
    "    ),\n",
    "    patches.Rectangle(\n",
    "        (0.7, 0.1), 0.2, 0.6,\n",
    "        alpha=0.6\n",
    "    ),\n",
    "    patches.Rectangle(\n",
    "        (1.0, 0.1), 0.2, 0.6,\n",
    "        alpha=0.1\n",
    "    ),\n",
    "]:\n",
    "    ax.add_patch(p)\n",
    "\n",
    "plt.show()"
   ]
  },
  {
   "cell_type": "code",
   "execution_count": 7,
   "metadata": {},
   "outputs": [
    {
     "data": {
      "image/png": "[encoded data removed]",
      "text/plain": [
       "<Figure size 432x288 with 1 Axes>"
      ]
     },
     "metadata": {
      "needs_background": "light"
     },
     "output_type": "display_data"
    }
   ],
   "source": [
    "fig, ax = plt.subplots()\n",
    "ax.set_aspect(aspect='equal')\n",
    "\n",
    "for p in [\n",
    "    patches.Rectangle(\n",
    "        (0.1, 0.1), 0.2, 0.6,\n",
    "        alpha=None,\n",
    "    ),\n",
    "    patches.Rectangle(\n",
    "        (0.4, 0.1), 0.2, 0.6,\n",
    "        alpha=1.0\n",
    "    ),\n",
    "    patches.Rectangle(\n",
    "        (0.7, 0.1), 0.2, 0.6,\n",
    "        alpha=0.6\n",
    "    ),\n",
    "    patches.Rectangle(\n",
    "        (1.0, 0.1), 0.2, 0.6,\n",
    "        alpha=0.1\n",
    "    ),\n",
    "]:\n",
    "    ax.add_patch(p)\n",
    "\n",
    "ax.set_xlim(0,1.5)\n",
    "\n",
    "plt.show()"
   ]
  },
  {
   "cell_type": "code",
   "execution_count": 8,
   "metadata": {},
   "outputs": [
    {
     "data": {
      "image/png": "[encoded data removed]",
      "text/plain": [
       "<Figure size 432x288 with 1 Axes>"
      ]
     },
     "metadata": {
      "needs_background": "light"
     },
     "output_type": "display_data"
    }
   ],
   "source": [
    "fig, ax = plt.subplots()\n",
    "ax.set_aspect(aspect='equal')\n",
    "\n",
    "for p in [\n",
    "    patches.Rectangle(\n",
    "        (0.1, 0.1), 0.2, 0.6,\n",
    "        facecolor=None\n",
    "    ),\n",
    "    patches.Rectangle(\n",
    "        (0.4, 0.1), 0.2, 0.6,\n",
    "        facecolor='none'\n",
    "    ),\n",
    "    patches.Rectangle(\n",
    "        (0.7, 0.1), 0.2, 0.6,\n",
    "        facecolor='red'\n",
    "    ),\n",
    "    patches.Rectangle(\n",
    "        (1.0, 0.1), 0.2, 0.6,\n",
    "        facecolor='#00ffff'\n",
    "    ),\n",
    "]:\n",
    "    ax.add_patch(p)\n",
    "    \n",
    "ax.set_xlim(0,1.5)\n",
    "plt.show()"
   ]
  },
  {
   "cell_type": "code",
   "execution_count": 9,
   "metadata": {},
   "outputs": [
    {
     "data": {
      "image/png": "[encoded data removed]",
      "text/plain": [
       "<Figure size 432x288 with 1 Axes>"
      ]
     },
     "metadata": {
      "needs_background": "light"
     },
     "output_type": "display_data"
    }
   ],
   "source": [
    "fig, ax = plt.subplots()\n",
    "ax.set_aspect(aspect='equal')\n",
    "\n",
    "for p in [\n",
    "    patches.Rectangle(\n",
    "        (0.1, 0.1), 0.2, 0.6, fill=False,\n",
    "        edgecolor=None\n",
    "    ),\n",
    "    patches.Rectangle(\n",
    "        (0.4, 0.1), 0.2, 0.6, fill=False,\n",
    "        edgecolor='none'\n",
    "    ),\n",
    "    patches.Rectangle(\n",
    "        (0.7, 0.1), 0.2, 0.6, fill=False,\n",
    "        edgecolor='red'\n",
    "    ),\n",
    "    patches.Rectangle(\n",
    "        (1.0, 0.1), 0.2, 0.6, fill=False,\n",
    "        edgecolor='#00ffff'\n",
    "    ),\n",
    "]:\n",
    "    ax.add_patch(p)\n",
    "        \n",
    "ax.set_xlim(0,1.5)\n",
    "plt.show()"
   ]
  },
  {
   "cell_type": "code",
   "execution_count": 10,
   "metadata": {},
   "outputs": [
    {
     "data": {
      "image/png": "[encoded data removed]",
      "text/plain": [
       "<Figure size 432x288 with 1 Axes>"
      ]
     },
     "metadata": {
      "needs_background": "light"
     },
     "output_type": "display_data"
    }
   ],
   "source": [
    "fig, ax = plt.subplots()\n",
    "ax.set_aspect(aspect='equal')\n",
    "\n",
    "for p in [\n",
    "    patches.Rectangle(\n",
    "        (0.1, 0.1), 0.2, 0.6, fill=False,\n",
    "        linewidth=None\n",
    "    ),\n",
    "    patches.Rectangle(\n",
    "        (0.4, 0.1), 0.2, 0.6, fill=False,\n",
    "        linewidth=0\n",
    "    ),\n",
    "    patches.Rectangle(\n",
    "        (0.7, 0.1), 0.2, 0.6, fill=False,\n",
    "        linewidth=0.5\n",
    "    ),\n",
    "    patches.Rectangle(\n",
    "        (1.0, 0.1), 0.2, 0.6, fill=False,\n",
    "        linewidth=3\n",
    "    ),\n",
    "]:\n",
    "    ax.add_patch(p)\n",
    "    \n",
    "ax.set_xlim(0,1.5)\n",
    "plt.show()"
   ]
  },
  {
   "cell_type": "code",
   "execution_count": 11,
   "metadata": {},
   "outputs": [
    {
     "data": {
      "image/png": "[encoded data removed]",
      "text/plain": [
       "<Figure size 432x288 with 1 Axes>"
      ]
     },
     "metadata": {
      "needs_background": "light"
     },
     "output_type": "display_data"
    }
   ],
   "source": [
    "fig, ax = plt.subplots()\n",
    "ax.set_aspect(aspect='equal')\n",
    "\n",
    "for p in [\n",
    "    patches.Rectangle(\n",
    "        (0.1, 0.1), 0.2, 0.6, fill=False,\n",
    "        linestyle='solid'   # Default\n",
    "    ),\n",
    "    patches.Rectangle(\n",
    "        (0.4, 0.1), 0.2, 0.6, fill=False,\n",
    "        linestyle='dashed'\n",
    "    ),\n",
    "    patches.Rectangle(\n",
    "        (0.7, 0.1), 0.2, 0.6, fill=False,\n",
    "        linestyle='dashdot'\n",
    "    ),\n",
    "    patches.Rectangle(\n",
    "        (1.0, 0.1), 0.2, 0.6, fill=False,\n",
    "        linestyle='dotted'\n",
    "    ),\n",
    "]:\n",
    "    ax.add_patch(p)\n",
    "    \n",
    "ax.set_xlim(0,1.5)\n",
    "plt.show()"
   ]
  },
  {
   "cell_type": "code",
   "execution_count": 12,
   "metadata": {},
   "outputs": [
    {
     "data": {
      "image/png": "[encoded data removed]",
      "text/plain": [
       "<Figure size 432x288 with 1 Axes>"
      ]
     },
     "metadata": {
      "needs_background": "light"
     },
     "output_type": "display_data"
    }
   ],
   "source": [
    "fig, ax = plt.subplots()\n",
    "ax.set_aspect(aspect='equal')\n",
    "\n",
    "for p in [\n",
    "    patches.Circle(\n",
    "        (0.1, 0.4), 0.1,\n",
    "        hatch='/'\n",
    "    ),\n",
    "    patches.Circle(\n",
    "        (0.5, 0.4), 0.1,\n",
    "        hatch='*',\n",
    "        facecolor='red'\n",
    "    ),\n",
    "    patches.Circle(\n",
    "        (0.9, 0.4), 0.1,\n",
    "        hatch='\\\\',\n",
    "        facecolor='green'\n",
    "    ),\n",
    "    patches.Circle(\n",
    "        (0.5, 0.7), 0.1,\n",
    "        hatch='//',\n",
    "        fill=False \n",
    "    ),\n",
    "]:\n",
    "    ax.add_patch(p)\n",
    "    \n",
    "plt.show()"
   ]
  },
  {
   "cell_type": "code",
   "execution_count": 13,
   "metadata": {},
   "outputs": [
    {
     "data": {
      "image/png": "[encoded data removed]",
      "text/plain": [
       "<Figure size 432x288 with 1 Axes>"
      ]
     },
     "metadata": {
      "needs_background": "light"
     },
     "output_type": "display_data"
    }
   ],
   "source": [
    "fig, ax = plt.subplots()\n",
    "ax.set_aspect(aspect='equal')\n",
    "\n",
    "for p in [\n",
    "    patches.Circle(\n",
    "        (0.1, 0.4), 0.1,\n",
    "        hatch='/'\n",
    "    ),\n",
    "    patches.Circle(\n",
    "        (0.5, 0.4), 0.1,\n",
    "        hatch='*',\n",
    "        facecolor='red'\n",
    "    ),\n",
    "    patches.Circle(\n",
    "        (0.9, 0.4), 0.1,\n",
    "        hatch='\\\\',\n",
    "        color='green'\n",
    "    ),\n",
    "    patches.Circle(\n",
    "        (0.5, 0.7), 0.1,\n",
    "        hatch='//',\n",
    "        fill=False,\n",
    "        edgecolor = 'blue'\n",
    "    ),\n",
    "]:\n",
    "    ax.add_patch(p)\n",
    "    \n",
    "plt.show()"
   ]
  },
  {
   "cell_type": "code",
   "execution_count": 14,
   "metadata": {},
   "outputs": [
    {
     "data": {
      "image/png": "[encoded data removed]",
      "text/plain": [
       "<Figure size 432x288 with 1 Axes>"
      ]
     },
     "metadata": {
      "needs_background": "light"
     },
     "output_type": "display_data"
    }
   ],
   "source": [
    "fig, ax = plt.subplots()\n",
    "ax.set_aspect(aspect='equal')\n",
    "\n",
    "polygon = patches.Polygon([[0.1, 0.1],\n",
    "                           [0.2, 0.8], \n",
    "                           [0.5, 0.7], \n",
    "                           [0.8, 0.1], \n",
    "                           [0.4, 0.3]],\n",
    "                          fill=False)\n",
    "                   \n",
    "ax.add_patch(polygon)\n",
    "    \n",
    "plt.show()\n",
    "                   "
   ]
  },
  {
   "cell_type": "code",
   "execution_count": 15,
   "metadata": {},
   "outputs": [
    {
     "data": {
      "image/png": "[encoded data removed]",
      "text/plain": [
       "<Figure size 432x288 with 1 Axes>"
      ]
     },
     "metadata": {
      "needs_background": "light"
     },
     "output_type": "display_data"
    }
   ],
   "source": [
    "fig, ax = plt.subplots()\n",
    "ax.set_aspect(aspect='equal')\n",
    "\n",
    "polygon = patches.Polygon([[0.1, 0.1],\n",
    "                           [0.2, 0.8], \n",
    "                           [0.5, 0.7], \n",
    "                           [0.8, 0.1], \n",
    "                           [0.4, 0.3]],\n",
    "                          closed=False,\n",
    "                          fill=False)\n",
    "                   \n",
    "ax.add_patch(polygon)\n",
    "    \n",
    "plt.show()           "
   ]
  },
  {
   "cell_type": "code",
   "execution_count": 16,
   "metadata": {},
   "outputs": [
    {
     "data": {
      "image/png": "[encoded data removed]",
      "text/plain": [
       "<Figure size 432x288 with 1 Axes>"
      ]
     },
     "metadata": {
      "needs_background": "light"
     },
     "output_type": "display_data"
    }
   ],
   "source": [
    "fig, ax = plt.subplots()\n",
    "ax.set_aspect(aspect='equal')\n",
    "\n",
    "polygon = patches.Arrow(0.1, 0.2, \n",
    "                        0.7, 0.7)\n",
    "\n",
    "ax.add_patch(polygon)\n",
    "    \n",
    "plt.show()"
   ]
  },
  {
   "cell_type": "code",
   "execution_count": 17,
   "metadata": {},
   "outputs": [
    {
     "data": {
      "image/png": "[encoded data removed]",
      "text/plain": [
       "<Figure size 432x288 with 1 Axes>"
      ]
     },
     "metadata": {
      "needs_background": "light"
     },
     "output_type": "display_data"
    }
   ],
   "source": [
    "fig, ax = plt.subplots()\n",
    "ax.set_aspect(aspect='equal')\n",
    "\n",
    "polygon = patches.Arrow(0.1, 0.2, \n",
    "                        0.7, 0.7,\n",
    "                        width=0.5)\n",
    "\n",
    "ax.add_patch(polygon)\n",
    "    \n",
    "plt.show()"
   ]
  },
  {
   "cell_type": "code",
   "execution_count": null,
   "metadata": {
    "collapsed": true
   },
   "outputs": [],
   "source": []
  }
 ],
 "metadata": {
  "kernelspec": {
   "display_name": "Python 3",
   "language": "python",
   "name": "python3"
  },
  "language_info": {
   "codemirror_mode": {
    "name": "ipython",
    "version": 3
   },
   "file_extension": ".py",
   "mimetype": "text/x-python",
   "name": "python",
   "nbconvert_exporter": "python",
   "pygments_lexer": "ipython3",
   "version": "3.7.8"
  }
 },
 "nbformat": 4,
 "nbformat_minor": 2
}