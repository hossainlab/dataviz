{
 "cells": [
  {
   "cell_type": "code",
   "execution_count": 1,
   "metadata": {},
   "outputs": [
    {
     "data": {
      "text/html": [
       "<script>requirejs.config({paths: { 'plotly': ['https://cdn.plot.ly/plotly-latest.min']},});if(!window.Plotly) {{require(['plotly'],function(plotly) {window.Plotly=plotly;});}}</script>"
      ],
      "text/vnd.plotly.v1+html": [
       "<script>requirejs.config({paths: { 'plotly': ['https://cdn.plot.ly/plotly-latest.min']},});if(!window.Plotly) {{require(['plotly'],function(plotly) {window.Plotly=plotly;});}}</script>"
      ]
     },
     "metadata": {},
     "output_type": "display_data"
    }
   ],
   "source": [
    "import plotly.plotly as py\n",
    "from plotly import graph_objs as go\n",
    "import plotly.offline as offline\n",
    "\n",
    "offline.init_notebook_mode(connected=True)"
   ]
  },
  {
   "cell_type": "markdown",
   "metadata": {},
   "source": [
    "#### Load the data\n",
    "Consider an e-commerce website which needs to track customer behaviour. It has defined different phases which a customer can be in when making a purchase starting from Viewing their cart contents. \n",
    "\n",
    "As these steps can only be followed in sequence, the number of customers who get to a particular phase are always a subset of those who entered the previous phase."
   ]
  },
  {
   "cell_type": "code",
   "execution_count": 2,
   "metadata": {},
   "outputs": [
    {
     "data": {
      "text/html": [
       "<div>\n",
       "<style scoped>\n",
       "    .dataframe tbody tr th:only-of-type {\n",
       "        vertical-align: middle;\n",
       "    }\n",
       "\n",
       "    .dataframe tbody tr th {\n",
       "        vertical-align: top;\n",
       "    }\n",
       "\n",
       "    .dataframe thead th {\n",
       "        text-align: right;\n",
       "    }\n",
       "</style>\n",
       "<table border=\"1\" class=\"dataframe\">\n",
       "  <thead>\n",
       "    <tr style=\"text-align: right;\">\n",
       "      <th></th>\n",
       "      <th>Phases</th>\n",
       "      <th>Values</th>\n",
       "    </tr>\n",
       "  </thead>\n",
       "  <tbody>\n",
       "    <tr>\n",
       "      <th>0</th>\n",
       "      <td>View cart</td>\n",
       "      <td>151131</td>\n",
       "    </tr>\n",
       "    <tr>\n",
       "      <th>1</th>\n",
       "      <td>Cart checkout</td>\n",
       "      <td>60345</td>\n",
       "    </tr>\n",
       "    <tr>\n",
       "      <th>2</th>\n",
       "      <td>Shipping address</td>\n",
       "      <td>53421</td>\n",
       "    </tr>\n",
       "    <tr>\n",
       "      <th>3</th>\n",
       "      <td>Payment info</td>\n",
       "      <td>51123</td>\n",
       "    </tr>\n",
       "    <tr>\n",
       "      <th>4</th>\n",
       "      <td>Order completed</td>\n",
       "      <td>22145</td>\n",
       "    </tr>\n",
       "  </tbody>\n",
       "</table>\n",
       "</div>"
      ],
      "text/plain": [
       "             Phases  Values\n",
       "0         View cart  151131\n",
       "1     Cart checkout   60345\n",
       "2  Shipping address   53421\n",
       "3      Payment info   51123\n",
       "4   Order completed   22145"
      ]
     },
     "execution_count": 2,
     "metadata": {},
     "output_type": "execute_result"
    }
   ],
   "source": [
    "import pandas as pd\n",
    "\n",
    "data_table = pd.read_csv('datasets/customer_info.csv')\n",
    "data_table"
   ]
  },
  {
   "cell_type": "markdown",
   "metadata": {},
   "source": [
    "#### Store the phases and values for each phase in lists\n",
    "These will be referenced frequently later on"
   ]
  },
  {
   "cell_type": "code",
   "execution_count": 3,
   "metadata": {},
   "outputs": [],
   "source": [
    "phases = data_table['Phases']\n",
    "\n",
    "values = data_table['Values']"
   ]
  },
  {
   "cell_type": "markdown",
   "metadata": {},
   "source": [
    "#### Set the colors to use in the funnel chart\n",
    "Define colors which will be used to represent the phases in the funnel chart"
   ]
  },
  {
   "cell_type": "code",
   "execution_count": 4,
   "metadata": {
    "collapsed": true
   },
   "outputs": [],
   "source": [
    "colors = ['Pink', 'Blue', 'Yellow', 'Purple', 'Green']"
   ]
  },
  {
   "cell_type": "markdown",
   "metadata": {},
   "source": [
    "#### Store the number of phases in a variable and define the max funnel width\n",
    "The number of phases will be used frequently, so we store it in a variable. The max width for the funnel will be 400 pixels.\n",
    "\n",
    "A funnel section will be drawn using Plotly shapes, in the shape of a Rectangle or Isosceles Trapezoid depending on the value of the next phase. The phase having maximum value will have the width equal to the plot."
   ]
  },
  {
   "cell_type": "code",
   "execution_count": 5,
   "metadata": {
    "collapsed": true
   },
   "outputs": [],
   "source": [
    "num_phases = len(phases)\n",
    "\n",
    "plot_width = 400"
   ]
  },
  {
   "cell_type": "markdown",
   "metadata": {},
   "source": [
    "#### Set the height for each funnel section and the gap in between\n",
    "Each section will be 100 pixels high with a 10 pixel gap in between"
   ]
  },
  {
   "cell_type": "code",
   "execution_count": 6,
   "metadata": {
    "collapsed": true
   },
   "outputs": [],
   "source": [
    "section_height = 100\n",
    "\n",
    "section_gap = 10"
   ]
  },
  {
   "cell_type": "markdown",
   "metadata": {},
   "source": [
    "#### Define the widths for each section in the funnel chart\n",
    "The width of the section represents the value for each phase (the number of customers in that phase) the height is constant for each section, but the width varies.\n",
    "\n",
    "Here, we set the width of each funnel section relative to the plot width"
   ]
  },
  {
   "cell_type": "code",
   "execution_count": 7,
   "metadata": {},
   "outputs": [
    {
     "data": {
      "text/plain": [
       "[399, 159, 141, 135, 58]"
      ]
     },
     "execution_count": 7,
     "metadata": {},
     "output_type": "execute_result"
    }
   ],
   "source": [
    "unit_width = plot_width / max(values)\n",
    "\n",
    "phase_widths = [int(value * unit_width) for value in values]\n",
    "\n",
    "phase_widths"
   ]
  },
  {
   "cell_type": "markdown",
   "metadata": {},
   "source": [
    "#### Get the plot height\n",
    "The plot height depends on the number of sections - equal to the sum of the heights of each section plus the total gaps between the sections.\n",
    "\n",
    "The number of gaps will be one less than the number of sections."
   ]
  },
  {
   "cell_type": "code",
   "execution_count": 8,
   "metadata": {},
   "outputs": [
    {
     "data": {
      "text/plain": [
       "540"
      ]
     },
     "execution_count": 8,
     "metadata": {},
     "output_type": "execute_result"
    }
   ],
   "source": [
    "height = section_height * num_phases + section_gap * (num_phases - 1)\n",
    "height"
   ]
  },
  {
   "cell_type": "markdown",
   "metadata": {},
   "source": [
    "#### Generate the points for the first section in the funnel\n",
    "Consider the X axis centered at 0. The funnel chart for the first (top) section should have a width representing that phase at the top (phase_widths[0]) and should taper to the width of the next phase (phase_width[1]) at the bottom. \n",
    "\n",
    "The height of the section is fixed (100), so the height ranges from the current height (height) at the top to (height - section_height) at the bottom."
   ]
  },
  {
   "cell_type": "code",
   "execution_count": 9,
   "metadata": {},
   "outputs": [
    {
     "data": {
      "text/plain": [
       "[199.5, 540, 79.5, 440]"
      ]
     },
     "execution_count": 9,
     "metadata": {},
     "output_type": "execute_result"
    }
   ],
   "source": [
    "points = points = [phase_widths[0] / 2, height, phase_widths[1] / 2, height - section_height]\n",
    "points"
   ]
  },
  {
   "cell_type": "markdown",
   "metadata": {},
   "source": [
    "#### Define the path in order to draw the section\n",
    "We use the SVG path in order to plot this trapezium/trapezoid"
   ]
  },
  {
   "cell_type": "code",
   "execution_count": 10,
   "metadata": {},
   "outputs": [
    {
     "data": {
      "text/plain": [
       "'M 199.5,540 L 79.5,440 L -79.5,440 L -199.5,540 Z'"
      ]
     },
     "execution_count": 10,
     "metadata": {},
     "output_type": "execute_result"
    }
   ],
   "source": [
    "path = 'M {0},{1} L {2},{3} L -{2},{3} L -{0},{1} Z'.format(*points)\n",
    "path"
   ]
  },
  {
   "cell_type": "markdown",
   "metadata": {},
   "source": [
    "#### Define the shape using the SVG path"
   ]
  },
  {
   "cell_type": "code",
   "execution_count": 11,
   "metadata": {
    "collapsed": true
   },
   "outputs": [],
   "source": [
    "section = {'type': 'path',\n",
    "           'path': path,\n",
    "           'fillcolor': colors[0],\n",
    "           'line': {'color': colors[0]}\n",
    "          }"
   ]
  },
  {
   "cell_type": "markdown",
   "metadata": {},
   "source": [
    "#### To view this single section, we define a layout\n",
    "This layout only contains our trapezoid"
   ]
  },
  {
   "cell_type": "code",
   "execution_count": 12,
   "metadata": {
    "collapsed": true
   },
   "outputs": [],
   "source": [
    "layout = go.Layout(shapes = [section])"
   ]
  },
  {
   "cell_type": "markdown",
   "metadata": {},
   "source": [
    "#### Plot the figure with only this one section\n",
    "This is what a section in a funnel should look like. The top represents the value of this section and it tapers down where the bottome width represents the value of the next section.\n",
    "\n",
    "It is just the final section which will be a rectangle"
   ]
  },
  {
   "cell_type": "code",
   "execution_count": 13,
   "metadata": {},
   "outputs": [
    {
     "data": {
      "application/vnd.plotly.v1+json": {
       "data": [
        {
         "type": "scatter"
        }
       ],
       "layout": {
        "shapes": [
         {
          "fillcolor": "Pink",
          "line": {
           "color": "Pink"
          },
          "path": "M 199.5,540 L 79.5,440 L -79.5,440 L -199.5,540 Z",
          "type": "path"
         }
        ]
       }
      },
      "text/html": [
       "<div id=\"3408f6e8-92b7-4387-9b9f-1f5d70df3346\" style=\"height: 525px; width: 100%;\" class=\"plotly-graph-div\"></div><script type=\"text/javascript\">require([\"plotly\"], function(Plotly) { window.PLOTLYENV=window.PLOTLYENV || {};window.PLOTLYENV.BASE_URL=\"https://plot.ly\";Plotly.newPlot(\"3408f6e8-92b7-4387-9b9f-1f5d70df3346\", [{\"type\": \"scatter\"}], {\"shapes\": [{\"type\": \"path\", \"path\": \"M 199.5,540 L 79.5,440 L -79.5,440 L -199.5,540 Z\", \"fillcolor\": \"Pink\", \"line\": {\"color\": \"Pink\"}}]}, {\"showLink\": true, \"linkText\": \"Export to plot.ly\"})});</script>"
      ],
      "text/vnd.plotly.v1+html": [
       "<div id=\"3408f6e8-92b7-4387-9b9f-1f5d70df3346\" style=\"height: 525px; width: 100%;\" class=\"plotly-graph-div\"></div><script type=\"text/javascript\">require([\"plotly\"], function(Plotly) { window.PLOTLYENV=window.PLOTLYENV || {};window.PLOTLYENV.BASE_URL=\"https://plot.ly\";Plotly.newPlot(\"3408f6e8-92b7-4387-9b9f-1f5d70df3346\", [{\"type\": \"scatter\"}], {\"shapes\": [{\"type\": \"path\", \"path\": \"M 199.5,540 L 79.5,440 L -79.5,440 L -199.5,540 Z\", \"fillcolor\": \"Pink\", \"line\": {\"color\": \"Pink\"}}]}, {\"showLink\": true, \"linkText\": \"Export to plot.ly\"})});</script>"
      ]
     },
     "metadata": {},
     "output_type": "display_data"
    }
   ],
   "source": [
    "fig = go.Figure(data=[{}], \n",
    "                layout=layout)\n",
    "\n",
    "offline.iplot(fig)"
   ]
  },
  {
   "cell_type": "markdown",
   "metadata": {},
   "source": [
    "#### Define lists which will be used to plot the funnel chart\n",
    "We need lists for:\n",
    "* Each shape we will plot which includes n-1 trapezoids and 1 rectangle at the bottom\n",
    "* The path_list will hold the SVG path for each shape\n",
    "* The section_label_heights will be used to set the heights of the text annotations for each section"
   ]
  },
  {
   "cell_type": "code",
   "execution_count": 14,
   "metadata": {
    "collapsed": true
   },
   "outputs": [],
   "source": [
    "shapes = []\n",
    "path_list = []\n",
    "y_labels = []"
   ]
  },
  {
   "cell_type": "markdown",
   "metadata": {},
   "source": [
    "#### Fill in the SVG Paths and section_label_heights for the sections\n",
    "Since the last section will be a rectangle instead of a trapezoid, we need to check whether we are on the last section or not. The tasks we then perform are:\n",
    "* Calculate the SVG path for the section and then append it to the path list\n",
    "* Add the y coordinate for the text annotations for the section in y_labels\n",
    "* Adjust the height to the top of the next section by decrementing its value by (section_height + gap)"
   ]
  },
  {
   "cell_type": "code",
   "execution_count": 15,
   "metadata": {},
   "outputs": [
    {
     "name": "stdout",
     "output_type": "stream",
     "text": [
      "\n",
      "Points for Phase 0 = [199.5, 540, 79.5, 440]\n",
      "Path for Phase 0 = M 199.5,540 L 79.5,440 L -79.5,440 L -199.5,540 Z\n",
      "\n",
      "Points for Phase 1 = [79.5, 430, 70.5, 330]\n",
      "Path for Phase 1 = M 79.5,430 L 70.5,330 L -70.5,330 L -79.5,430 Z\n",
      "\n",
      "Points for Phase 2 = [70.5, 320, 67.5, 220]\n",
      "Path for Phase 2 = M 70.5,320 L 67.5,220 L -67.5,220 L -70.5,320 Z\n",
      "\n",
      "Points for Phase 3 = [67.5, 210, 29.0, 110]\n",
      "Path for Phase 3 = M 67.5,210 L 29.0,110 L -29.0,110 L -67.5,210 Z\n",
      "\n",
      "Points for Phase 4 = [29.0, 100, 29.0, 0]\n",
      "Path for Phase 4 = M 29.0,100 L 29.0,0 L -29.0,0 L -29.0,100 Z\n"
     ]
    }
   ],
   "source": [
    "for i in range(num_phases):\n",
    "    \n",
    "        if (i == num_phases-1):\n",
    "                points = [phase_widths[i] / 2, height, phase_widths[i] / 2, height - section_height]\n",
    "        else:\n",
    "                points = [phase_widths[i] / 2, height, phase_widths[i+1] / 2, height - section_height]\n",
    "        \n",
    "        path = 'M {0},{1} L {2},{3} L -{2},{3} L -{0},{1} Z'.format(*points)\n",
    "        \n",
    "        print('\\nPoints for Phase %d = %s' %(i, points))\n",
    "        print('Path for Phase %d = %s' %(i, path))\n",
    "        \n",
    "        path_list.append(path)\n",
    "        \n",
    "        y_labels.append(height - (section_height / 2))\n",
    "        \n",
    "        height = height - (section_height + section_gap)"
   ]
  },
  {
   "cell_type": "markdown",
   "metadata": {},
   "source": [
    "#### Generate a list of shapes for the funnel\n",
    "This will contain all the section shapes which are set to a color from our colors list"
   ]
  },
  {
   "cell_type": "code",
   "execution_count": 16,
   "metadata": {},
   "outputs": [
    {
     "data": {
      "text/plain": [
       "[{'fillcolor': 'Pink',\n",
       "  'line': {'color': 'Pink'},\n",
       "  'path': 'M 199.5,540 L 79.5,440 L -79.5,440 L -199.5,540 Z',\n",
       "  'type': 'path'},\n",
       " {'fillcolor': 'Blue',\n",
       "  'line': {'color': 'Blue'},\n",
       "  'path': 'M 79.5,430 L 70.5,330 L -70.5,330 L -79.5,430 Z',\n",
       "  'type': 'path'},\n",
       " {'fillcolor': 'Yellow',\n",
       "  'line': {'color': 'Yellow'},\n",
       "  'path': 'M 70.5,320 L 67.5,220 L -67.5,220 L -70.5,320 Z',\n",
       "  'type': 'path'},\n",
       " {'fillcolor': 'Purple',\n",
       "  'line': {'color': 'Purple'},\n",
       "  'path': 'M 67.5,210 L 29.0,110 L -29.0,110 L -67.5,210 Z',\n",
       "  'type': 'path'},\n",
       " {'fillcolor': 'Green',\n",
       "  'line': {'color': 'Green'},\n",
       "  'path': 'M 29.0,100 L 29.0,0 L -29.0,0 L -29.0,100 Z',\n",
       "  'type': 'path'}]"
      ]
     },
     "execution_count": 16,
     "metadata": {},
     "output_type": "execute_result"
    }
   ],
   "source": [
    "for i in range(num_phases):\n",
    "\n",
    "        shape = {'type': 'path',\n",
    "                 'path': path_list[i],\n",
    "                 'fillcolor': colors[i],\n",
    "                 'line': {'color': colors[i]}\n",
    "                }\n",
    "\n",
    "        shapes.append(shape)\n",
    "        \n",
    "shapes"
   ]
  },
  {
   "cell_type": "markdown",
   "metadata": {},
   "source": [
    "\n",
    "     To draw the phase names and values, we are using the text mode in scatter plots. To style the plot, we are hiding the legend and tick labels, and removing the zeroline."
   ]
  },
  {
   "cell_type": "markdown",
   "metadata": {},
   "source": [
    "#### Add the labels for each phase/section\n",
    "We apply an offset for the x coordinate of the text annotation so that it does not overlap with the shapes. These annotations will appear on the left of the plot"
   ]
  },
  {
   "cell_type": "code",
   "execution_count": 17,
   "metadata": {},
   "outputs": [],
   "source": [
    "label_trace = go.Scatter(x = [-170]*num_phases,\n",
    "                         \n",
    "                         y = y_labels,\n",
    "                         \n",
    "                         mode = 'text',\n",
    "                         \n",
    "                         text = phases\n",
    "                        )"
   ]
  },
  {
   "cell_type": "markdown",
   "metadata": {},
   "source": [
    "#### Enter the phase values\n",
    "These will appear on the right of the funnel"
   ]
  },
  {
   "cell_type": "code",
   "execution_count": 18,
   "metadata": {
    "collapsed": true
   },
   "outputs": [],
   "source": [
    "value_trace = go.Scatter(x = [170]*num_phases, \n",
    "                         \n",
    "                         y = y_labels,\n",
    "                         \n",
    "                         mode = 'text',\n",
    "                         \n",
    "                         text = values\n",
    "                        )"
   ]
  },
  {
   "cell_type": "code",
   "execution_count": 19,
   "metadata": {
    "collapsed": true
   },
   "outputs": [],
   "source": [
    "data = [label_trace, value_trace]"
   ]
  },
  {
   "cell_type": "markdown",
   "metadata": {},
   "source": [
    "#### Define the layout\n",
    "We set the following attributes:\n",
    "* A title for the chart along with its font size\n",
    "* Assign the shapes for the plot\n",
    "* Remove the tick labels and zero lines from the plot\n",
    "* Deactivate the legend (our traces are the text annotations, so we don't need a legend)"
   ]
  },
  {
   "cell_type": "code",
   "execution_count": 21,
   "metadata": {},
   "outputs": [],
   "source": [
    "layout = go.Layout(title = \"<b>Funnel Chart</b>\",\n",
    "                   titlefont = dict(size=20),\n",
    "                   \n",
    "                   shapes = shapes,\n",
    "                   \n",
    "                   showlegend = False,\n",
    "                   \n",
    "                   xaxis = dict(showticklabels = False,\n",
    "                              zeroline = False,\n",
    "                             ),\n",
    "                   \n",
    "                   yaxis = dict(showticklabels = False,\n",
    "                              zeroline = False\n",
    "                             )\n",
    "                  )"
   ]
  },
  {
   "cell_type": "code",
   "execution_count": 22,
   "metadata": {
    "scrolled": true
   },
   "outputs": [
    {
     "data": {
      "application/vnd.plotly.v1+json": {
       "data": [
        {
         "mode": "text",
         "text": [
          "View cart",
          "Cart checkout",
          "Shipping address",
          "Payment info",
          "Order completed"
         ],
         "type": "scatter",
         "x": [
          -170,
          -170,
          -170,
          -170,
          -170
         ],
         "y": [
          490,
          380,
          270,
          160,
          50
         ]
        },
        {
         "mode": "text",
         "text": [
          151131,
          60345,
          53421,
          51123,
          22145
         ],
         "type": "scatter",
         "x": [
          170,
          170,
          170,
          170,
          170
         ],
         "y": [
          490,
          380,
          270,
          160,
          50
         ]
        }
       ],
       "layout": {
        "shapes": [
         {
          "fillcolor": "Pink",
          "line": {
           "color": "Pink"
          },
          "path": "M 199.5,540 L 79.5,440 L -79.5,440 L -199.5,540 Z",
          "type": "path"
         },
         {
          "fillcolor": "Blue",
          "line": {
           "color": "Blue"
          },
          "path": "M 79.5,430 L 70.5,330 L -70.5,330 L -79.5,430 Z",
          "type": "path"
         },
         {
          "fillcolor": "Yellow",
          "line": {
           "color": "Yellow"
          },
          "path": "M 70.5,320 L 67.5,220 L -67.5,220 L -70.5,320 Z",
          "type": "path"
         },
         {
          "fillcolor": "Purple",
          "line": {
           "color": "Purple"
          },
          "path": "M 67.5,210 L 29.0,110 L -29.0,110 L -67.5,210 Z",
          "type": "path"
         },
         {
          "fillcolor": "Green",
          "line": {
           "color": "Green"
          },
          "path": "M 29.0,100 L 29.0,0 L -29.0,0 L -29.0,100 Z",
          "type": "path"
         }
        ],
        "showlegend": false,
        "title": "<b>Funnel Chart</b>",
        "titlefont": {
         "size": 20
        },
        "xaxis": {
         "showticklabels": false,
         "zeroline": false
        },
        "yaxis": {
         "showticklabels": false,
         "zeroline": false
        }
       }
      },
      "text/html": [
       "<div id=\"bde16aeb-edbf-4c7e-8637-34e040f7355e\" style=\"height: 525px; width: 100%;\" class=\"plotly-graph-div\"></div><script type=\"text/javascript\">require([\"plotly\"], function(Plotly) { window.PLOTLYENV=window.PLOTLYENV || {};window.PLOTLYENV.BASE_URL=\"https://plot.ly\";Plotly.newPlot(\"bde16aeb-edbf-4c7e-8637-34e040f7355e\", [{\"type\": \"scatter\", \"x\": [-170, -170, -170, -170, -170], \"y\": [490.0, 380.0, 270.0, 160.0, 50.0], \"mode\": \"text\", \"text\": [\"View cart\", \"Cart checkout\", \"Shipping address\", \"Payment info\", \"Order completed\"]}, {\"type\": \"scatter\", \"x\": [170, 170, 170, 170, 170], \"y\": [490.0, 380.0, 270.0, 160.0, 50.0], \"mode\": \"text\", \"text\": [151131, 60345, 53421, 51123, 22145]}], {\"title\": \"<b>Funnel Chart</b>\", \"titlefont\": {\"size\": 20}, \"shapes\": [{\"type\": \"path\", \"path\": \"M 199.5,540 L 79.5,440 L -79.5,440 L -199.5,540 Z\", \"fillcolor\": \"Pink\", \"line\": {\"color\": \"Pink\"}}, {\"type\": \"path\", \"path\": \"M 79.5,430 L 70.5,330 L -70.5,330 L -79.5,430 Z\", \"fillcolor\": \"Blue\", \"line\": {\"color\": \"Blue\"}}, {\"type\": \"path\", \"path\": \"M 70.5,320 L 67.5,220 L -67.5,220 L -70.5,320 Z\", \"fillcolor\": \"Yellow\", \"line\": {\"color\": \"Yellow\"}}, {\"type\": \"path\", \"path\": \"M 67.5,210 L 29.0,110 L -29.0,110 L -67.5,210 Z\", \"fillcolor\": \"Purple\", \"line\": {\"color\": \"Purple\"}}, {\"type\": \"path\", \"path\": \"M 29.0,100 L 29.0,0 L -29.0,0 L -29.0,100 Z\", \"fillcolor\": \"Green\", \"line\": {\"color\": \"Green\"}}], \"showlegend\": false, \"xaxis\": {\"showticklabels\": false, \"zeroline\": false}, \"yaxis\": {\"showticklabels\": false, \"zeroline\": false}}, {\"showLink\": true, \"linkText\": \"Export to plot.ly\"})});</script>"
      ],
      "text/vnd.plotly.v1+html": [
       "<div id=\"bde16aeb-edbf-4c7e-8637-34e040f7355e\" style=\"height: 525px; width: 100%;\" class=\"plotly-graph-div\"></div><script type=\"text/javascript\">require([\"plotly\"], function(Plotly) { window.PLOTLYENV=window.PLOTLYENV || {};window.PLOTLYENV.BASE_URL=\"https://plot.ly\";Plotly.newPlot(\"bde16aeb-edbf-4c7e-8637-34e040f7355e\", [{\"type\": \"scatter\", \"x\": [-170, -170, -170, -170, -170], \"y\": [490.0, 380.0, 270.0, 160.0, 50.0], \"mode\": \"text\", \"text\": [\"View cart\", \"Cart checkout\", \"Shipping address\", \"Payment info\", \"Order completed\"]}, {\"type\": \"scatter\", \"x\": [170, 170, 170, 170, 170], \"y\": [490.0, 380.0, 270.0, 160.0, 50.0], \"mode\": \"text\", \"text\": [151131, 60345, 53421, 51123, 22145]}], {\"title\": \"<b>Funnel Chart</b>\", \"titlefont\": {\"size\": 20}, \"shapes\": [{\"type\": \"path\", \"path\": \"M 199.5,540 L 79.5,440 L -79.5,440 L -199.5,540 Z\", \"fillcolor\": \"Pink\", \"line\": {\"color\": \"Pink\"}}, {\"type\": \"path\", \"path\": \"M 79.5,430 L 70.5,330 L -70.5,330 L -79.5,430 Z\", \"fillcolor\": \"Blue\", \"line\": {\"color\": \"Blue\"}}, {\"type\": \"path\", \"path\": \"M 70.5,320 L 67.5,220 L -67.5,220 L -70.5,320 Z\", \"fillcolor\": \"Yellow\", \"line\": {\"color\": \"Yellow\"}}, {\"type\": \"path\", \"path\": \"M 67.5,210 L 29.0,110 L -29.0,110 L -67.5,210 Z\", \"fillcolor\": \"Purple\", \"line\": {\"color\": \"Purple\"}}, {\"type\": \"path\", \"path\": \"M 29.0,100 L 29.0,0 L -29.0,0 L -29.0,100 Z\", \"fillcolor\": \"Green\", \"line\": {\"color\": \"Green\"}}], \"showlegend\": false, \"xaxis\": {\"showticklabels\": false, \"zeroline\": false}, \"yaxis\": {\"showticklabels\": false, \"zeroline\": false}}, {\"showLink\": true, \"linkText\": \"Export to plot.ly\"})});</script>"
      ]
     },
     "metadata": {},
     "output_type": "display_data"
    }
   ],
   "source": [
    "fig = go.Figure(data=data, layout=layout)\n",
    "\n",
    "offline.iplot(fig)"
   ]
  },
  {
   "cell_type": "code",
   "execution_count": null,
   "metadata": {
    "collapsed": true
   },
   "outputs": [],
   "source": []
  },
  {
   "cell_type": "code",
   "execution_count": null,
   "metadata": {
    "collapsed": true
   },
   "outputs": [],
   "source": []
  }
 ],
 "metadata": {
  "kernelspec": {
   "display_name": "Python 3",
   "language": "python",
   "name": "python3"
  },
  "language_info": {
   "codemirror_mode": {
    "name": "ipython",
    "version": 3
   },
   "file_extension": ".py",
   "mimetype": "text/x-python",
   "name": "python",
   "nbconvert_exporter": "python",
   "pygments_lexer": "ipython3",
   "version": "3.6.3"
  }
 },
 "nbformat": 4,
 "nbformat_minor": 2
}
