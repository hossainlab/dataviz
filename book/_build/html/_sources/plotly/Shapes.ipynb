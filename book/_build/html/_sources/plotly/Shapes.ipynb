{
 "cells": [
  {
   "cell_type": "code",
   "execution_count": 1,
   "metadata": {},
   "outputs": [
    {
     "data": {
      "text/html": [
       "<script>requirejs.config({paths: { 'plotly': ['https://cdn.plot.ly/plotly-latest.min']},});if(!window.Plotly) {{require(['plotly'],function(plotly) {window.Plotly=plotly;});}}</script>"
      ],
      "text/vnd.plotly.v1+html": [
       "<script>requirejs.config({paths: { 'plotly': ['https://cdn.plot.ly/plotly-latest.min']},});if(!window.Plotly) {{require(['plotly'],function(plotly) {window.Plotly=plotly;});}}</script>"
      ]
     },
     "metadata": {},
     "output_type": "display_data"
    }
   ],
   "source": [
    "import plotly.plotly as py\n",
    "from plotly import graph_objs as go\n",
    "import plotly.offline as offline\n",
    "\n",
    "offline.init_notebook_mode(connected=True)"
   ]
  },
  {
   "cell_type": "markdown",
   "metadata": {},
   "source": [
    "### Drawing shapes\n",
    "Here we plot a rectangle using the following attributes:\n",
    "* <b>type</b> sets the type of shape. Shapes can be rect, line, circle etc.\n",
    "* <b>xref and yref</b> values determine whether absolute or relative (on a scale of 0 to 1) coordinates are used. Values of 'x' and 'y'</b> mean that absolute values of the x and y coordinates will be used\n",
    "* <b>x0,y0,x1,y1</b> represent the left, bottom, right and top extents of the rectangle\n",
    "* <b>line</b> will format the bounding line of the rectangle\n",
    "* <b>fillcolor</b> determines the fill color for the rectangle"
   ]
  },
  {
   "cell_type": "code",
   "execution_count": 2,
   "metadata": {},
   "outputs": [],
   "source": [
    "rect = {'type': 'rect',\n",
    "        'xref': 'x',\n",
    "        'yref': 'y',\n",
    "        'x0': 1,\n",
    "        'y0': 1,\n",
    "        'x1': 2,\n",
    "        'y1': 3,\n",
    "\n",
    "        'line': {'color': 'blue',\n",
    "                   'width': 3,\n",
    "                  },\n",
    "\n",
    "        'fillcolor': 'cyan'\n",
    "         }"
   ]
  },
  {
   "cell_type": "markdown",
   "metadata": {},
   "source": [
    "#### Plot a circle using a relative scale\n",
    "Setting the xref and yref to 'paper' means that we specify a positional value in the 0-1 range. Here 0 is the left or bottom of the axes, 1 is the right or top.\n",
    "\n",
    "For a circle, the x0,y0,x1,y1 values represent the extent of the circle - which in our case is not as much a circle as a skewed circle as the width is 0.3 units and the height is 0.8 units. The centre of the circle will have x = (x1-x0)/2 and y = (y1-y0)/2"
   ]
  },
  {
   "cell_type": "code",
   "execution_count": 3,
   "metadata": {},
   "outputs": [],
   "source": [
    "circ = {'type': 'circle',\n",
    "        'xref': 'paper',\n",
    "        'yref': 'paper',\n",
    "        'x0': 0.5,\n",
    "        'y0': 0,\n",
    "        'x1': 0.8,\n",
    "        'y1': 0.8,\n",
    "\n",
    "        'line': {'color': 'green',\n",
    "               'width': 3,\n",
    "              },\n",
    "\n",
    "        'fillcolor': 'honeydew',\n",
    "              }"
   ]
  },
  {
   "cell_type": "markdown",
   "metadata": {},
   "source": [
    "#### Define the layout\n",
    "We set the range for the axes and add the shapes to the layout. Note that we have been using a dictionary format to define all these objects"
   ]
  },
  {
   "cell_type": "code",
   "execution_count": 4,
   "metadata": {},
   "outputs": [],
   "source": [
    "layout = {'xaxis': {'range': [0, 5]},\n",
    "          \n",
    "          'yaxis': {'range': [0, 5]},\n",
    "          \n",
    "          'shapes': [rect, circ]}"
   ]
  },
  {
   "cell_type": "markdown",
   "metadata": {},
   "source": [
    "#### Add text annotations to the plot\n",
    "We can use the Scatter object to define text annotations. Here, we use absolute coordinates which represent the center of the text annotations."
   ]
  },
  {
   "cell_type": "code",
   "execution_count": 5,
   "metadata": {},
   "outputs": [],
   "source": [
    "trace = go.Scatter(x=[1.5, 3],\n",
    "                   y=[4, 4.5],\n",
    "                   \n",
    "                   text=['Using absolute coordinates',\n",
    "                         'Using relative coordinates'],\n",
    "                   \n",
    "                   mode='text',\n",
    ")\n",
    "\n",
    "data = [trace]"
   ]
  },
  {
   "cell_type": "markdown",
   "metadata": {},
   "source": [
    "#### Plot the figure with the two shapes\n"
   ]
  },
  {
   "cell_type": "code",
   "execution_count": 6,
   "metadata": {},
   "outputs": [
    {
     "data": {
      "application/vnd.plotly.v1+json": {
       "data": [
        {
         "mode": "text",
         "text": [
          "Using absolute coordinates",
          "Using relative coordinates"
         ],
         "type": "scatter",
         "x": [
          1.5,
          3
         ],
         "y": [
          4,
          4.5
         ]
        }
       ],
       "layout": {
        "shapes": [
         {
          "fillcolor": "cyan",
          "line": {
           "color": "blue",
           "width": 3
          },
          "type": "rect",
          "x0": 1,
          "x1": 2,
          "xref": "x",
          "y0": 1,
          "y1": 3,
          "yref": "y"
         },
         {
          "fillcolor": "honeydew",
          "line": {
           "color": "green",
           "width": 3
          },
          "type": "circle",
          "x0": 0.5,
          "x1": 0.8,
          "xref": "paper",
          "y0": 0,
          "y1": 0.8,
          "yref": "paper"
         }
        ],
        "xaxis": {
         "range": [
          0,
          5
         ]
        },
        "yaxis": {
         "range": [
          0,
          5
         ]
        }
       }
      },
      "text/html": [
       "<div id=\"4ace5c45-945d-4aee-870f-de78de157485\" style=\"height: 525px; width: 100%;\" class=\"plotly-graph-div\"></div><script type=\"text/javascript\">require([\"plotly\"], function(Plotly) { window.PLOTLYENV=window.PLOTLYENV || {};window.PLOTLYENV.BASE_URL=\"https://plot.ly\";Plotly.newPlot(\"4ace5c45-945d-4aee-870f-de78de157485\", [{\"type\": \"scatter\", \"x\": [1.5, 3], \"y\": [4, 4.5], \"text\": [\"Using absolute coordinates\", \"Using relative coordinates\"], \"mode\": \"text\"}], {\"xaxis\": {\"range\": [0, 5]}, \"yaxis\": {\"range\": [0, 5]}, \"shapes\": [{\"type\": \"rect\", \"xref\": \"x\", \"yref\": \"y\", \"x0\": 1, \"y0\": 1, \"x1\": 2, \"y1\": 3, \"line\": {\"color\": \"blue\", \"width\": 3}, \"fillcolor\": \"cyan\"}, {\"type\": \"circle\", \"xref\": \"paper\", \"yref\": \"paper\", \"x0\": 0.5, \"y0\": 0, \"x1\": 0.8, \"y1\": 0.8, \"line\": {\"color\": \"green\", \"width\": 3}, \"fillcolor\": \"honeydew\"}]}, {\"showLink\": true, \"linkText\": \"Export to plot.ly\"})});</script>"
      ],
      "text/vnd.plotly.v1+html": [
       "<div id=\"4ace5c45-945d-4aee-870f-de78de157485\" style=\"height: 525px; width: 100%;\" class=\"plotly-graph-div\"></div><script type=\"text/javascript\">require([\"plotly\"], function(Plotly) { window.PLOTLYENV=window.PLOTLYENV || {};window.PLOTLYENV.BASE_URL=\"https://plot.ly\";Plotly.newPlot(\"4ace5c45-945d-4aee-870f-de78de157485\", [{\"type\": \"scatter\", \"x\": [1.5, 3], \"y\": [4, 4.5], \"text\": [\"Using absolute coordinates\", \"Using relative coordinates\"], \"mode\": \"text\"}], {\"xaxis\": {\"range\": [0, 5]}, \"yaxis\": {\"range\": [0, 5]}, \"shapes\": [{\"type\": \"rect\", \"xref\": \"x\", \"yref\": \"y\", \"x0\": 1, \"y0\": 1, \"x1\": 2, \"y1\": 3, \"line\": {\"color\": \"blue\", \"width\": 3}, \"fillcolor\": \"cyan\"}, {\"type\": \"circle\", \"xref\": \"paper\", \"yref\": \"paper\", \"x0\": 0.5, \"y0\": 0, \"x1\": 0.8, \"y1\": 0.8, \"line\": {\"color\": \"green\", \"width\": 3}, \"fillcolor\": \"honeydew\"}]}, {\"showLink\": true, \"linkText\": \"Export to plot.ly\"})});</script>"
      ]
     },
     "metadata": {},
     "output_type": "display_data"
    }
   ],
   "source": [
    "fig = {\n",
    "    'data': data,\n",
    "    'layout': layout,\n",
    "}\n",
    "\n",
    "offline.iplot(fig)"
   ]
  },
  {
   "cell_type": "markdown",
   "metadata": {},
   "source": [
    "### SVG Notation to draw shapes\n",
    "We can use SVG notation to plot various shapes in Plotly"
   ]
  },
  {
   "cell_type": "markdown",
   "metadata": {},
   "source": [
    "#### Plot a triangle\n",
    "* The shape will be of type 'path'\n",
    "* The path contains the SVG Notation:\n",
    " * M will Move the cursor to the point listed after it\n",
    " * L will plot a line from the current cursor location to the point following it\n",
    " * Z will close the shape by drawing a line from the current cursor to the first point"
   ]
  },
  {
   "cell_type": "code",
   "execution_count": 7,
   "metadata": {
    "collapsed": true
   },
   "outputs": [],
   "source": [
    "triangle = {'type': 'path',\n",
    "            \n",
    "            'path': ' M 1,1 L 1,4 L 4,1 Z',\n",
    "            \n",
    "            'fillcolor': 'lightgrey',\n",
    "            'line': {'color': 'grey'}\n",
    "           }"
   ]
  },
  {
   "cell_type": "markdown",
   "metadata": {},
   "source": [
    "#### Plot a complex shape\n",
    "Here, in addition to plotting lines we plot a quadratic bezier curve. While a line requires two points (start and end), a quadratic bezier curve requires 3 - start, control point, end. \n",
    "\n",
    "The Quadratic bezier curve is denoted by Q and has two points following it - the control point and end point. The start point is where the cursor is."
   ]
  },
  {
   "cell_type": "code",
   "execution_count": 11,
   "metadata": {
    "collapsed": true
   },
   "outputs": [],
   "source": [
    "odd_shape = {'type': 'path',\n",
    "            \n",
    "             'path': ' M 6,4 L 5,6 L 5,8 Q 6,10, 8,8 L 7,4 Z',\n",
    "            \n",
    "             'fillcolor': 'tan',\n",
    "             'line': {'color': 'chocolate'}\n",
    "           }"
   ]
  },
  {
   "cell_type": "markdown",
   "metadata": {},
   "source": [
    "#### Define the layout\n",
    "This includes both the shapes we just defined"
   ]
  },
  {
   "cell_type": "code",
   "execution_count": 12,
   "metadata": {},
   "outputs": [],
   "source": [
    "layout = {'xaxis': {'range': [0, 10]},\n",
    "          \n",
    "          'yaxis': {'range': [0, 10]},\n",
    "          \n",
    "          'shapes': [triangle, odd_shape]}"
   ]
  },
  {
   "cell_type": "markdown",
   "metadata": {},
   "source": [
    "#### Plot the figure\n",
    "Here, we leave the data empty"
   ]
  },
  {
   "cell_type": "code",
   "execution_count": 13,
   "metadata": {},
   "outputs": [
    {
     "data": {
      "application/vnd.plotly.v1+json": {
       "data": [
        {}
       ],
       "layout": {
        "shapes": [
         {
          "fillcolor": "lightgrey",
          "line": {
           "color": "grey"
          },
          "path": " M 1,1 L 1,4 L 4,1 Z",
          "type": "path"
         },
         {
          "fillcolor": "tan",
          "line": {
           "color": "chocolate"
          },
          "path": " M 6 4 L 5 6 L 5 8 Q 6 10, 8 8 L 7 4 Z",
          "type": "path"
         }
        ],
        "xaxis": {
         "range": [
          0,
          10
         ]
        },
        "yaxis": {
         "range": [
          0,
          10
         ]
        }
       }
      },
      "text/html": [
       "<div id=\"bd0a06aa-0e48-4c3e-82ac-d295753c376e\" style=\"height: 525px; width: 100%;\" class=\"plotly-graph-div\"></div><script type=\"text/javascript\">require([\"plotly\"], function(Plotly) { window.PLOTLYENV=window.PLOTLYENV || {};window.PLOTLYENV.BASE_URL=\"https://plot.ly\";Plotly.newPlot(\"bd0a06aa-0e48-4c3e-82ac-d295753c376e\", [{}], {\"xaxis\": {\"range\": [0, 10]}, \"yaxis\": {\"range\": [0, 10]}, \"shapes\": [{\"type\": \"path\", \"path\": \" M 1,1 L 1,4 L 4,1 Z\", \"fillcolor\": \"lightgrey\", \"line\": {\"color\": \"grey\"}}, {\"type\": \"path\", \"path\": \" M 6 4 L 5 6 L 5 8 Q 6 10, 8 8 L 7 4 Z\", \"fillcolor\": \"tan\", \"line\": {\"color\": \"chocolate\"}}]}, {\"showLink\": true, \"linkText\": \"Export to plot.ly\"})});</script>"
      ],
      "text/vnd.plotly.v1+html": [
       "<div id=\"bd0a06aa-0e48-4c3e-82ac-d295753c376e\" style=\"height: 525px; width: 100%;\" class=\"plotly-graph-div\"></div><script type=\"text/javascript\">require([\"plotly\"], function(Plotly) { window.PLOTLYENV=window.PLOTLYENV || {};window.PLOTLYENV.BASE_URL=\"https://plot.ly\";Plotly.newPlot(\"bd0a06aa-0e48-4c3e-82ac-d295753c376e\", [{}], {\"xaxis\": {\"range\": [0, 10]}, \"yaxis\": {\"range\": [0, 10]}, \"shapes\": [{\"type\": \"path\", \"path\": \" M 1,1 L 1,4 L 4,1 Z\", \"fillcolor\": \"lightgrey\", \"line\": {\"color\": \"grey\"}}, {\"type\": \"path\", \"path\": \" M 6 4 L 5 6 L 5 8 Q 6 10, 8 8 L 7 4 Z\", \"fillcolor\": \"tan\", \"line\": {\"color\": \"chocolate\"}}]}, {\"showLink\": true, \"linkText\": \"Export to plot.ly\"})});</script>"
      ]
     },
     "metadata": {},
     "output_type": "display_data"
    }
   ],
   "source": [
    "fig = {\n",
    "    'data': [{}],\n",
    "    'layout': layout,\n",
    "}\n",
    "\n",
    "offline.iplot(fig)"
   ]
  },
  {
   "cell_type": "code",
   "execution_count": null,
   "metadata": {
    "collapsed": true
   },
   "outputs": [],
   "source": []
  },
  {
   "cell_type": "code",
   "execution_count": null,
   "metadata": {
    "collapsed": true
   },
   "outputs": [],
   "source": []
  }
 ],
 "metadata": {
  "kernelspec": {
   "display_name": "Python 3",
   "language": "python",
   "name": "python3"
  },
  "language_info": {
   "codemirror_mode": {
    "name": "ipython",
    "version": 3
   },
   "file_extension": ".py",
   "mimetype": "text/x-python",
   "name": "python",
   "nbconvert_exporter": "python",
   "pygments_lexer": "ipython3",
   "version": "3.6.5"
  }
 },
 "nbformat": 4,
 "nbformat_minor": 2
}
