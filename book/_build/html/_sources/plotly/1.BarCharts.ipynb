{
 "cells": [
  {
   "cell_type": "code",
   "execution_count": 1,
   "metadata": {},
   "outputs": [],
   "source": [
    "import plotly.graph_objs as go"
   ]
  },
  {
   "cell_type": "code",
   "execution_count": 2,
   "metadata": {},
   "outputs": [
    {
     "data": {
      "text/html": [
       "<script>requirejs.config({paths: { 'plotly': ['https://cdn.plot.ly/plotly-latest.min']},});if(!window.Plotly) {{require(['plotly'],function(plotly) {window.Plotly=plotly;});}}</script>"
      ],
      "text/vnd.plotly.v1+html": [
       "<script>requirejs.config({paths: { 'plotly': ['https://cdn.plot.ly/plotly-latest.min']},});if(!window.Plotly) {{require(['plotly'],function(plotly) {window.Plotly=plotly;});}}</script>"
      ]
     },
     "metadata": {},
     "output_type": "display_data"
    }
   ],
   "source": [
    "import plotly.offline as offline\n",
    "\n",
    "offline.init_notebook_mode(connected=True)"
   ]
  },
  {
   "cell_type": "markdown",
   "metadata": {},
   "source": [
    "#### Define the data for our plot\n",
    "Here, we use the Bar graph object to set the X and Y values. The data list is populated with the single trace which is the Bar Chart.\n",
    "\n",
    "Assume we are shop which supplies delicious desserts"
   ]
  },
  {
   "cell_type": "code",
   "execution_count": 3,
   "metadata": {
    "collapsed": true
   },
   "outputs": [],
   "source": [
    "data = [go.Bar(x=['chocolates', 'cakes', 'muffins'],\n",
    "               y=[50, 14, 35])]"
   ]
  },
  {
   "cell_type": "code",
   "execution_count": 4,
   "metadata": {},
   "outputs": [
    {
     "data": {
      "application/vnd.plotly.v1+json": {
       "data": [
        {
         "type": "bar",
         "x": [
          "chocolates",
          "buttercups",
          "muffins"
         ],
         "y": [
          50,
          14,
          35
         ]
        }
       ],
       "layout": {}
      },
      "text/html": [
       "<div id=\"af225ce5-77f6-4d74-841a-588a96aa0d88\" style=\"height: 525px; width: 100%;\" class=\"plotly-graph-div\"></div><script type=\"text/javascript\">require([\"plotly\"], function(Plotly) { window.PLOTLYENV=window.PLOTLYENV || {};window.PLOTLYENV.BASE_URL=\"https://plot.ly\";Plotly.newPlot(\"af225ce5-77f6-4d74-841a-588a96aa0d88\", [{\"type\": \"bar\", \"x\": [\"chocolates\", \"buttercups\", \"muffins\"], \"y\": [50, 14, 35]}], {}, {\"showLink\": true, \"linkText\": \"Export to plot.ly\"})});</script>"
      ],
      "text/vnd.plotly.v1+html": [
       "<div id=\"af225ce5-77f6-4d74-841a-588a96aa0d88\" style=\"height: 525px; width: 100%;\" class=\"plotly-graph-div\"></div><script type=\"text/javascript\">require([\"plotly\"], function(Plotly) { window.PLOTLYENV=window.PLOTLYENV || {};window.PLOTLYENV.BASE_URL=\"https://plot.ly\";Plotly.newPlot(\"af225ce5-77f6-4d74-841a-588a96aa0d88\", [{\"type\": \"bar\", \"x\": [\"chocolates\", \"buttercups\", \"muffins\"], \"y\": [50, 14, 35]}], {}, {\"showLink\": true, \"linkText\": \"Export to plot.ly\"})});</script>"
      ]
     },
     "metadata": {},
     "output_type": "display_data"
    }
   ],
   "source": [
    "offline.iplot(data)"
   ]
  },
  {
   "cell_type": "markdown",
   "metadata": {},
   "source": [
    "### Grouped bars"
   ]
  },
  {
   "cell_type": "markdown",
   "metadata": {},
   "source": [
    "Assume we have made 2 orders for the desserts. \n",
    "\n",
    "We would like to view the order quantities for the items in each order side by side. For this, we created a grouped bar graph."
   ]
  },
  {
   "cell_type": "code",
   "execution_count": 5,
   "metadata": {
    "collapsed": true
   },
   "outputs": [],
   "source": [
    "trace1 = go.Bar(x=['chocolates', 'cakes', 'muffins'],\n",
    "                y=[50, 14, 35],\n",
    "                name='Order #1')"
   ]
  },
  {
   "cell_type": "code",
   "execution_count": 6,
   "metadata": {
    "collapsed": true
   },
   "outputs": [],
   "source": [
    "trace2 = go.Bar(x=['chocolates', 'cakes', 'muffins'],\n",
    "                y=[30, 18, 29],\n",
    "                name='Order #2'\n",
    ")"
   ]
  },
  {
   "cell_type": "code",
   "execution_count": null,
   "metadata": {
    "collapsed": true
   },
   "outputs": [],
   "source": [
    "data = [trace1, trace2]"
   ]
  },
  {
   "cell_type": "markdown",
   "metadata": {},
   "source": [
    "#### Define the layout\n",
    "Here we need to set barmode to 'group' in order to view a grouped bar graph"
   ]
  },
  {
   "cell_type": "code",
   "execution_count": 8,
   "metadata": {},
   "outputs": [],
   "source": [
    "layout = go.Layout(barmode = 'group')"
   ]
  },
  {
   "cell_type": "markdown",
   "metadata": {},
   "source": [
    "#### Plot the graph\n",
    "Hover over each of the bars to view the corresponding data. A legend is also automatically generated."
   ]
  },
  {
   "cell_type": "code",
   "execution_count": 9,
   "metadata": {},
   "outputs": [
    {
     "data": {
      "application/vnd.plotly.v1+json": {
       "data": [
        {
         "name": "Order #1",
         "type": "bar",
         "x": [
          "chocolates",
          "buttercups",
          "muffins"
         ],
         "y": [
          50,
          14,
          35
         ]
        },
        {
         "name": "Order #2",
         "type": "bar",
         "x": [
          "chocolates",
          "buttercups",
          "muffins"
         ],
         "y": [
          30,
          18,
          29
         ]
        }
       ],
       "layout": {
        "barmode": "group"
       }
      },
      "text/html": [
       "<div id=\"fa785720-3146-42b5-ae07-d75406f8b334\" style=\"height: 525px; width: 100%;\" class=\"plotly-graph-div\"></div><script type=\"text/javascript\">require([\"plotly\"], function(Plotly) { window.PLOTLYENV=window.PLOTLYENV || {};window.PLOTLYENV.BASE_URL=\"https://plot.ly\";Plotly.newPlot(\"fa785720-3146-42b5-ae07-d75406f8b334\", [{\"type\": \"bar\", \"x\": [\"chocolates\", \"buttercups\", \"muffins\"], \"y\": [50, 14, 35], \"name\": \"Order #1\"}, {\"type\": \"bar\", \"x\": [\"chocolates\", \"buttercups\", \"muffins\"], \"y\": [30, 18, 29], \"name\": \"Order #2\"}], {\"barmode\": \"group\"}, {\"showLink\": true, \"linkText\": \"Export to plot.ly\"})});</script>"
      ],
      "text/vnd.plotly.v1+html": [
       "<div id=\"fa785720-3146-42b5-ae07-d75406f8b334\" style=\"height: 525px; width: 100%;\" class=\"plotly-graph-div\"></div><script type=\"text/javascript\">require([\"plotly\"], function(Plotly) { window.PLOTLYENV=window.PLOTLYENV || {};window.PLOTLYENV.BASE_URL=\"https://plot.ly\";Plotly.newPlot(\"fa785720-3146-42b5-ae07-d75406f8b334\", [{\"type\": \"bar\", \"x\": [\"chocolates\", \"buttercups\", \"muffins\"], \"y\": [50, 14, 35], \"name\": \"Order #1\"}, {\"type\": \"bar\", \"x\": [\"chocolates\", \"buttercups\", \"muffins\"], \"y\": [30, 18, 29], \"name\": \"Order #2\"}], {\"barmode\": \"group\"}, {\"showLink\": true, \"linkText\": \"Export to plot.ly\"})});</script>"
      ]
     },
     "metadata": {},
     "output_type": "display_data"
    }
   ],
   "source": [
    "fig = go.Figure(data=data, \n",
    "                layout=layout)\n",
    "\n",
    "offline.iplot(fig)"
   ]
  },
  {
   "cell_type": "markdown",
   "metadata": {},
   "source": [
    "### Stacked Bar Chart\n",
    "Instead of having the two traces side by side, the bars from the traces are stacked to show a cumulative value. "
   ]
  },
  {
   "cell_type": "code",
   "execution_count": 13,
   "metadata": {},
   "outputs": [],
   "source": [
    "trace1 = go.Bar(x=['chocolates', 'cakes', 'muffins'],\n",
    "                y=[50, 14, 35],\n",
    "                name='Order #1')\n",
    "\n",
    "trace2 = go.Bar(x=['chocolates', 'cakes', 'muffins'],\n",
    "                y=[30, 18, 29],\n",
    "                name='Order #2'\n",
    ")\n",
    "\n",
    "data = [trace1, trace2]"
   ]
  },
  {
   "cell_type": "code",
   "execution_count": 14,
   "metadata": {},
   "outputs": [],
   "source": [
    "layout = go.Layout(barmode = 'stack')"
   ]
  },
  {
   "cell_type": "code",
   "execution_count": 15,
   "metadata": {},
   "outputs": [
    {
     "data": {
      "application/vnd.plotly.v1+json": {
       "data": [
        {
         "name": "Order #1",
         "type": "bar",
         "x": [
          "chocolates",
          "cakes",
          "muffins"
         ],
         "y": [
          50,
          14,
          35
         ]
        },
        {
         "name": "Order #2",
         "type": "bar",
         "x": [
          "chocolates",
          "cakes",
          "muffins"
         ],
         "y": [
          30,
          18,
          29
         ]
        }
       ],
       "layout": {
        "barmode": "stack"
       }
      },
      "text/html": [
       "<div id=\"77bf5e5d-474e-4637-923e-d5b03d0e4b61\" style=\"height: 525px; width: 100%;\" class=\"plotly-graph-div\"></div><script type=\"text/javascript\">require([\"plotly\"], function(Plotly) { window.PLOTLYENV=window.PLOTLYENV || {};window.PLOTLYENV.BASE_URL=\"https://plot.ly\";Plotly.newPlot(\"77bf5e5d-474e-4637-923e-d5b03d0e4b61\", [{\"type\": \"bar\", \"x\": [\"chocolates\", \"cakes\", \"muffins\"], \"y\": [50, 14, 35], \"name\": \"Order #1\"}, {\"type\": \"bar\", \"x\": [\"chocolates\", \"cakes\", \"muffins\"], \"y\": [30, 18, 29], \"name\": \"Order #2\"}], {\"barmode\": \"stack\"}, {\"showLink\": true, \"linkText\": \"Export to plot.ly\"})});</script>"
      ],
      "text/vnd.plotly.v1+html": [
       "<div id=\"77bf5e5d-474e-4637-923e-d5b03d0e4b61\" style=\"height: 525px; width: 100%;\" class=\"plotly-graph-div\"></div><script type=\"text/javascript\">require([\"plotly\"], function(Plotly) { window.PLOTLYENV=window.PLOTLYENV || {};window.PLOTLYENV.BASE_URL=\"https://plot.ly\";Plotly.newPlot(\"77bf5e5d-474e-4637-923e-d5b03d0e4b61\", [{\"type\": \"bar\", \"x\": [\"chocolates\", \"cakes\", \"muffins\"], \"y\": [50, 14, 35], \"name\": \"Order #1\"}, {\"type\": \"bar\", \"x\": [\"chocolates\", \"cakes\", \"muffins\"], \"y\": [30, 18, 29], \"name\": \"Order #2\"}], {\"barmode\": \"stack\"}, {\"showLink\": true, \"linkText\": \"Export to plot.ly\"})});</script>"
      ]
     },
     "metadata": {},
     "output_type": "display_data"
    }
   ],
   "source": [
    "fig = go.Figure(data = data, \n",
    "                layout = layout)\n",
    "\n",
    "offline.iplot(fig)"
   ]
  },
  {
   "cell_type": "markdown",
   "metadata": {},
   "source": [
    "### Customising the Bar Graph\n",
    "We can adjust the color, width of the bars and add text labels\n"
   ]
  },
  {
   "cell_type": "markdown",
   "metadata": {},
   "source": [
    "#### Define the new trace\n",
    "Aside from the bars which we drew at first, we configure the following:\n",
    "* The width of each bar (in axis units). Can either be a list (where the widths are picked in rotation) or a single number (which applies to all bars)\n",
    "* The color of each bar in the trace (can again be a number or a list)\n",
    "* The text associated with each bar (set to the y value for the order quantity)\n",
    "* The position of the text (can be either 'inside', 'outside', 'auto' or 'none'). The available options for textposition will vary according to the object being plotted. These are the options for Bar"
   ]
  },
  {
   "cell_type": "code",
   "execution_count": 8,
   "metadata": {},
   "outputs": [],
   "source": [
    "x = ['chocolates', 'cakes', 'muffins']\n",
    "\n",
    "y = [50, 14, 35]"
   ]
  },
  {
   "cell_type": "code",
   "execution_count": 9,
   "metadata": {},
   "outputs": [],
   "source": [
    "trace = go.Bar(x = x,\n",
    "               y = y,\n",
    "               \n",
    "               width = [0.5, 1, 0.7],\n",
    "               \n",
    "               marker = dict(color = ['chocolate', 'wheat', 'yellow']),\n",
    "               \n",
    "               text = y,\n",
    "               textposition = 'inside'\n",
    ")"
   ]
  },
  {
   "cell_type": "code",
   "execution_count": 10,
   "metadata": {},
   "outputs": [],
   "source": [
    "data = [trace]"
   ]
  },
  {
   "cell_type": "markdown",
   "metadata": {},
   "source": [
    "#### Define the layout\n",
    "We add a few more customizations here:\n",
    "* We set the font family and font size for the title\n",
    "* We angle the tick labels on the X axis"
   ]
  },
  {
   "cell_type": "code",
   "execution_count": 11,
   "metadata": {},
   "outputs": [],
   "source": [
    "layout = go.Layout(title='Dessert Order',\n",
    "                   \n",
    "                   titlefont = dict(family = 'Arial', size = 15),\n",
    "                   \n",
    "                   xaxis = dict(tickangle = 30))"
   ]
  },
  {
   "cell_type": "code",
   "execution_count": 12,
   "metadata": {},
   "outputs": [
    {
     "data": {
      "application/vnd.plotly.v1+json": {
       "data": [
        {
         "marker": {
          "color": [
           "chocolate",
           "wheat",
           "yellow"
          ]
         },
         "text": [
          50,
          14,
          35
         ],
         "textposition": "inside",
         "type": "bar",
         "width": [
          0.5,
          1,
          0.7
         ],
         "x": [
          "chocolates",
          "cakes",
          "muffins"
         ],
         "y": [
          50,
          14,
          35
         ]
        }
       ],
       "layout": {
        "title": "Dessert Order",
        "titlefont": {
         "family": "Arial",
         "size": 15
        },
        "xaxis": {
         "tickangle": 30
        }
       }
      },
      "text/html": [
       "<div id=\"f683efa4-4a73-4f53-9da3-51a2e21ac9ba\" style=\"height: 525px; width: 100%;\" class=\"plotly-graph-div\"></div><script type=\"text/javascript\">require([\"plotly\"], function(Plotly) { window.PLOTLYENV=window.PLOTLYENV || {};window.PLOTLYENV.BASE_URL=\"https://plot.ly\";Plotly.newPlot(\"f683efa4-4a73-4f53-9da3-51a2e21ac9ba\", [{\"type\": \"bar\", \"x\": [\"chocolates\", \"cakes\", \"muffins\"], \"y\": [50, 14, 35], \"width\": [0.5, 1, 0.7], \"marker\": {\"color\": [\"chocolate\", \"wheat\", \"yellow\"]}, \"text\": [50, 14, 35], \"textposition\": \"inside\"}], {\"title\": \"Dessert Order\", \"titlefont\": {\"family\": \"Arial\", \"size\": 15}, \"xaxis\": {\"tickangle\": 30}}, {\"showLink\": true, \"linkText\": \"Export to plot.ly\"})});</script>"
      ],
      "text/vnd.plotly.v1+html": [
       "<div id=\"f683efa4-4a73-4f53-9da3-51a2e21ac9ba\" style=\"height: 525px; width: 100%;\" class=\"plotly-graph-div\"></div><script type=\"text/javascript\">require([\"plotly\"], function(Plotly) { window.PLOTLYENV=window.PLOTLYENV || {};window.PLOTLYENV.BASE_URL=\"https://plot.ly\";Plotly.newPlot(\"f683efa4-4a73-4f53-9da3-51a2e21ac9ba\", [{\"type\": \"bar\", \"x\": [\"chocolates\", \"cakes\", \"muffins\"], \"y\": [50, 14, 35], \"width\": [0.5, 1, 0.7], \"marker\": {\"color\": [\"chocolate\", \"wheat\", \"yellow\"]}, \"text\": [50, 14, 35], \"textposition\": \"inside\"}], {\"title\": \"Dessert Order\", \"titlefont\": {\"family\": \"Arial\", \"size\": 15}, \"xaxis\": {\"tickangle\": 30}}, {\"showLink\": true, \"linkText\": \"Export to plot.ly\"})});</script>"
      ]
     },
     "metadata": {},
     "output_type": "display_data"
    }
   ],
   "source": [
    "fig = go.Figure(data = data, \n",
    "                layout = layout)\n",
    "\n",
    "offline.iplot(fig)"
   ]
  },
  {
   "cell_type": "code",
   "execution_count": null,
   "metadata": {},
   "outputs": [],
   "source": []
  },
  {
   "cell_type": "code",
   "execution_count": null,
   "metadata": {},
   "outputs": [],
   "source": []
  },
  {
   "cell_type": "code",
   "execution_count": null,
   "metadata": {},
   "outputs": [],
   "source": []
  }
 ],
 "metadata": {
  "kernelspec": {
   "display_name": "Python 3",
   "language": "python",
   "name": "python3"
  },
  "language_info": {
   "codemirror_mode": {
    "name": "ipython",
    "version": 3
   },
   "file_extension": ".py",
   "mimetype": "text/x-python",
   "name": "python",
   "nbconvert_exporter": "python",
   "pygments_lexer": "ipython3",
   "version": "3.6.5"
  }
 },
 "nbformat": 4,
 "nbformat_minor": 2
}
