{
 "cells": [
  {
   "cell_type": "code",
   "execution_count": 1,
   "metadata": {},
   "outputs": [
    {
     "data": {
      "text/html": [
       "<script>requirejs.config({paths: { 'plotly': ['https://cdn.plot.ly/plotly-latest.min']},});if(!window.Plotly) {{require(['plotly'],function(plotly) {window.Plotly=plotly;});}}</script>"
      ],
      "text/vnd.plotly.v1+html": [
       "<script>requirejs.config({paths: { 'plotly': ['https://cdn.plot.ly/plotly-latest.min']},});if(!window.Plotly) {{require(['plotly'],function(plotly) {window.Plotly=plotly;});}}</script>"
      ]
     },
     "metadata": {},
     "output_type": "display_data"
    }
   ],
   "source": [
    "import plotly.plotly as py\n",
    "import plotly.graph_objs as go\n",
    "import plotly.offline as offline\n",
    "\n",
    "offline.init_notebook_mode(connected=True)"
   ]
  },
  {
   "cell_type": "markdown",
   "metadata": {},
   "source": [
    "#### Create a list of all the continents\n",
    "We don't consider Antarctica here"
   ]
  },
  {
   "cell_type": "code",
   "execution_count": 2,
   "metadata": {
    "collapsed": true
   },
   "outputs": [],
   "source": [
    "continents = ['Asia', \n",
    "              'Africa', \n",
    "              'Europe', \n",
    "              'North America', \n",
    "              'Oceania', \n",
    "              'South America']"
   ]
  },
  {
   "cell_type": "markdown",
   "metadata": {},
   "source": [
    "#### A list of the population for each continent (in millions)"
   ]
  },
  {
   "cell_type": "code",
   "execution_count": 3,
   "metadata": {
    "collapsed": true
   },
   "outputs": [],
   "source": [
    "populations = [4436, 1216, 739, 579, 40, 423]"
   ]
  },
  {
   "cell_type": "markdown",
   "metadata": {},
   "source": [
    "#### A simple pie chart\n",
    "We only need to supply the labels and values needed for the plot"
   ]
  },
  {
   "cell_type": "code",
   "execution_count": 19,
   "metadata": {},
   "outputs": [],
   "source": [
    "trace = go.Pie(labels = continents, \n",
    "               values = populations,\n",
    "              )"
   ]
  },
  {
   "cell_type": "markdown",
   "metadata": {},
   "source": [
    "#### Plot the pie chart\n",
    "* The color for each wedge will be picked from a default color palette\n",
    "* The percentage for each wedge is displayed by default\n",
    "* For wedges representing a very tiny value, Plotly is smart enough to place the text outside\n",
    "* A legend appears by default"
   ]
  },
  {
   "cell_type": "code",
   "execution_count": 20,
   "metadata": {},
   "outputs": [
    {
     "data": {
      "application/vnd.plotly.v1+json": {
       "data": [
        {
         "labels": [
          "Asia",
          "Africa",
          "Europe",
          "North America",
          "Oceania",
          "South America"
         ],
         "type": "pie",
         "values": [
          4436,
          1216,
          739,
          579,
          40,
          423
         ]
        }
       ],
       "layout": {}
      },
      "text/html": [
       "<div id=\"d4347431-0ea6-4c68-a276-25e59eb44875\" style=\"height: 525px; width: 100%;\" class=\"plotly-graph-div\"></div><script type=\"text/javascript\">require([\"plotly\"], function(Plotly) { window.PLOTLYENV=window.PLOTLYENV || {};window.PLOTLYENV.BASE_URL=\"https://plot.ly\";Plotly.newPlot(\"d4347431-0ea6-4c68-a276-25e59eb44875\", [{\"type\": \"pie\", \"labels\": [\"Asia\", \"Africa\", \"Europe\", \"North America\", \"Oceania\", \"South America\"], \"values\": [4436, 1216, 739, 579, 40, 423]}], {}, {\"showLink\": true, \"linkText\": \"Export to plot.ly\"})});</script>"
      ],
      "text/vnd.plotly.v1+html": [
       "<div id=\"d4347431-0ea6-4c68-a276-25e59eb44875\" style=\"height: 525px; width: 100%;\" class=\"plotly-graph-div\"></div><script type=\"text/javascript\">require([\"plotly\"], function(Plotly) { window.PLOTLYENV=window.PLOTLYENV || {};window.PLOTLYENV.BASE_URL=\"https://plot.ly\";Plotly.newPlot(\"d4347431-0ea6-4c68-a276-25e59eb44875\", [{\"type\": \"pie\", \"labels\": [\"Asia\", \"Africa\", \"Europe\", \"North America\", \"Oceania\", \"South America\"], \"values\": [4436, 1216, 739, 579, 40, 423]}], {}, {\"showLink\": true, \"linkText\": \"Export to plot.ly\"})});</script>"
      ]
     },
     "metadata": {},
     "output_type": "display_data"
    }
   ],
   "source": [
    "data = [trace]\n",
    "\n",
    "offline.iplot(data)"
   ]
  },
  {
   "cell_type": "markdown",
   "metadata": {},
   "source": [
    "### Styled Pie Chart\n",
    "We can customize the pie chart by formatting the wedges and the text displayed"
   ]
  },
  {
   "cell_type": "markdown",
   "metadata": {},
   "source": [
    "#### Create a list of colors\n",
    "These will be used to represent the different continents on the chart"
   ]
  },
  {
   "cell_type": "code",
   "execution_count": null,
   "metadata": {
    "collapsed": true
   },
   "outputs": [],
   "source": [
    "colors = ['burlywood', 'silver', 'olive', 'skyblue', 'violet', 'crimson' ]"
   ]
  },
  {
   "cell_type": "markdown",
   "metadata": {},
   "source": [
    "#### Define the pie chart\n",
    "* we set the hoverinfo to show the wedge label along with the percentage value for the sector\n",
    "* we explicitly set the text inside the wedge to display value (can also be 'percent', 'label' or a combination)\n",
    "* the font for the displayed text can be formatted\n",
    "* marker represents the wedges of the pie chart. We configure it to:\n",
    " * use the list of colors we defined\n",
    " * use a dark grey line at the boundaries\n",
    " * set the width of the boundary line\n",
    "* the value of hole will create a hole in the pie chart. The value can be between 0 and 1 and represents the width of the hole relative to the whole pie"
   ]
  },
  {
   "cell_type": "code",
   "execution_count": 21,
   "metadata": {
    "collapsed": true
   },
   "outputs": [],
   "source": [
    "trace = go.Pie(labels = continents, \n",
    "               values = populations,\n",
    "               \n",
    "               hoverinfo = 'label+percent', \n",
    "               \n",
    "               textinfo = 'value', \n",
    "               textfont = dict(size = 20),\n",
    "               \n",
    "               marker = dict(colors = colors,\n",
    "                             line = dict(color = 'dimgrey', \n",
    "                                         width = 2)\n",
    "                            ), \n",
    "               hole = 0.4\n",
    "              )"
   ]
  },
  {
   "cell_type": "code",
   "execution_count": 22,
   "metadata": {},
   "outputs": [
    {
     "data": {
      "application/vnd.plotly.v1+json": {
       "data": [
        {
         "hole": 0.4,
         "hoverinfo": "label+value",
         "labels": [
          "Asia",
          "Africa",
          "Europe",
          "North America",
          "Oceania",
          "South America"
         ],
         "marker": {
          "colors": [
           "burlywood",
           "silver",
           "olive",
           "skyblue",
           "violet",
           "crimson"
          ],
          "line": {
           "color": "dimgrey",
           "width": 2
          }
         },
         "textfont": {
          "size": 20
         },
         "textinfo": "percent",
         "type": "pie",
         "values": [
          4436,
          1216,
          739,
          579,
          40,
          423
         ]
        }
       ],
       "layout": {}
      },
      "text/html": [
       "<div id=\"49d581ed-e748-4221-ae91-bd5c33ff523c\" style=\"height: 525px; width: 100%;\" class=\"plotly-graph-div\"></div><script type=\"text/javascript\">require([\"plotly\"], function(Plotly) { window.PLOTLYENV=window.PLOTLYENV || {};window.PLOTLYENV.BASE_URL=\"https://plot.ly\";Plotly.newPlot(\"49d581ed-e748-4221-ae91-bd5c33ff523c\", [{\"type\": \"pie\", \"labels\": [\"Asia\", \"Africa\", \"Europe\", \"North America\", \"Oceania\", \"South America\"], \"values\": [4436, 1216, 739, 579, 40, 423], \"hoverinfo\": \"label+value\", \"textinfo\": \"percent\", \"textfont\": {\"size\": 20}, \"marker\": {\"colors\": [\"burlywood\", \"silver\", \"olive\", \"skyblue\", \"violet\", \"crimson\"], \"line\": {\"color\": \"dimgrey\", \"width\": 2}}, \"hole\": 0.4}], {}, {\"showLink\": true, \"linkText\": \"Export to plot.ly\"})});</script>"
      ],
      "text/vnd.plotly.v1+html": [
       "<div id=\"49d581ed-e748-4221-ae91-bd5c33ff523c\" style=\"height: 525px; width: 100%;\" class=\"plotly-graph-div\"></div><script type=\"text/javascript\">require([\"plotly\"], function(Plotly) { window.PLOTLYENV=window.PLOTLYENV || {};window.PLOTLYENV.BASE_URL=\"https://plot.ly\";Plotly.newPlot(\"49d581ed-e748-4221-ae91-bd5c33ff523c\", [{\"type\": \"pie\", \"labels\": [\"Asia\", \"Africa\", \"Europe\", \"North America\", \"Oceania\", \"South America\"], \"values\": [4436, 1216, 739, 579, 40, 423], \"hoverinfo\": \"label+value\", \"textinfo\": \"percent\", \"textfont\": {\"size\": 20}, \"marker\": {\"colors\": [\"burlywood\", \"silver\", \"olive\", \"skyblue\", \"violet\", \"crimson\"], \"line\": {\"color\": \"dimgrey\", \"width\": 2}}, \"hole\": 0.4}], {}, {\"showLink\": true, \"linkText\": \"Export to plot.ly\"})});</script>"
      ]
     },
     "metadata": {},
     "output_type": "display_data"
    }
   ],
   "source": [
    "data = [trace]\n",
    "\n",
    "offline.iplot(data)"
   ]
  },
  {
   "cell_type": "code",
   "execution_count": null,
   "metadata": {
    "collapsed": true
   },
   "outputs": [],
   "source": []
  }
 ],
 "metadata": {
  "kernelspec": {
   "display_name": "Python 3",
   "language": "python",
   "name": "python3"
  },
  "language_info": {
   "codemirror_mode": {
    "name": "ipython",
    "version": 3
   },
   "file_extension": ".py",
   "mimetype": "text/x-python",
   "name": "python",
   "nbconvert_exporter": "python",
   "pygments_lexer": "ipython3",
   "version": "3.6.3"
  }
 },
 "nbformat": 4,
 "nbformat_minor": 2
}
