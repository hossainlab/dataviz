{
 "cells": [
  {
   "cell_type": "code",
   "execution_count": 1,
   "metadata": {},
   "outputs": [
    {
     "data": {
      "text/html": [
       "<script>requirejs.config({paths: { 'plotly': ['https://cdn.plot.ly/plotly-latest.min']},});if(!window.Plotly) {{require(['plotly'],function(plotly) {window.Plotly=plotly;});}}</script>"
      ],
      "text/vnd.plotly.v1+html": [
       "<script>requirejs.config({paths: { 'plotly': ['https://cdn.plot.ly/plotly-latest.min']},});if(!window.Plotly) {{require(['plotly'],function(plotly) {window.Plotly=plotly;});}}</script>"
      ]
     },
     "metadata": {},
     "output_type": "display_data"
    }
   ],
   "source": [
    "import plotly.graph_objs as go\n",
    "import numpy as np\n",
    "import plotly.offline as offline\n",
    "\n",
    "offline.init_notebook_mode(connected=True)"
   ]
  },
  {
   "cell_type": "markdown",
   "metadata": {},
   "source": [
    "## Style Line Plots\n",
    "We have seen how line plots can be plotted. Now we see how those can be formatted"
   ]
  },
  {
   "cell_type": "markdown",
   "metadata": {},
   "source": [
    "### Download data set\n",
    "Europe international tourist arrivals by region over time.\n",
    "\n",
    "Dataset location: https://www.e-unwto.org/doi/pdf/10.18111/9789284419029"
   ]
  },
  {
   "cell_type": "code",
   "execution_count": 2,
   "metadata": {},
   "outputs": [
    {
     "data": {
      "text/html": [
       "<div>\n",
       "<style scoped>\n",
       "    .dataframe tbody tr th:only-of-type {\n",
       "        vertical-align: middle;\n",
       "    }\n",
       "\n",
       "    .dataframe tbody tr th {\n",
       "        vertical-align: top;\n",
       "    }\n",
       "\n",
       "    .dataframe thead th {\n",
       "        text-align: right;\n",
       "    }\n",
       "</style>\n",
       "<table border=\"1\" class=\"dataframe\">\n",
       "  <thead>\n",
       "    <tr style=\"text-align: right;\">\n",
       "      <th></th>\n",
       "      <th>Year</th>\n",
       "      <th>Western</th>\n",
       "      <th>Eastern</th>\n",
       "      <th>Southern</th>\n",
       "    </tr>\n",
       "  </thead>\n",
       "  <tbody>\n",
       "    <tr>\n",
       "      <th>0</th>\n",
       "      <td>1990</td>\n",
       "      <td>108.6</td>\n",
       "      <td>33.9</td>\n",
       "      <td>90.3</td>\n",
       "    </tr>\n",
       "    <tr>\n",
       "      <th>1</th>\n",
       "      <td>1995</td>\n",
       "      <td>112.2</td>\n",
       "      <td>58.9</td>\n",
       "      <td>96.0</td>\n",
       "    </tr>\n",
       "    <tr>\n",
       "      <th>2</th>\n",
       "      <td>2000</td>\n",
       "      <td>139.7</td>\n",
       "      <td>69.6</td>\n",
       "      <td>132.6</td>\n",
       "    </tr>\n",
       "    <tr>\n",
       "      <th>3</th>\n",
       "      <td>2005</td>\n",
       "      <td>141.7</td>\n",
       "      <td>95.3</td>\n",
       "      <td>156.4</td>\n",
       "    </tr>\n",
       "    <tr>\n",
       "      <th>4</th>\n",
       "      <td>2010</td>\n",
       "      <td>154.4</td>\n",
       "      <td>98.5</td>\n",
       "      <td>173.3</td>\n",
       "    </tr>\n",
       "    <tr>\n",
       "      <th>5</th>\n",
       "      <td>2015</td>\n",
       "      <td>181.4</td>\n",
       "      <td>121.4</td>\n",
       "      <td>225.5</td>\n",
       "    </tr>\n",
       "  </tbody>\n",
       "</table>\n",
       "</div>"
      ],
      "text/plain": [
       "   Year  Western  Eastern  Southern\n",
       "0  1990    108.6     33.9      90.3\n",
       "1  1995    112.2     58.9      96.0\n",
       "2  2000    139.7     69.6     132.6\n",
       "3  2005    141.7     95.3     156.4\n",
       "4  2010    154.4     98.5     173.3\n",
       "5  2015    181.4    121.4     225.5"
      ]
     },
     "execution_count": 2,
     "metadata": {},
     "output_type": "execute_result"
    }
   ],
   "source": [
    "import pandas as pd\n",
    "\n",
    "tourism_data = pd.read_csv('datasets/europe_tourism.csv')\n",
    "tourism_data"
   ]
  },
  {
   "cell_type": "markdown",
   "metadata": {},
   "source": [
    "#### The first trace\n",
    "Plot a line for Western Europe's tourism numbers. We format the line by:\n",
    "* specifying a color in RGB format (we can also use RGBA)\n",
    "* specify a width"
   ]
  },
  {
   "cell_type": "code",
   "execution_count": 3,
   "metadata": {
    "collapsed": true
   },
   "outputs": [],
   "source": [
    "trace0 = go.Scatter(\n",
    "    \n",
    "    x = tourism_data['Year'],\n",
    "    y = tourism_data['Western'],\n",
    "    \n",
    "    name = 'Western Europe',\n",
    "    \n",
    "    line = dict(color = ('rgb(0, 250, 24)'),\n",
    "                width = 4)\n",
    ")"
   ]
  },
  {
   "cell_type": "markdown",
   "metadata": {},
   "source": [
    "#### The second trace\n",
    "Plot the line for Eastern Europe's tourism numbers. We format the line by:\n",
    "* specifying a color in RGB format\n",
    "* specify a width\n",
    "* use a dotted line using the 'dash' attribute"
   ]
  },
  {
   "cell_type": "code",
   "execution_count": 4,
   "metadata": {
    "collapsed": true
   },
   "outputs": [],
   "source": [
    "trace1 = go.Scatter(\n",
    "    \n",
    "    x = tourism_data['Year'],\n",
    "    y = tourism_data['Eastern'],\n",
    "    \n",
    "    name = 'Eastern Europe',\n",
    "    \n",
    "    line = dict(color = ('rgb(205, 12, 24)'),\n",
    "                width = 4,\n",
    "                dash='dot')\n",
    ")"
   ]
  },
  {
   "cell_type": "markdown",
   "metadata": {},
   "source": [
    "#### The last trace\n",
    "Plot a line for Southern Europe's tourism numbers. We format the line by:\n",
    "* specifying a color in RGBA format, with an alpha of 191/255\n",
    "* specify a width\n",
    "* this will be a dashed line"
   ]
  },
  {
   "cell_type": "code",
   "execution_count": 5,
   "metadata": {
    "collapsed": true
   },
   "outputs": [],
   "source": [
    "trace2 = go.Scatter(\n",
    "    \n",
    "    x = tourism_data['Year'],\n",
    "    y = tourism_data['Southern'],\n",
    "    \n",
    "    name = 'Southern Europe',\n",
    "    \n",
    "    line = dict(color = ('rgba(2, 12, 240, 191)'),\n",
    "                width = 4,\n",
    "                dash = 'dash')\n",
    ")"
   ]
  },
  {
   "cell_type": "markdown",
   "metadata": {},
   "source": [
    "#### Define the data and layout"
   ]
  },
  {
   "cell_type": "code",
   "execution_count": 6,
   "metadata": {
    "collapsed": true
   },
   "outputs": [],
   "source": [
    "data = [trace0, trace1, trace2]\n",
    "\n",
    "layout = dict(title = 'International Tourist Arrivals (millions)',\n",
    "              xaxis = dict(title = 'Year'),\n",
    "              yaxis = dict(title = 'Tourists'),\n",
    "              )"
   ]
  },
  {
   "cell_type": "markdown",
   "metadata": {},
   "source": [
    "#### Define and plot the figure"
   ]
  },
  {
   "cell_type": "code",
   "execution_count": 7,
   "metadata": {},
   "outputs": [
    {
     "data": {
      "application/vnd.plotly.v1+json": {
       "data": [
        {
         "line": {
          "color": "rgb(0, 250, 24)",
          "width": 4
         },
         "name": "Western Europe",
         "type": "scatter",
         "x": [
          1990,
          1995,
          2000,
          2005,
          2010,
          2015
         ],
         "y": [
          108.6,
          112.2,
          139.7,
          141.7,
          154.4,
          181.4
         ]
        },
        {
         "line": {
          "color": "rgb(205, 12, 24)",
          "dash": "dot",
          "width": 4
         },
         "name": "Eastern Europe",
         "type": "scatter",
         "x": [
          1990,
          1995,
          2000,
          2005,
          2010,
          2015
         ],
         "y": [
          33.9,
          58.9,
          69.6,
          95.3,
          98.5,
          121.4
         ]
        },
        {
         "line": {
          "color": "rgba(2, 12, 240, 191)",
          "dash": "dash",
          "width": 4
         },
         "name": "Southern Europe",
         "type": "scatter",
         "x": [
          1990,
          1995,
          2000,
          2005,
          2010,
          2015
         ],
         "y": [
          90.3,
          96,
          132.6,
          156.4,
          173.3,
          225.5
         ]
        }
       ],
       "layout": {
        "title": "International Tourist Arrivals (millions)",
        "xaxis": {
         "title": "Year"
        },
        "yaxis": {
         "title": "Tourists"
        }
       }
      },
      "text/html": [
       "<div id=\"31074821-903e-4875-8fc5-ab48e3f3b10e\" style=\"height: 525px; width: 100%;\" class=\"plotly-graph-div\"></div><script type=\"text/javascript\">require([\"plotly\"], function(Plotly) { window.PLOTLYENV=window.PLOTLYENV || {};window.PLOTLYENV.BASE_URL=\"https://plot.ly\";Plotly.newPlot(\"31074821-903e-4875-8fc5-ab48e3f3b10e\", [{\"type\": \"scatter\", \"x\": [1990, 1995, 2000, 2005, 2010, 2015], \"y\": [108.6, 112.2, 139.7, 141.7, 154.4, 181.4], \"name\": \"Western Europe\", \"line\": {\"color\": \"rgb(0, 250, 24)\", \"width\": 4}}, {\"type\": \"scatter\", \"x\": [1990, 1995, 2000, 2005, 2010, 2015], \"y\": [33.9, 58.9, 69.6, 95.3, 98.5, 121.4], \"name\": \"Eastern Europe\", \"line\": {\"color\": \"rgb(205, 12, 24)\", \"width\": 4, \"dash\": \"dot\"}}, {\"type\": \"scatter\", \"x\": [1990, 1995, 2000, 2005, 2010, 2015], \"y\": [90.3, 96.0, 132.6, 156.4, 173.3, 225.5], \"name\": \"Southern Europe\", \"line\": {\"color\": \"rgba(2, 12, 240, 191)\", \"width\": 4, \"dash\": \"dash\"}}], {\"title\": \"International Tourist Arrivals (millions)\", \"xaxis\": {\"title\": \"Year\"}, \"yaxis\": {\"title\": \"Tourists\"}}, {\"showLink\": true, \"linkText\": \"Export to plot.ly\"})});</script>"
      ],
      "text/vnd.plotly.v1+html": [
       "<div id=\"31074821-903e-4875-8fc5-ab48e3f3b10e\" style=\"height: 525px; width: 100%;\" class=\"plotly-graph-div\"></div><script type=\"text/javascript\">require([\"plotly\"], function(Plotly) { window.PLOTLYENV=window.PLOTLYENV || {};window.PLOTLYENV.BASE_URL=\"https://plot.ly\";Plotly.newPlot(\"31074821-903e-4875-8fc5-ab48e3f3b10e\", [{\"type\": \"scatter\", \"x\": [1990, 1995, 2000, 2005, 2010, 2015], \"y\": [108.6, 112.2, 139.7, 141.7, 154.4, 181.4], \"name\": \"Western Europe\", \"line\": {\"color\": \"rgb(0, 250, 24)\", \"width\": 4}}, {\"type\": \"scatter\", \"x\": [1990, 1995, 2000, 2005, 2010, 2015], \"y\": [33.9, 58.9, 69.6, 95.3, 98.5, 121.4], \"name\": \"Eastern Europe\", \"line\": {\"color\": \"rgb(205, 12, 24)\", \"width\": 4, \"dash\": \"dot\"}}, {\"type\": \"scatter\", \"x\": [1990, 1995, 2000, 2005, 2010, 2015], \"y\": [90.3, 96.0, 132.6, 156.4, 173.3, 225.5], \"name\": \"Southern Europe\", \"line\": {\"color\": \"rgba(2, 12, 240, 191)\", \"width\": 4, \"dash\": \"dash\"}}], {\"title\": \"International Tourist Arrivals (millions)\", \"xaxis\": {\"title\": \"Year\"}, \"yaxis\": {\"title\": \"Tourists\"}}, {\"showLink\": true, \"linkText\": \"Export to plot.ly\"})});</script>"
      ]
     },
     "metadata": {},
     "output_type": "display_data"
    }
   ],
   "source": [
    "fig = dict(data=data, layout=layout)\n",
    "\n",
    "offline.iplot(fig)"
   ]
  },
  {
   "cell_type": "markdown",
   "metadata": {},
   "source": [
    "## Connect Data Gaps\n",
    "Plotly can handle cases where the series to be plotted has missing data. It does so by connecting the points on either side of the missing data points.\n",
    "\n",
    "To see this in action, we introduce missing data into our data set. Assume the tourism numbers for the year 2000 are unavailable for some reason."
   ]
  },
  {
   "cell_type": "code",
   "execution_count": 8,
   "metadata": {},
   "outputs": [
    {
     "data": {
      "text/html": [
       "<div>\n",
       "<style scoped>\n",
       "    .dataframe tbody tr th:only-of-type {\n",
       "        vertical-align: middle;\n",
       "    }\n",
       "\n",
       "    .dataframe tbody tr th {\n",
       "        vertical-align: top;\n",
       "    }\n",
       "\n",
       "    .dataframe thead th {\n",
       "        text-align: right;\n",
       "    }\n",
       "</style>\n",
       "<table border=\"1\" class=\"dataframe\">\n",
       "  <thead>\n",
       "    <tr style=\"text-align: right;\">\n",
       "      <th></th>\n",
       "      <th>Year</th>\n",
       "      <th>Western</th>\n",
       "      <th>Eastern</th>\n",
       "      <th>Southern</th>\n",
       "    </tr>\n",
       "  </thead>\n",
       "  <tbody>\n",
       "    <tr>\n",
       "      <th>0</th>\n",
       "      <td>1990</td>\n",
       "      <td>108.6</td>\n",
       "      <td>33.9</td>\n",
       "      <td>90.3</td>\n",
       "    </tr>\n",
       "    <tr>\n",
       "      <th>1</th>\n",
       "      <td>1995</td>\n",
       "      <td>112.2</td>\n",
       "      <td>58.9</td>\n",
       "      <td>96.0</td>\n",
       "    </tr>\n",
       "    <tr>\n",
       "      <th>2</th>\n",
       "      <td>2000</td>\n",
       "      <td>NaN</td>\n",
       "      <td>NaN</td>\n",
       "      <td>NaN</td>\n",
       "    </tr>\n",
       "    <tr>\n",
       "      <th>3</th>\n",
       "      <td>2005</td>\n",
       "      <td>141.7</td>\n",
       "      <td>95.3</td>\n",
       "      <td>156.4</td>\n",
       "    </tr>\n",
       "    <tr>\n",
       "      <th>4</th>\n",
       "      <td>2010</td>\n",
       "      <td>154.4</td>\n",
       "      <td>98.5</td>\n",
       "      <td>173.3</td>\n",
       "    </tr>\n",
       "    <tr>\n",
       "      <th>5</th>\n",
       "      <td>2015</td>\n",
       "      <td>181.4</td>\n",
       "      <td>121.4</td>\n",
       "      <td>225.5</td>\n",
       "    </tr>\n",
       "  </tbody>\n",
       "</table>\n",
       "</div>"
      ],
      "text/plain": [
       "   Year  Western  Eastern  Southern\n",
       "0  1990    108.6     33.9      90.3\n",
       "1  1995    112.2     58.9      96.0\n",
       "2  2000      NaN      NaN       NaN\n",
       "3  2005    141.7     95.3     156.4\n",
       "4  2010    154.4     98.5     173.3\n",
       "5  2015    181.4    121.4     225.5"
      ]
     },
     "execution_count": 8,
     "metadata": {},
     "output_type": "execute_result"
    }
   ],
   "source": [
    "tourism_data['Western'].iat[2] = None\n",
    "tourism_data['Eastern'].iat[2] = None\n",
    "tourism_data['Southern'].iat[2] = None\n",
    "\n",
    "tourism_data"
   ]
  },
  {
   "cell_type": "markdown",
   "metadata": {},
   "source": [
    "#### For the first trace, we fill in the gap\n",
    "By setting the connectgaps attribute to True, the line will remain continuous"
   ]
  },
  {
   "cell_type": "code",
   "execution_count": 9,
   "metadata": {
    "collapsed": true
   },
   "outputs": [],
   "source": [
    "trace0 = go.Scatter(\n",
    "    \n",
    "    x = tourism_data['Year'],\n",
    "    y = tourism_data['Western'],\n",
    "    \n",
    "    name = 'Western Europe',\n",
    "    \n",
    "    line = dict(color = ('rgb(0, 250, 24)'),\n",
    "                width = 4),\n",
    "    \n",
    "    connectgaps = True\n",
    ")"
   ]
  },
  {
   "cell_type": "markdown",
   "metadata": {},
   "source": [
    "#### For the second trace, we don't fill the gap\n",
    "We explicitly set connectgaps to False. This will result in a gap in the line"
   ]
  },
  {
   "cell_type": "code",
   "execution_count": 10,
   "metadata": {
    "collapsed": true
   },
   "outputs": [],
   "source": [
    "trace1 = go.Scatter(\n",
    "    \n",
    "    x = tourism_data['Year'],\n",
    "    y = tourism_data['Eastern'],\n",
    "    \n",
    "    name = 'Eastern Europe',\n",
    "    \n",
    "    line = dict(color = ('rgb(205, 12, 24)'),\n",
    "                width = 4,\n",
    "                dash='dot'),\n",
    "    \n",
    "    connectgaps = False\n",
    ")"
   ]
  },
  {
   "cell_type": "markdown",
   "metadata": {},
   "source": [
    "#### For the third trace, we don't specify the value explicitly\n",
    "The default value of connectgaps is False, so the line is disconnected"
   ]
  },
  {
   "cell_type": "code",
   "execution_count": 11,
   "metadata": {
    "collapsed": true
   },
   "outputs": [],
   "source": [
    "trace2 = go.Scatter(\n",
    "    \n",
    "    x = tourism_data['Year'],\n",
    "    y = tourism_data['Southern'],\n",
    "    \n",
    "    name = 'Southern Europe',\n",
    "    \n",
    "    line = dict(color = ('rgba(2, 12, 240, 191)'),\n",
    "                width = 4,\n",
    "                dash = 'dash')\n",
    ")"
   ]
  },
  {
   "cell_type": "code",
   "execution_count": 12,
   "metadata": {
    "collapsed": true
   },
   "outputs": [],
   "source": [
    "data = [trace0, trace1, trace2]\n",
    "\n",
    "layout = dict(title = 'International Tourist Arrivals (millions)',\n",
    "              xaxis = dict(title = 'Year'),\n",
    "              yaxis = dict(title = 'Tourists'),\n",
    "              )"
   ]
  },
  {
   "cell_type": "code",
   "execution_count": 13,
   "metadata": {},
   "outputs": [
    {
     "data": {
      "application/vnd.plotly.v1+json": {
       "data": [
        {
         "connectgaps": true,
         "line": {
          "color": "rgb(0, 250, 24)",
          "width": 4
         },
         "name": "Western Europe",
         "type": "scatter",
         "x": [
          1990,
          1995,
          2000,
          2005,
          2010,
          2015
         ],
         "y": [
          108.6,
          112.2,
          null,
          141.7,
          154.4,
          181.4
         ]
        },
        {
         "connectgaps": false,
         "line": {
          "color": "rgb(205, 12, 24)",
          "dash": "dot",
          "width": 4
         },
         "name": "Eastern Europe",
         "type": "scatter",
         "x": [
          1990,
          1995,
          2000,
          2005,
          2010,
          2015
         ],
         "y": [
          33.9,
          58.9,
          null,
          95.3,
          98.5,
          121.4
         ]
        },
        {
         "line": {
          "color": "rgba(2, 12, 240, 191)",
          "dash": "dash",
          "width": 4
         },
         "name": "Southern Europe",
         "type": "scatter",
         "x": [
          1990,
          1995,
          2000,
          2005,
          2010,
          2015
         ],
         "y": [
          90.3,
          96,
          null,
          156.4,
          173.3,
          225.5
         ]
        }
       ],
       "layout": {
        "title": "International Tourist Arrivals (millions)",
        "xaxis": {
         "title": "Year"
        },
        "yaxis": {
         "title": "Tourists"
        }
       }
      },
      "text/html": [
       "<div id=\"e75f36d8-6b81-4c26-af54-80c394caf063\" style=\"height: 525px; width: 100%;\" class=\"plotly-graph-div\"></div><script type=\"text/javascript\">require([\"plotly\"], function(Plotly) { window.PLOTLYENV=window.PLOTLYENV || {};window.PLOTLYENV.BASE_URL=\"https://plot.ly\";Plotly.newPlot(\"e75f36d8-6b81-4c26-af54-80c394caf063\", [{\"type\": \"scatter\", \"x\": [1990, 1995, 2000, 2005, 2010, 2015], \"y\": [108.6, 112.2, null, 141.7, 154.4, 181.4], \"name\": \"Western Europe\", \"line\": {\"color\": \"rgb(0, 250, 24)\", \"width\": 4}, \"connectgaps\": true}, {\"type\": \"scatter\", \"x\": [1990, 1995, 2000, 2005, 2010, 2015], \"y\": [33.9, 58.9, null, 95.3, 98.5, 121.4], \"name\": \"Eastern Europe\", \"line\": {\"color\": \"rgb(205, 12, 24)\", \"width\": 4, \"dash\": \"dot\"}, \"connectgaps\": false}, {\"type\": \"scatter\", \"x\": [1990, 1995, 2000, 2005, 2010, 2015], \"y\": [90.3, 96.0, null, 156.4, 173.3, 225.5], \"name\": \"Southern Europe\", \"line\": {\"color\": \"rgba(2, 12, 240, 191)\", \"width\": 4, \"dash\": \"dash\"}}], {\"title\": \"International Tourist Arrivals (millions)\", \"xaxis\": {\"title\": \"Year\"}, \"yaxis\": {\"title\": \"Tourists\"}}, {\"showLink\": true, \"linkText\": \"Export to plot.ly\"})});</script>"
      ],
      "text/vnd.plotly.v1+html": [
       "<div id=\"e75f36d8-6b81-4c26-af54-80c394caf063\" style=\"height: 525px; width: 100%;\" class=\"plotly-graph-div\"></div><script type=\"text/javascript\">require([\"plotly\"], function(Plotly) { window.PLOTLYENV=window.PLOTLYENV || {};window.PLOTLYENV.BASE_URL=\"https://plot.ly\";Plotly.newPlot(\"e75f36d8-6b81-4c26-af54-80c394caf063\", [{\"type\": \"scatter\", \"x\": [1990, 1995, 2000, 2005, 2010, 2015], \"y\": [108.6, 112.2, null, 141.7, 154.4, 181.4], \"name\": \"Western Europe\", \"line\": {\"color\": \"rgb(0, 250, 24)\", \"width\": 4}, \"connectgaps\": true}, {\"type\": \"scatter\", \"x\": [1990, 1995, 2000, 2005, 2010, 2015], \"y\": [33.9, 58.9, null, 95.3, 98.5, 121.4], \"name\": \"Eastern Europe\", \"line\": {\"color\": \"rgb(205, 12, 24)\", \"width\": 4, \"dash\": \"dot\"}, \"connectgaps\": false}, {\"type\": \"scatter\", \"x\": [1990, 1995, 2000, 2005, 2010, 2015], \"y\": [90.3, 96.0, null, 156.4, 173.3, 225.5], \"name\": \"Southern Europe\", \"line\": {\"color\": \"rgba(2, 12, 240, 191)\", \"width\": 4, \"dash\": \"dash\"}}], {\"title\": \"International Tourist Arrivals (millions)\", \"xaxis\": {\"title\": \"Year\"}, \"yaxis\": {\"title\": \"Tourists\"}}, {\"showLink\": true, \"linkText\": \"Export to plot.ly\"})});</script>"
      ]
     },
     "metadata": {},
     "output_type": "display_data"
    }
   ],
   "source": [
    "fig = dict(data=data, layout=layout)\n",
    "\n",
    "offline.iplot(fig)"
   ]
  },
  {
   "cell_type": "markdown",
   "metadata": {},
   "source": [
    "### Plots with Annotations \n",
    "Plotly allows different forms of annotations to be added to a plot. We create a list of annotations which is later added to the layout"
   ]
  },
  {
   "cell_type": "code",
   "execution_count": 14,
   "metadata": {
    "collapsed": true
   },
   "outputs": [],
   "source": [
    "annotations = []"
   ]
  },
  {
   "cell_type": "markdown",
   "metadata": {},
   "source": [
    "#### Annotation without an arrow\n",
    "The attributes for an annotation include:\n",
    "* The x and y coordinates where the annotation will appear\n",
    "* the x and y anchor values which determine which part of the annotation will be anchored to the (x,y) coordinates\n",
    "* The annotation text\n",
    "* The font of the annotation text\n",
    "* showarrow determines whether an arrow is used to point to (x,y)\n",
    "\n",
    "This annotation marks the international tourist number for Western Europe at the beginning of our series - 1990."
   ]
  },
  {
   "cell_type": "code",
   "execution_count": 15,
   "metadata": {},
   "outputs": [],
   "source": [
    "annotations.append(dict(x = tourism_data['Year'][0], \n",
    "                        y = tourism_data['Western'][0],\n",
    "                            \n",
    "                        xanchor='right', \n",
    "                        yanchor='middle',\n",
    "                            \n",
    "                        text = str(tourism_data['Western'][0]) + 'M',\n",
    "                            \n",
    "                        font=dict(family = 'Arial',\n",
    "                                  size = 16,\n",
    "                                  color = 'grey'\n",
    "                                 ),\n",
    "                                  \n",
    "                        showarrow = False\n",
    "                       )\n",
    "                  )"
   ]
  },
  {
   "cell_type": "markdown",
   "metadata": {},
   "source": [
    "#### The second annotation has an arrow\n",
    "An arrow will be drawn from the xanchor,yanchor of the annotation text to the (x,y) point. We also have an arrowcolor."
   ]
  },
  {
   "cell_type": "code",
   "execution_count": 16,
   "metadata": {
    "collapsed": true
   },
   "outputs": [],
   "source": [
    "annotations.append(dict(x = tourism_data['Year'][5], \n",
    "                        y = tourism_data['Eastern'][5],\n",
    "                            \n",
    "                        xanchor='left', \n",
    "                        yanchor='bottom',\n",
    "                            \n",
    "                        text = str(tourism_data['Eastern'][5]) + 'M',\n",
    "                            \n",
    "                        font=dict(family = 'Arial',\n",
    "                                  size = 16,\n",
    "                                  color = 'grey'),\n",
    "                                  \n",
    "                        showarrow = True,\n",
    "                        arrowcolor = 'grey'\n",
    "                       )\n",
    "                  )"
   ]
  },
  {
   "cell_type": "markdown",
   "metadata": {},
   "source": [
    "#### The third annotation uses the yref attribute\n",
    "By default, when we specify x and y values for the annotation, it is used to mark the (x,y) points using the units of the axis (#tourists vs year in our graph). When xref or yref is set to 'paper', the corresponding x or y coordinate is scaled to a value between 0 and 1.\n",
    "\n",
    "Here, we want the annotation to appear 80% of the way up in the plot.\n",
    "\n",
    "Each annotation also appears in a text box which is actually transparent. Here, we set a background color for the text box. "
   ]
  },
  {
   "cell_type": "code",
   "execution_count": 17,
   "metadata": {},
   "outputs": [],
   "source": [
    "annotations.append(dict(yref='paper', \n",
    "                        \n",
    "                        x = 2000, \n",
    "                        y = 0.8,\n",
    "                        \n",
    "                        text = 'Data missing for year 2000',\n",
    "                        \n",
    "                        font=dict(family = 'Times New Roman',\n",
    "                                  size = 20,\n",
    "                                  color = 'white'), \n",
    "                        \n",
    "                        bgcolor = 'purple',\n",
    "                        \n",
    "                        showarrow = False\n",
    "                       )\n",
    "                  )"
   ]
  },
  {
   "cell_type": "markdown",
   "metadata": {},
   "source": [
    "#### Add the annotations to our layout"
   ]
  },
  {
   "cell_type": "code",
   "execution_count": 18,
   "metadata": {
    "collapsed": true
   },
   "outputs": [],
   "source": [
    "layout['annotations'] = annotations"
   ]
  },
  {
   "cell_type": "markdown",
   "metadata": {},
   "source": [
    "#### Plot the figure with the data and layout with annotations"
   ]
  },
  {
   "cell_type": "code",
   "execution_count": 19,
   "metadata": {},
   "outputs": [
    {
     "data": {
      "application/vnd.plotly.v1+json": {
       "data": [
        {
         "connectgaps": true,
         "line": {
          "color": "rgb(0, 250, 24)",
          "width": 4
         },
         "name": "Western Europe",
         "type": "scatter",
         "x": [
          1990,
          1995,
          2000,
          2005,
          2010,
          2015
         ],
         "y": [
          108.6,
          112.2,
          null,
          141.7,
          154.4,
          181.4
         ]
        },
        {
         "connectgaps": false,
         "line": {
          "color": "rgb(205, 12, 24)",
          "dash": "dot",
          "width": 4
         },
         "name": "Eastern Europe",
         "type": "scatter",
         "x": [
          1990,
          1995,
          2000,
          2005,
          2010,
          2015
         ],
         "y": [
          33.9,
          58.9,
          null,
          95.3,
          98.5,
          121.4
         ]
        },
        {
         "line": {
          "color": "rgba(2, 12, 240, 191)",
          "dash": "dash",
          "width": 4
         },
         "name": "Southern Europe",
         "type": "scatter",
         "x": [
          1990,
          1995,
          2000,
          2005,
          2010,
          2015
         ],
         "y": [
          90.3,
          96,
          null,
          156.4,
          173.3,
          225.5
         ]
        }
       ],
       "layout": {
        "annotations": [
         {
          "font": {
           "color": "grey",
           "family": "Arial",
           "size": 16
          },
          "showarrow": false,
          "text": "108.6M",
          "x": 1990,
          "xanchor": "right",
          "y": 108.6,
          "yanchor": "middle"
         },
         {
          "arrowcolor": "grey",
          "font": {
           "color": "grey",
           "family": "Arial",
           "size": 16
          },
          "showarrow": true,
          "text": "121.4M",
          "x": 2015,
          "xanchor": "left",
          "y": 121.4,
          "yanchor": "bottom"
         },
         {
          "bgcolor": "purple",
          "font": {
           "color": "white",
           "family": "Times New Roman",
           "size": 20
          },
          "showarrow": false,
          "text": "Data missing for year 2000",
          "x": 2000,
          "y": 0.8,
          "yref": "paper"
         }
        ],
        "title": "International Tourist Arrivals (millions)",
        "xaxis": {
         "title": "Year"
        },
        "yaxis": {
         "title": "Tourists"
        }
       }
      },
      "text/html": [
       "<div id=\"0e5a894d-5f8e-446f-9104-407cc4079376\" style=\"height: 525px; width: 100%;\" class=\"plotly-graph-div\"></div><script type=\"text/javascript\">require([\"plotly\"], function(Plotly) { window.PLOTLYENV=window.PLOTLYENV || {};window.PLOTLYENV.BASE_URL=\"https://plot.ly\";Plotly.newPlot(\"0e5a894d-5f8e-446f-9104-407cc4079376\", [{\"type\": \"scatter\", \"x\": [1990, 1995, 2000, 2005, 2010, 2015], \"y\": [108.6, 112.2, null, 141.7, 154.4, 181.4], \"name\": \"Western Europe\", \"line\": {\"color\": \"rgb(0, 250, 24)\", \"width\": 4}, \"connectgaps\": true}, {\"type\": \"scatter\", \"x\": [1990, 1995, 2000, 2005, 2010, 2015], \"y\": [33.9, 58.9, null, 95.3, 98.5, 121.4], \"name\": \"Eastern Europe\", \"line\": {\"color\": \"rgb(205, 12, 24)\", \"width\": 4, \"dash\": \"dot\"}, \"connectgaps\": false}, {\"type\": \"scatter\", \"x\": [1990, 1995, 2000, 2005, 2010, 2015], \"y\": [90.3, 96.0, null, 156.4, 173.3, 225.5], \"name\": \"Southern Europe\", \"line\": {\"color\": \"rgba(2, 12, 240, 191)\", \"width\": 4, \"dash\": \"dash\"}}], {\"title\": \"International Tourist Arrivals (millions)\", \"xaxis\": {\"title\": \"Year\"}, \"yaxis\": {\"title\": \"Tourists\"}, \"annotations\": [{\"x\": 1990, \"y\": 108.6, \"xanchor\": \"right\", \"yanchor\": \"middle\", \"text\": \"108.6M\", \"font\": {\"family\": \"Arial\", \"size\": 16, \"color\": \"grey\"}, \"showarrow\": false}, {\"x\": 2015, \"y\": 121.4, \"xanchor\": \"left\", \"yanchor\": \"bottom\", \"text\": \"121.4M\", \"font\": {\"family\": \"Arial\", \"size\": 16, \"color\": \"grey\"}, \"showarrow\": true, \"arrowcolor\": \"grey\"}, {\"yref\": \"paper\", \"x\": 2000, \"y\": 0.8, \"text\": \"Data missing for year 2000\", \"font\": {\"family\": \"Times New Roman\", \"size\": 20, \"color\": \"white\"}, \"bgcolor\": \"purple\", \"showarrow\": false}]}, {\"showLink\": true, \"linkText\": \"Export to plot.ly\"})});</script>"
      ],
      "text/vnd.plotly.v1+html": [
       "<div id=\"0e5a894d-5f8e-446f-9104-407cc4079376\" style=\"height: 525px; width: 100%;\" class=\"plotly-graph-div\"></div><script type=\"text/javascript\">require([\"plotly\"], function(Plotly) { window.PLOTLYENV=window.PLOTLYENV || {};window.PLOTLYENV.BASE_URL=\"https://plot.ly\";Plotly.newPlot(\"0e5a894d-5f8e-446f-9104-407cc4079376\", [{\"type\": \"scatter\", \"x\": [1990, 1995, 2000, 2005, 2010, 2015], \"y\": [108.6, 112.2, null, 141.7, 154.4, 181.4], \"name\": \"Western Europe\", \"line\": {\"color\": \"rgb(0, 250, 24)\", \"width\": 4}, \"connectgaps\": true}, {\"type\": \"scatter\", \"x\": [1990, 1995, 2000, 2005, 2010, 2015], \"y\": [33.9, 58.9, null, 95.3, 98.5, 121.4], \"name\": \"Eastern Europe\", \"line\": {\"color\": \"rgb(205, 12, 24)\", \"width\": 4, \"dash\": \"dot\"}, \"connectgaps\": false}, {\"type\": \"scatter\", \"x\": [1990, 1995, 2000, 2005, 2010, 2015], \"y\": [90.3, 96.0, null, 156.4, 173.3, 225.5], \"name\": \"Southern Europe\", \"line\": {\"color\": \"rgba(2, 12, 240, 191)\", \"width\": 4, \"dash\": \"dash\"}}], {\"title\": \"International Tourist Arrivals (millions)\", \"xaxis\": {\"title\": \"Year\"}, \"yaxis\": {\"title\": \"Tourists\"}, \"annotations\": [{\"x\": 1990, \"y\": 108.6, \"xanchor\": \"right\", \"yanchor\": \"middle\", \"text\": \"108.6M\", \"font\": {\"family\": \"Arial\", \"size\": 16, \"color\": \"grey\"}, \"showarrow\": false}, {\"x\": 2015, \"y\": 121.4, \"xanchor\": \"left\", \"yanchor\": \"bottom\", \"text\": \"121.4M\", \"font\": {\"family\": \"Arial\", \"size\": 16, \"color\": \"grey\"}, \"showarrow\": true, \"arrowcolor\": \"grey\"}, {\"yref\": \"paper\", \"x\": 2000, \"y\": 0.8, \"text\": \"Data missing for year 2000\", \"font\": {\"family\": \"Times New Roman\", \"size\": 20, \"color\": \"white\"}, \"bgcolor\": \"purple\", \"showarrow\": false}]}, {\"showLink\": true, \"linkText\": \"Export to plot.ly\"})});</script>"
      ]
     },
     "metadata": {},
     "output_type": "display_data"
    }
   ],
   "source": [
    "fig = dict(data=data, \n",
    "           layout=layout)\n",
    "\n",
    "offline.iplot(fig)"
   ]
  },
  {
   "cell_type": "code",
   "execution_count": null,
   "metadata": {
    "collapsed": true
   },
   "outputs": [],
   "source": []
  }
 ],
 "metadata": {
  "kernelspec": {
   "display_name": "Python 3",
   "language": "python",
   "name": "python3"
  },
  "language_info": {
   "codemirror_mode": {
    "name": "ipython",
    "version": 3
   },
   "file_extension": ".py",
   "mimetype": "text/x-python",
   "name": "python",
   "nbconvert_exporter": "python",
   "pygments_lexer": "ipython3",
   "version": "3.6.3"
  }
 },
 "nbformat": 4,
 "nbformat_minor": 2
}
