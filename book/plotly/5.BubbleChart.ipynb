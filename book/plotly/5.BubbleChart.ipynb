{
 "cells": [
  {
   "cell_type": "code",
   "execution_count": 1,
   "metadata": {},
   "outputs": [
    {
     "data": {
      "text/html": [
       "<script>requirejs.config({paths: { 'plotly': ['https://cdn.plot.ly/plotly-latest.min']},});if(!window.Plotly) {{require(['plotly'],function(plotly) {window.Plotly=plotly;});}}</script>"
      ],
      "text/vnd.plotly.v1+html": [
       "<script>requirejs.config({paths: { 'plotly': ['https://cdn.plot.ly/plotly-latest.min']},});if(!window.Plotly) {{require(['plotly'],function(plotly) {window.Plotly=plotly;});}}</script>"
      ]
     },
     "metadata": {},
     "output_type": "display_data"
    }
   ],
   "source": [
    "import plotly.plotly as py\n",
    "import plotly.graph_objs as go\n",
    "import pandas as pd\n",
    "import plotly.offline as offline\n",
    "\n",
    "offline.init_notebook_mode(connected=True)"
   ]
  },
  {
   "cell_type": "markdown",
   "metadata": {},
   "source": [
    "#### A regular 2D scatter plot"
   ]
  },
  {
   "cell_type": "code",
   "execution_count": 2,
   "metadata": {},
   "outputs": [
    {
     "data": {
      "application/vnd.plotly.v1+json": {
       "data": [
        {
         "mode": "markers",
         "type": "scatter",
         "x": [
          1,
          2,
          3,
          4
         ],
         "y": [
          2,
          4,
          1,
          5
         ]
        }
       ],
       "layout": {}
      },
      "text/html": [
       "<div id=\"9f362e34-dd92-4c6e-a850-5e38f017d199\" style=\"height: 525px; width: 100%;\" class=\"plotly-graph-div\"></div><script type=\"text/javascript\">require([\"plotly\"], function(Plotly) { window.PLOTLYENV=window.PLOTLYENV || {};window.PLOTLYENV.BASE_URL=\"https://plot.ly\";Plotly.newPlot(\"9f362e34-dd92-4c6e-a850-5e38f017d199\", [{\"type\": \"scatter\", \"x\": [1, 2, 3, 4], \"y\": [2, 4, 1, 5], \"mode\": \"markers\"}], {}, {\"showLink\": true, \"linkText\": \"Export to plot.ly\"})});</script>"
      ],
      "text/vnd.plotly.v1+html": [
       "<div id=\"9f362e34-dd92-4c6e-a850-5e38f017d199\" style=\"height: 525px; width: 100%;\" class=\"plotly-graph-div\"></div><script type=\"text/javascript\">require([\"plotly\"], function(Plotly) { window.PLOTLYENV=window.PLOTLYENV || {};window.PLOTLYENV.BASE_URL=\"https://plot.ly\";Plotly.newPlot(\"9f362e34-dd92-4c6e-a850-5e38f017d199\", [{\"type\": \"scatter\", \"x\": [1, 2, 3, 4], \"y\": [2, 4, 1, 5], \"mode\": \"markers\"}], {}, {\"showLink\": true, \"linkText\": \"Export to plot.ly\"})});</script>"
      ]
     },
     "metadata": {},
     "output_type": "display_data"
    }
   ],
   "source": [
    "x = [1, 2, 3, 4]\n",
    "y = [2, 4, 1, 5]\n",
    "\n",
    "trace = go.Scatter(x=x,\n",
    "                   y=y,\n",
    "                   mode='markers',\n",
    "                  )\n",
    "\n",
    "data = [trace]\n",
    "\n",
    "offline.iplot(data)"
   ]
  },
  {
   "cell_type": "markdown",
   "metadata": {},
   "source": [
    "#### We introduce a 3rd dimension"
   ]
  },
  {
   "cell_type": "code",
   "execution_count": 3,
   "metadata": {},
   "outputs": [],
   "source": [
    "z = [70, 40, 30, 20]"
   ]
  },
  {
   "cell_type": "markdown",
   "metadata": {},
   "source": [
    "#### This 3rd dimension can be portrayed by the marker size\n",
    "The marker size is in pixels. The default is 6."
   ]
  },
  {
   "cell_type": "code",
   "execution_count": 4,
   "metadata": {
    "collapsed": true
   },
   "outputs": [],
   "source": [
    "trace = go.Scatter(x=x,\n",
    "                   y=y,\n",
    "                   mode='markers',\n",
    "                   \n",
    "                   marker = dict(size = z)\n",
    ")"
   ]
  },
  {
   "cell_type": "markdown",
   "metadata": {},
   "source": [
    "#### Plot the Bubble chart\n",
    "By using the size of the bubble, we can convey one more set of features"
   ]
  },
  {
   "cell_type": "code",
   "execution_count": 5,
   "metadata": {},
   "outputs": [
    {
     "data": {
      "application/vnd.plotly.v1+json": {
       "data": [
        {
         "marker": {
          "size": [
           70,
           40,
           30,
           20
          ]
         },
         "mode": "markers",
         "type": "scatter",
         "x": [
          1,
          2,
          3,
          4
         ],
         "y": [
          2,
          4,
          1,
          5
         ]
        }
       ],
       "layout": {}
      },
      "text/html": [
       "<div id=\"b1e3678c-fd14-435a-8a79-2c6ed2c1ba72\" style=\"height: 525px; width: 100%;\" class=\"plotly-graph-div\"></div><script type=\"text/javascript\">require([\"plotly\"], function(Plotly) { window.PLOTLYENV=window.PLOTLYENV || {};window.PLOTLYENV.BASE_URL=\"https://plot.ly\";Plotly.newPlot(\"b1e3678c-fd14-435a-8a79-2c6ed2c1ba72\", [{\"type\": \"scatter\", \"x\": [1, 2, 3, 4], \"y\": [2, 4, 1, 5], \"mode\": \"markers\", \"marker\": {\"size\": [70, 40, 30, 20]}}], {}, {\"showLink\": true, \"linkText\": \"Export to plot.ly\"})});</script>"
      ],
      "text/vnd.plotly.v1+html": [
       "<div id=\"b1e3678c-fd14-435a-8a79-2c6ed2c1ba72\" style=\"height: 525px; width: 100%;\" class=\"plotly-graph-div\"></div><script type=\"text/javascript\">require([\"plotly\"], function(Plotly) { window.PLOTLYENV=window.PLOTLYENV || {};window.PLOTLYENV.BASE_URL=\"https://plot.ly\";Plotly.newPlot(\"b1e3678c-fd14-435a-8a79-2c6ed2c1ba72\", [{\"type\": \"scatter\", \"x\": [1, 2, 3, 4], \"y\": [2, 4, 1, 5], \"mode\": \"markers\", \"marker\": {\"size\": [70, 40, 30, 20]}}], {}, {\"showLink\": true, \"linkText\": \"Export to plot.ly\"})});</script>"
      ]
     },
     "metadata": {},
     "output_type": "display_data"
    }
   ],
   "source": [
    "data = [trace]\n",
    "\n",
    "offline.iplot(data)"
   ]
  },
  {
   "cell_type": "markdown",
   "metadata": {},
   "source": [
    "#### We define a 4th set of features"
   ]
  },
  {
   "cell_type": "code",
   "execution_count": 6,
   "metadata": {
    "collapsed": true
   },
   "outputs": [],
   "source": [
    "a = [11, 35, 99, 56]"
   ]
  },
  {
   "cell_type": "markdown",
   "metadata": {},
   "source": [
    "#### The 4th feature can be conveyed with a color scale"
   ]
  },
  {
   "cell_type": "code",
   "execution_count": 7,
   "metadata": {
    "collapsed": true
   },
   "outputs": [],
   "source": [
    "trace = go.Scatter(x=x,\n",
    "                   y=y,\n",
    "                   mode='markers',\n",
    "                   \n",
    "                   marker = dict(size = z, \n",
    "                                 \n",
    "                                 color = a,\n",
    "                                 colorscale = 'Rainbow',\n",
    "                                 showscale = True\n",
    "                                )\n",
    ")"
   ]
  },
  {
   "cell_type": "markdown",
   "metadata": {},
   "source": [
    "#### Plot the figure\n",
    "With bubbles, it is possible for us to convey 2 additional features using to the bubble size and color"
   ]
  },
  {
   "cell_type": "code",
   "execution_count": 8,
   "metadata": {},
   "outputs": [
    {
     "data": {
      "application/vnd.plotly.v1+json": {
       "data": [
        {
         "marker": {
          "color": [
           11,
           35,
           99,
           56
          ],
          "colorscale": "Rainbow",
          "showscale": true,
          "size": [
           70,
           40,
           30,
           20
          ]
         },
         "mode": "markers",
         "type": "scatter",
         "x": [
          1,
          2,
          3,
          4
         ],
         "y": [
          2,
          4,
          1,
          5
         ]
        }
       ],
       "layout": {}
      },
      "text/html": [
       "<div id=\"257e3bcd-9a6d-49c5-934b-a0fc87a15cd4\" style=\"height: 525px; width: 100%;\" class=\"plotly-graph-div\"></div><script type=\"text/javascript\">require([\"plotly\"], function(Plotly) { window.PLOTLYENV=window.PLOTLYENV || {};window.PLOTLYENV.BASE_URL=\"https://plot.ly\";Plotly.newPlot(\"257e3bcd-9a6d-49c5-934b-a0fc87a15cd4\", [{\"type\": \"scatter\", \"x\": [1, 2, 3, 4], \"y\": [2, 4, 1, 5], \"mode\": \"markers\", \"marker\": {\"size\": [70, 40, 30, 20], \"color\": [11, 35, 99, 56], \"colorscale\": \"Rainbow\", \"showscale\": true}}], {}, {\"showLink\": true, \"linkText\": \"Export to plot.ly\"})});</script>"
      ],
      "text/vnd.plotly.v1+html": [
       "<div id=\"257e3bcd-9a6d-49c5-934b-a0fc87a15cd4\" style=\"height: 525px; width: 100%;\" class=\"plotly-graph-div\"></div><script type=\"text/javascript\">require([\"plotly\"], function(Plotly) { window.PLOTLYENV=window.PLOTLYENV || {};window.PLOTLYENV.BASE_URL=\"https://plot.ly\";Plotly.newPlot(\"257e3bcd-9a6d-49c5-934b-a0fc87a15cd4\", [{\"type\": \"scatter\", \"x\": [1, 2, 3, 4], \"y\": [2, 4, 1, 5], \"mode\": \"markers\", \"marker\": {\"size\": [70, 40, 30, 20], \"color\": [11, 35, 99, 56], \"colorscale\": \"Rainbow\", \"showscale\": true}}], {}, {\"showLink\": true, \"linkText\": \"Export to plot.ly\"})});</script>"
      ]
     },
     "metadata": {},
     "output_type": "display_data"
    }
   ],
   "source": [
    "data = [trace]\n",
    "\n",
    "offline.iplot(data)"
   ]
  },
  {
   "cell_type": "markdown",
   "metadata": {},
   "source": [
    "## Portraying data about planets\n",
    "We can convey multiple points of information about our solar system's planets using a bubble chart.\n",
    "\n",
    "The data has been compiled."
   ]
  },
  {
   "cell_type": "code",
   "execution_count": 9,
   "metadata": {
    "collapsed": true
   },
   "outputs": [],
   "source": [
    "data = pd.read_csv('./datasets/planets.csv')"
   ]
  },
  {
   "cell_type": "code",
   "execution_count": 10,
   "metadata": {},
   "outputs": [
    {
     "data": {
      "text/html": [
       "<div>\n",
       "<style scoped>\n",
       "    .dataframe tbody tr th:only-of-type {\n",
       "        vertical-align: middle;\n",
       "    }\n",
       "\n",
       "    .dataframe tbody tr th {\n",
       "        vertical-align: top;\n",
       "    }\n",
       "\n",
       "    .dataframe thead th {\n",
       "        text-align: right;\n",
       "    }\n",
       "</style>\n",
       "<table border=\"1\" class=\"dataframe\">\n",
       "  <thead>\n",
       "    <tr style=\"text-align: right;\">\n",
       "      <th></th>\n",
       "      <th>planet</th>\n",
       "      <th>no_of_moons</th>\n",
       "      <th>distance_from_sun</th>\n",
       "      <th>period_of_revolution_around_sun</th>\n",
       "      <th>planet_diameter</th>\n",
       "    </tr>\n",
       "  </thead>\n",
       "  <tbody>\n",
       "    <tr>\n",
       "      <th>0</th>\n",
       "      <td>Mercury</td>\n",
       "      <td>0</td>\n",
       "      <td>57.9</td>\n",
       "      <td>87.96</td>\n",
       "      <td>4879</td>\n",
       "    </tr>\n",
       "    <tr>\n",
       "      <th>1</th>\n",
       "      <td>Venus</td>\n",
       "      <td>0</td>\n",
       "      <td>108.2</td>\n",
       "      <td>224.68</td>\n",
       "      <td>12104</td>\n",
       "    </tr>\n",
       "    <tr>\n",
       "      <th>2</th>\n",
       "      <td>Earth</td>\n",
       "      <td>1</td>\n",
       "      <td>149.6</td>\n",
       "      <td>365.26</td>\n",
       "      <td>12756</td>\n",
       "    </tr>\n",
       "    <tr>\n",
       "      <th>3</th>\n",
       "      <td>Mars</td>\n",
       "      <td>2</td>\n",
       "      <td>227.9</td>\n",
       "      <td>686.98</td>\n",
       "      <td>6792</td>\n",
       "    </tr>\n",
       "    <tr>\n",
       "      <th>4</th>\n",
       "      <td>Jupiter</td>\n",
       "      <td>67</td>\n",
       "      <td>778.6</td>\n",
       "      <td>4332.70</td>\n",
       "      <td>142984</td>\n",
       "    </tr>\n",
       "    <tr>\n",
       "      <th>5</th>\n",
       "      <td>Saturn</td>\n",
       "      <td>62</td>\n",
       "      <td>1433.5</td>\n",
       "      <td>10759.09</td>\n",
       "      <td>120536</td>\n",
       "    </tr>\n",
       "    <tr>\n",
       "      <th>6</th>\n",
       "      <td>Uranus</td>\n",
       "      <td>27</td>\n",
       "      <td>2872.5</td>\n",
       "      <td>30707.40</td>\n",
       "      <td>51118</td>\n",
       "    </tr>\n",
       "    <tr>\n",
       "      <th>7</th>\n",
       "      <td>Neptune</td>\n",
       "      <td>14</td>\n",
       "      <td>4495.1</td>\n",
       "      <td>60198.50</td>\n",
       "      <td>49528</td>\n",
       "    </tr>\n",
       "    <tr>\n",
       "      <th>8</th>\n",
       "      <td>Pluto</td>\n",
       "      <td>5</td>\n",
       "      <td>5906.4</td>\n",
       "      <td>90474.90</td>\n",
       "      <td>2370</td>\n",
       "    </tr>\n",
       "  </tbody>\n",
       "</table>\n",
       "</div>"
      ],
      "text/plain": [
       "    planet  no_of_moons  distance_from_sun  period_of_revolution_around_sun  \\\n",
       "0  Mercury            0               57.9                            87.96   \n",
       "1    Venus            0              108.2                           224.68   \n",
       "2    Earth            1              149.6                           365.26   \n",
       "3     Mars            2              227.9                           686.98   \n",
       "4  Jupiter           67              778.6                          4332.70   \n",
       "5   Saturn           62             1433.5                         10759.09   \n",
       "6   Uranus           27             2872.5                         30707.40   \n",
       "7  Neptune           14             4495.1                         60198.50   \n",
       "8    Pluto            5             5906.4                         90474.90   \n",
       "\n",
       "   planet_diameter  \n",
       "0             4879  \n",
       "1            12104  \n",
       "2            12756  \n",
       "3             6792  \n",
       "4           142984  \n",
       "5           120536  \n",
       "6            51118  \n",
       "7            49528  \n",
       "8             2370  "
      ]
     },
     "execution_count": 10,
     "metadata": {},
     "output_type": "execute_result"
    }
   ],
   "source": [
    "data"
   ]
  },
  {
   "cell_type": "markdown",
   "metadata": {},
   "source": [
    "#### Define the Bubble Chart\n",
    "\n",
    "* planets are on the X axis\n",
    "* the Y axis denotes the distance from the sun (in KM)\n",
    "* the marker size represents the planet diameter\n",
    "* the color represents the number of moons\n",
    "\n",
    "We can also set the hover text.\n",
    "\n",
    "The sizeref attribute used sets the scale factor for the marker size. Setting it to 1000 has the same effect as dividing the size values (planet diameter in our case) by 1000."
   ]
  },
  {
   "cell_type": "code",
   "execution_count": 12,
   "metadata": {},
   "outputs": [],
   "source": [
    "trace = go.Scatter(x = data['planet'],\n",
    "                   \n",
    "                   y = data['distance_from_sun'],\n",
    "                   \n",
    "                   mode = 'markers',\n",
    "                   \n",
    "                   marker =dict(size = data['planet_diameter'],\n",
    "                                sizeref = 1000,\n",
    "\n",
    "                                color = data['no_of_moons'],\n",
    "                                colorscale = 'Rainbow',\n",
    "                                showscale = True\n",
    "                              ), \n",
    "                   \n",
    "                   text =  [str(dia) + ' km' for dia in data['planet_diameter']]\n",
    "    )\n",
    "   "
   ]
  },
  {
   "cell_type": "code",
   "execution_count": 13,
   "metadata": {
    "collapsed": true
   },
   "outputs": [],
   "source": [
    "data = [trace]"
   ]
  },
  {
   "cell_type": "markdown",
   "metadata": {},
   "source": [
    "#### Define the layout\n",
    "We set the figure dimensions and title. The hovermode of 'closest' will display the x,y and hovertext of the marker we are hovering over."
   ]
  },
  {
   "cell_type": "code",
   "execution_count": 14,
   "metadata": {
    "collapsed": true
   },
   "outputs": [],
   "source": [
    "layout = go.Layout(height = 600, \n",
    "                   width = 900,\n",
    "                   \n",
    "                   title = 'Planets of our Solar System',\n",
    "                   \n",
    "                   hovermode = 'closest')\n"
   ]
  },
  {
   "cell_type": "code",
   "execution_count": 15,
   "metadata": {},
   "outputs": [
    {
     "data": {
      "application/vnd.plotly.v1+json": {
       "data": [
        {
         "marker": {
          "color": [
           0,
           0,
           1,
           2,
           67,
           62,
           27,
           14,
           5
          ],
          "colorscale": "Rainbow",
          "showscale": true,
          "size": [
           4879,
           12104,
           12756,
           6792,
           142984,
           120536,
           51118,
           49528,
           2370
          ],
          "sizeref": 1000
         },
         "mode": "markers",
         "text": [
          "4879 km",
          "12104 km",
          "12756 km",
          "6792 km",
          "142984 km",
          "120536 km",
          "51118 km",
          "49528 km",
          "2370 km"
         ],
         "type": "scatter",
         "x": [
          "Mercury",
          "Venus",
          "Earth",
          "Mars",
          "Jupiter",
          "Saturn",
          "Uranus",
          "Neptune",
          "Pluto"
         ],
         "y": [
          57.9,
          108.2,
          149.6,
          227.9,
          778.6,
          1433.5,
          2872.5,
          4495.1,
          5906.4
         ]
        }
       ],
       "layout": {
        "height": 600,
        "hovermode": "closest",
        "title": "Planets of our Solar System",
        "width": 900
       }
      },
      "text/html": [
       "<div id=\"c59e3a3d-b4c8-45c1-ab4e-a99780a6656b\" style=\"height: 600px; width: 900px;\" class=\"plotly-graph-div\"></div><script type=\"text/javascript\">require([\"plotly\"], function(Plotly) { window.PLOTLYENV=window.PLOTLYENV || {};window.PLOTLYENV.BASE_URL=\"https://plot.ly\";Plotly.newPlot(\"c59e3a3d-b4c8-45c1-ab4e-a99780a6656b\", [{\"type\": \"scatter\", \"x\": [\"Mercury\", \"Venus\", \"Earth\", \"Mars\", \"Jupiter\", \"Saturn\", \"Uranus\", \"Neptune\", \"Pluto\"], \"y\": [57.9, 108.2, 149.6, 227.9, 778.6, 1433.5, 2872.5, 4495.1, 5906.4], \"mode\": \"markers\", \"marker\": {\"size\": [4879, 12104, 12756, 6792, 142984, 120536, 51118, 49528, 2370], \"sizeref\": 1000, \"color\": [0, 0, 1, 2, 67, 62, 27, 14, 5], \"colorscale\": \"Rainbow\", \"showscale\": true}, \"text\": [\"4879 km\", \"12104 km\", \"12756 km\", \"6792 km\", \"142984 km\", \"120536 km\", \"51118 km\", \"49528 km\", \"2370 km\"]}], {\"height\": 600, \"width\": 900, \"title\": \"Planets of our Solar System\", \"hovermode\": \"closest\"}, {\"showLink\": true, \"linkText\": \"Export to plot.ly\"})});</script>"
      ],
      "text/vnd.plotly.v1+html": [
       "<div id=\"c59e3a3d-b4c8-45c1-ab4e-a99780a6656b\" style=\"height: 600px; width: 900px;\" class=\"plotly-graph-div\"></div><script type=\"text/javascript\">require([\"plotly\"], function(Plotly) { window.PLOTLYENV=window.PLOTLYENV || {};window.PLOTLYENV.BASE_URL=\"https://plot.ly\";Plotly.newPlot(\"c59e3a3d-b4c8-45c1-ab4e-a99780a6656b\", [{\"type\": \"scatter\", \"x\": [\"Mercury\", \"Venus\", \"Earth\", \"Mars\", \"Jupiter\", \"Saturn\", \"Uranus\", \"Neptune\", \"Pluto\"], \"y\": [57.9, 108.2, 149.6, 227.9, 778.6, 1433.5, 2872.5, 4495.1, 5906.4], \"mode\": \"markers\", \"marker\": {\"size\": [4879, 12104, 12756, 6792, 142984, 120536, 51118, 49528, 2370], \"sizeref\": 1000, \"color\": [0, 0, 1, 2, 67, 62, 27, 14, 5], \"colorscale\": \"Rainbow\", \"showscale\": true}, \"text\": [\"4879 km\", \"12104 km\", \"12756 km\", \"6792 km\", \"142984 km\", \"120536 km\", \"51118 km\", \"49528 km\", \"2370 km\"]}], {\"height\": 600, \"width\": 900, \"title\": \"Planets of our Solar System\", \"hovermode\": \"closest\"}, {\"showLink\": true, \"linkText\": \"Export to plot.ly\"})});</script>"
      ]
     },
     "metadata": {},
     "output_type": "display_data"
    }
   ],
   "source": [
    "fig = go.Figure(data = data, \n",
    "                layout = layout)\n",
    "\n",
    "offline.iplot(fig)\n"
   ]
  },
  {
   "cell_type": "code",
   "execution_count": null,
   "metadata": {
    "collapsed": true
   },
   "outputs": [],
   "source": []
  },
  {
   "cell_type": "code",
   "execution_count": null,
   "metadata": {
    "collapsed": true
   },
   "outputs": [],
   "source": []
  }
 ],
 "metadata": {
  "kernelspec": {
   "display_name": "Python 3",
   "language": "python",
   "name": "python3"
  },
  "language_info": {
   "codemirror_mode": {
    "name": "ipython",
    "version": 3
   },
   "file_extension": ".py",
   "mimetype": "text/x-python",
   "name": "python",
   "nbconvert_exporter": "python",
   "pygments_lexer": "ipython3",
   "version": "3.6.3"
  }
 },
 "nbformat": 4,
 "nbformat_minor": 2
}
