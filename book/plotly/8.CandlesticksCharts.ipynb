{
 "cells": [
  {
   "cell_type": "code",
   "execution_count": 1,
   "metadata": {},
   "outputs": [
    {
     "data": {
      "text/html": [
       "<script>requirejs.config({paths: { 'plotly': ['https://cdn.plot.ly/plotly-latest.min']},});if(!window.Plotly) {{require(['plotly'],function(plotly) {window.Plotly=plotly;});}}</script>"
      ],
      "text/vnd.plotly.v1+html": [
       "<script>requirejs.config({paths: { 'plotly': ['https://cdn.plot.ly/plotly-latest.min']},});if(!window.Plotly) {{require(['plotly'],function(plotly) {window.Plotly=plotly;});}}</script>"
      ]
     },
     "metadata": {},
     "output_type": "display_data"
    }
   ],
   "source": [
    "import plotly.plotly as py\n",
    "import plotly.graph_objs as go\n",
    "import plotly.offline as offline\n",
    "\n",
    "offline.init_notebook_mode(connected=True)"
   ]
  },
  {
   "cell_type": "code",
   "execution_count": 2,
   "metadata": {},
   "outputs": [],
   "source": [
    "import pandas as pd\n",
    "pd.core.common.is_list_like = pd.api.types.is_list_like\n",
    "import pandas_datareader as web\n",
    "\n",
    "from datetime import datetime"
   ]
  },
  {
   "cell_type": "markdown",
   "metadata": {},
   "source": [
    "### Candlestick with pandas on Ford Motors stock\n",
    "A candlestick chart (also called Japanese candlestick chart) is a style of financial chart used to describe price movements of a security, derivative, or currency."
   ]
  },
  {
   "cell_type": "markdown",
   "metadata": {},
   "source": [
    "#### Gather stock data\n",
    "First collect a few days of OHLC (Open High Low Close) data for the General Motors stock from Morningstar."
   ]
  },
  {
   "cell_type": "code",
   "execution_count": 3,
   "metadata": {},
   "outputs": [],
   "source": [
    "ford = web.DataReader('F', 'morningstar',\n",
    "                        \n",
    "                    datetime(2018, 5, 1),\n",
    "                    datetime(2018, 5, 10)).reset_index()"
   ]
  },
  {
   "cell_type": "markdown",
   "metadata": {},
   "source": [
    "#### Define the candlestick graph\n",
    "The fields which are passed to the chart include the OHLC fields along with the series which is represented on the X axis (typically the date)"
   ]
  },
  {
   "cell_type": "code",
   "execution_count": 4,
   "metadata": {
    "collapsed": true
   },
   "outputs": [],
   "source": [
    "trace = go.Candlestick(x = ford.Date,\n",
    "                       \n",
    "                       open = ford.Open,\n",
    "                       \n",
    "                       high = ford.High,\n",
    "                       \n",
    "                       low = ford.Low,\n",
    "                       \n",
    "                       close = ford.Close)"
   ]
  },
  {
   "cell_type": "markdown",
   "metadata": {},
   "source": [
    "#### Plot the candlesticks\n",
    "The plot has the following components:\n",
    "* A bounding box whose y values represent the range between the stock's open and close prices \n",
    "* A green box represents a higher close value than open (i.e. stock price went up that day)\n",
    "* The box is red when the stock closed lower\n",
    "* The vertical lines (bars above and below the box) show the range of intra-day high and low prices\n",
    "* The vertical lines are capped at the top by horizontal lines called whiserks. By default, the width of the whisker is 0 which is why we don't see them\n",
    "\n",
    "Notice that a slider appears by default along the X axis"
   ]
  },
  {
   "cell_type": "code",
   "execution_count": 5,
   "metadata": {},
   "outputs": [
    {
     "data": {
      "application/vnd.plotly.v1+json": {
       "data": [
        {
         "close": [
          11.26,
          11.21,
          11.2,
          11.36,
          11.34,
          11.27,
          11.06,
          11.21
         ],
         "high": [
          11.35,
          11.265,
          11.21,
          11.41,
          11.44,
          11.37,
          11.28,
          11.25
         ],
         "low": [
          11.1,
          11.12,
          10.97,
          11.09,
          11.31,
          11.235,
          11.02,
          11.02
         ],
         "open": [
          11.25,
          11.26,
          11.17,
          11.16,
          11.36,
          11.32,
          11.21,
          11.04
         ],
         "type": "candlestick",
         "x": [
          "2018-05-01",
          "2018-05-02",
          "2018-05-03",
          "2018-05-04",
          "2018-05-07",
          "2018-05-08",
          "2018-05-09",
          "2018-05-10"
         ]
        }
       ],
       "layout": {}
      },
      "text/html": [
       "<div id=\"825b683b-b232-4ebc-b393-173a2a647ddc\" style=\"height: 525px; width: 100%;\" class=\"plotly-graph-div\"></div><script type=\"text/javascript\">require([\"plotly\"], function(Plotly) { window.PLOTLYENV=window.PLOTLYENV || {};window.PLOTLYENV.BASE_URL=\"https://plot.ly\";Plotly.newPlot(\"825b683b-b232-4ebc-b393-173a2a647ddc\", [{\"type\": \"candlestick\", \"x\": [\"2018-05-01\", \"2018-05-02\", \"2018-05-03\", \"2018-05-04\", \"2018-05-07\", \"2018-05-08\", \"2018-05-09\", \"2018-05-10\"], \"open\": [11.25, 11.26, 11.17, 11.16, 11.36, 11.32, 11.21, 11.04], \"high\": [11.35, 11.265, 11.21, 11.41, 11.44, 11.37, 11.28, 11.25], \"low\": [11.1, 11.12, 10.97, 11.09, 11.31, 11.235, 11.02, 11.02], \"close\": [11.26, 11.21, 11.2, 11.36, 11.34, 11.27, 11.06, 11.21]}], {}, {\"showLink\": true, \"linkText\": \"Export to plot.ly\"})});</script>"
      ],
      "text/vnd.plotly.v1+html": [
       "<div id=\"825b683b-b232-4ebc-b393-173a2a647ddc\" style=\"height: 525px; width: 100%;\" class=\"plotly-graph-div\"></div><script type=\"text/javascript\">require([\"plotly\"], function(Plotly) { window.PLOTLYENV=window.PLOTLYENV || {};window.PLOTLYENV.BASE_URL=\"https://plot.ly\";Plotly.newPlot(\"825b683b-b232-4ebc-b393-173a2a647ddc\", [{\"type\": \"candlestick\", \"x\": [\"2018-05-01\", \"2018-05-02\", \"2018-05-03\", \"2018-05-04\", \"2018-05-07\", \"2018-05-08\", \"2018-05-09\", \"2018-05-10\"], \"open\": [11.25, 11.26, 11.17, 11.16, 11.36, 11.32, 11.21, 11.04], \"high\": [11.35, 11.265, 11.21, 11.41, 11.44, 11.37, 11.28, 11.25], \"low\": [11.1, 11.12, 10.97, 11.09, 11.31, 11.235, 11.02, 11.02], \"close\": [11.26, 11.21, 11.2, 11.36, 11.34, 11.27, 11.06, 11.21]}], {}, {\"showLink\": true, \"linkText\": \"Export to plot.ly\"})});</script>"
      ]
     },
     "metadata": {},
     "output_type": "display_data"
    }
   ],
   "source": [
    "data = [trace]\n",
    "\n",
    "offline.iplot(data)"
   ]
  },
  {
   "cell_type": "markdown",
   "metadata": {},
   "source": [
    "### Customizing the candlesticks\n",
    "The following customizations can be added to candlesticks:\n",
    "* Format the fillcolor of the bounding boxes which come in two forms:\n",
    " * increasing represents the boxes when close > open (a green shade by default)\n",
    " * decreasing represents the boxes when close < open (a red shade by default)\n",
    "* Format the lines of the bounding boxes and whiskers\n",
    "* Set the whisker width (as a proportion of box size. Default is 0, max is 1 which is equal to box size)"
   ]
  },
  {
   "cell_type": "code",
   "execution_count": 15,
   "metadata": {
    "collapsed": true
   },
   "outputs": [],
   "source": [
    "trace = go.Candlestick(x = ford.Date,\n",
    "                       open = ford.Open,\n",
    "                       high = ford.High,\n",
    "                       low = ford.Low,\n",
    "                       close = ford.Close, \n",
    "                       \n",
    "                       increasing = dict(fillcolor = 'greenyellow', \n",
    "                                         line = dict(color = 'green', \n",
    "                                                     width = 3\n",
    "                                                    )\n",
    "                                        ),\n",
    "                       decreasing = dict(fillcolor = 'lightcoral'),\n",
    "                       \n",
    "                       whiskerwidth = 0.2\n",
    "                      )"
   ]
  },
  {
   "cell_type": "code",
   "execution_count": 16,
   "metadata": {
    "collapsed": true
   },
   "outputs": [],
   "source": [
    "data = [trace]"
   ]
  },
  {
   "cell_type": "code",
   "execution_count": 17,
   "metadata": {},
   "outputs": [
    {
     "data": {
      "application/vnd.plotly.v1+json": {
       "data": [
        {
         "close": [
          11.26,
          11.21,
          11.2,
          11.36,
          11.34,
          11.27,
          11.06,
          11.21
         ],
         "decreasing": {
          "fillcolor": "lightcoral"
         },
         "high": [
          11.35,
          11.265,
          11.21,
          11.41,
          11.44,
          11.37,
          11.28,
          11.25
         ],
         "increasing": {
          "fillcolor": "greenyellow",
          "line": {
           "color": "green",
           "width": 3
          }
         },
         "low": [
          11.1,
          11.12,
          10.97,
          11.09,
          11.31,
          11.235,
          11.02,
          11.02
         ],
         "open": [
          11.25,
          11.26,
          11.17,
          11.16,
          11.36,
          11.32,
          11.21,
          11.04
         ],
         "type": "candlestick",
         "whiskerwidth": 0.2,
         "x": [
          "2018-05-01",
          "2018-05-02",
          "2018-05-03",
          "2018-05-04",
          "2018-05-07",
          "2018-05-08",
          "2018-05-09",
          "2018-05-10"
         ]
        }
       ],
       "layout": {}
      },
      "text/html": [
       "<div id=\"c298bacd-70d5-439b-b1ab-dbfb9ee251ee\" style=\"height: 525px; width: 100%;\" class=\"plotly-graph-div\"></div><script type=\"text/javascript\">require([\"plotly\"], function(Plotly) { window.PLOTLYENV=window.PLOTLYENV || {};window.PLOTLYENV.BASE_URL=\"https://plot.ly\";Plotly.newPlot(\"c298bacd-70d5-439b-b1ab-dbfb9ee251ee\", [{\"type\": \"candlestick\", \"x\": [\"2018-05-01\", \"2018-05-02\", \"2018-05-03\", \"2018-05-04\", \"2018-05-07\", \"2018-05-08\", \"2018-05-09\", \"2018-05-10\"], \"open\": [11.25, 11.26, 11.17, 11.16, 11.36, 11.32, 11.21, 11.04], \"high\": [11.35, 11.265, 11.21, 11.41, 11.44, 11.37, 11.28, 11.25], \"low\": [11.1, 11.12, 10.97, 11.09, 11.31, 11.235, 11.02, 11.02], \"close\": [11.26, 11.21, 11.2, 11.36, 11.34, 11.27, 11.06, 11.21], \"increasing\": {\"fillcolor\": \"greenyellow\", \"line\": {\"color\": \"green\", \"width\": 3}}, \"decreasing\": {\"fillcolor\": \"lightcoral\"}, \"whiskerwidth\": 0.2}], {}, {\"showLink\": true, \"linkText\": \"Export to plot.ly\"})});</script>"
      ],
      "text/vnd.plotly.v1+html": [
       "<div id=\"c298bacd-70d5-439b-b1ab-dbfb9ee251ee\" style=\"height: 525px; width: 100%;\" class=\"plotly-graph-div\"></div><script type=\"text/javascript\">require([\"plotly\"], function(Plotly) { window.PLOTLYENV=window.PLOTLYENV || {};window.PLOTLYENV.BASE_URL=\"https://plot.ly\";Plotly.newPlot(\"c298bacd-70d5-439b-b1ab-dbfb9ee251ee\", [{\"type\": \"candlestick\", \"x\": [\"2018-05-01\", \"2018-05-02\", \"2018-05-03\", \"2018-05-04\", \"2018-05-07\", \"2018-05-08\", \"2018-05-09\", \"2018-05-10\"], \"open\": [11.25, 11.26, 11.17, 11.16, 11.36, 11.32, 11.21, 11.04], \"high\": [11.35, 11.265, 11.21, 11.41, 11.44, 11.37, 11.28, 11.25], \"low\": [11.1, 11.12, 10.97, 11.09, 11.31, 11.235, 11.02, 11.02], \"close\": [11.26, 11.21, 11.2, 11.36, 11.34, 11.27, 11.06, 11.21], \"increasing\": {\"fillcolor\": \"greenyellow\", \"line\": {\"color\": \"green\", \"width\": 3}}, \"decreasing\": {\"fillcolor\": \"lightcoral\"}, \"whiskerwidth\": 0.2}], {}, {\"showLink\": true, \"linkText\": \"Export to plot.ly\"})});</script>"
      ]
     },
     "metadata": {},
     "output_type": "display_data"
    }
   ],
   "source": [
    "fig = dict(data=data)\n",
    "\n",
    "offline.iplot(fig)"
   ]
  },
  {
   "cell_type": "code",
   "execution_count": null,
   "metadata": {
    "collapsed": true
   },
   "outputs": [],
   "source": []
  },
  {
   "cell_type": "code",
   "execution_count": null,
   "metadata": {
    "collapsed": true
   },
   "outputs": [],
   "source": []
  }
 ],
 "metadata": {
  "kernelspec": {
   "display_name": "Python 3",
   "language": "python",
   "name": "python3"
  },
  "language_info": {
   "codemirror_mode": {
    "name": "ipython",
    "version": 3
   },
   "file_extension": ".py",
   "mimetype": "text/x-python",
   "name": "python",
   "nbconvert_exporter": "python",
   "pygments_lexer": "ipython3",
   "version": "3.6.3"
  }
 },
 "nbformat": 4,
 "nbformat_minor": 2
}
