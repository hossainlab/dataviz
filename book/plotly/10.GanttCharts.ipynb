{
 "cells": [
  {
   "cell_type": "markdown",
   "metadata": {},
   "source": [
    "# A Gantt chart provides a graphical illustration of a schedule that helps to plan, coordinate, and track specific tasks in a project."
   ]
  },
  {
   "cell_type": "code",
   "execution_count": 1,
   "metadata": {},
   "outputs": [
    {
     "data": {
      "text/html": [
       "<script>requirejs.config({paths: { 'plotly': ['https://cdn.plot.ly/plotly-latest.min']},});if(!window.Plotly) {{require(['plotly'],function(plotly) {window.Plotly=plotly;});}}</script>"
      ],
      "text/vnd.plotly.v1+html": [
       "<script>requirejs.config({paths: { 'plotly': ['https://cdn.plot.ly/plotly-latest.min']},});if(!window.Plotly) {{require(['plotly'],function(plotly) {window.Plotly=plotly;});}}</script>"
      ]
     },
     "metadata": {},
     "output_type": "display_data"
    }
   ],
   "source": [
    "import plotly.plotly as py\n",
    "import plotly.offline as offline\n",
    "\n",
    "offline.init_notebook_mode(connected=True)"
   ]
  },
  {
   "cell_type": "markdown",
   "metadata": {},
   "source": [
    "#### Import Plotly's figure factory\n",
    "This is the package which contains the Gantt chart"
   ]
  },
  {
   "cell_type": "code",
   "execution_count": 2,
   "metadata": {},
   "outputs": [],
   "source": [
    "import plotly.figure_factory as ff"
   ]
  },
  {
   "cell_type": "markdown",
   "metadata": {},
   "source": [
    "#### Define a simple schedule\n",
    "The fields which are required to plot a Gantt Chart are:\n",
    "* <b>Task</b>, which is a string\n",
    "* <b>Start</b> which is the task's start time expressed in some date format\n",
    "* <b>Finish</b> which is the end time for the task, also in some date format\n",
    "\n",
    "Note that the times for the tasks can overlap"
   ]
  },
  {
   "cell_type": "code",
   "execution_count": 3,
   "metadata": {
    "collapsed": true
   },
   "outputs": [],
   "source": [
    "tasks = [dict(Task='Task 1', \n",
    "              Start='2018-01-01', \n",
    "              Finish='2018-02-28'),\n",
    "         \n",
    "         dict(Task='Task 2', \n",
    "              Start='2018-03-05', \n",
    "              Finish='2018-05-15'),\n",
    "         \n",
    "         dict(Task='Task 3', \n",
    "              Start='2018-05-01', \n",
    "              Finish='2018-06-30')]"
   ]
  },
  {
   "cell_type": "markdown",
   "metadata": {},
   "source": [
    "#### Plot the Gantt chart\n",
    "Use the figure factory to generate a Gantt Chart figure with our list of tasks"
   ]
  },
  {
   "cell_type": "code",
   "execution_count": 4,
   "metadata": {},
   "outputs": [
    {
     "data": {
      "application/vnd.plotly.v1+json": {
       "data": [
        {
         "marker": {
          "color": "white"
         },
         "name": "",
         "type": "scatter",
         "x": [
          "2018-01-01",
          "2018-02-28"
         ],
         "y": [
          0,
          0
         ]
        },
        {
         "marker": {
          "color": "white"
         },
         "name": "",
         "type": "scatter",
         "x": [
          "2018-03-05",
          "2018-05-15"
         ],
         "y": [
          1,
          1
         ]
        },
        {
         "marker": {
          "color": "white"
         },
         "name": "",
         "type": "scatter",
         "x": [
          "2018-05-01",
          "2018-06-30"
         ],
         "y": [
          2,
          2
         ]
        }
       ],
       "layout": {
        "height": 600,
        "hovermode": "closest",
        "shapes": [
         {
          "fillcolor": "rgb(31, 119, 180)",
          "line": {
           "width": 0
          },
          "opacity": 1,
          "type": "rect",
          "x0": "2018-01-01",
          "x1": "2018-02-28",
          "xref": "x",
          "y0": -0.2,
          "y1": 0.2,
          "yref": "y"
         },
         {
          "fillcolor": "rgb(255, 127, 14)",
          "line": {
           "width": 0
          },
          "opacity": 1,
          "type": "rect",
          "x0": "2018-03-05",
          "x1": "2018-05-15",
          "xref": "x",
          "y0": 0.8,
          "y1": 1.2,
          "yref": "y"
         },
         {
          "fillcolor": "rgb(44, 160, 44)",
          "line": {
           "width": 0
          },
          "opacity": 1,
          "type": "rect",
          "x0": "2018-05-01",
          "x1": "2018-06-30",
          "xref": "x",
          "y0": 1.8,
          "y1": 2.2,
          "yref": "y"
         }
        ],
        "showlegend": false,
        "title": "Gantt Chart",
        "width": 900,
        "xaxis": {
         "rangeselector": {
          "buttons": [
           {
            "count": 7,
            "label": "1w",
            "step": "day",
            "stepmode": "backward"
           },
           {
            "count": 1,
            "label": "1m",
            "step": "month",
            "stepmode": "backward"
           },
           {
            "count": 6,
            "label": "6m",
            "step": "month",
            "stepmode": "backward"
           },
           {
            "count": 1,
            "label": "YTD",
            "step": "year",
            "stepmode": "todate"
           },
           {
            "count": 1,
            "label": "1y",
            "step": "year",
            "stepmode": "backward"
           },
           {
            "step": "all"
           }
          ]
         },
         "showgrid": false,
         "type": "date",
         "zeroline": false
        },
        "yaxis": {
         "autorange": false,
         "range": [
          -1,
          4
         ],
         "showgrid": false,
         "ticktext": [
          "Task 1",
          "Task 2",
          "Task 3"
         ],
         "tickvals": [
          0,
          1,
          2
         ],
         "zeroline": false
        }
       }
      },
      "text/html": [
       "<div id=\"b4c67b33-3440-44d3-9c7a-d33c7b4583bc\" style=\"height: 600px; width: 900px;\" class=\"plotly-graph-div\"></div><script type=\"text/javascript\">require([\"plotly\"], function(Plotly) { window.PLOTLYENV=window.PLOTLYENV || {};window.PLOTLYENV.BASE_URL=\"https://plot.ly\";Plotly.newPlot(\"b4c67b33-3440-44d3-9c7a-d33c7b4583bc\", [{\"type\": \"scatter\", \"x\": [\"2018-01-01\", \"2018-02-28\"], \"y\": [0, 0], \"name\": \"\", \"marker\": {\"color\": \"white\"}}, {\"type\": \"scatter\", \"x\": [\"2018-03-05\", \"2018-05-15\"], \"y\": [1, 1], \"name\": \"\", \"marker\": {\"color\": \"white\"}}, {\"type\": \"scatter\", \"x\": [\"2018-05-01\", \"2018-06-30\"], \"y\": [2, 2], \"name\": \"\", \"marker\": {\"color\": \"white\"}}], {\"title\": \"Gantt Chart\", \"showlegend\": false, \"height\": 600, \"width\": 900, \"shapes\": [{\"x0\": \"2018-01-01\", \"x1\": \"2018-02-28\", \"type\": \"rect\", \"xref\": \"x\", \"yref\": \"y\", \"opacity\": 1, \"line\": {\"width\": 0}, \"y0\": -0.2, \"y1\": 0.2, \"fillcolor\": \"rgb(31, 119, 180)\"}, {\"x0\": \"2018-03-05\", \"x1\": \"2018-05-15\", \"type\": \"rect\", \"xref\": \"x\", \"yref\": \"y\", \"opacity\": 1, \"line\": {\"width\": 0}, \"y0\": 0.8, \"y1\": 1.2, \"fillcolor\": \"rgb(255, 127, 14)\"}, {\"x0\": \"2018-05-01\", \"x1\": \"2018-06-30\", \"type\": \"rect\", \"xref\": \"x\", \"yref\": \"y\", \"opacity\": 1, \"line\": {\"width\": 0}, \"y0\": 1.8, \"y1\": 2.2, \"fillcolor\": \"rgb(44, 160, 44)\"}], \"hovermode\": \"closest\", \"yaxis\": {\"showgrid\": false, \"ticktext\": [\"Task 1\", \"Task 2\", \"Task 3\"], \"tickvals\": [0, 1, 2], \"range\": [-1, 4], \"autorange\": false, \"zeroline\": false}, \"xaxis\": {\"showgrid\": false, \"zeroline\": false, \"rangeselector\": {\"buttons\": [{\"count\": 7, \"label\": \"1w\", \"step\": \"day\", \"stepmode\": \"backward\"}, {\"count\": 1, \"label\": \"1m\", \"step\": \"month\", \"stepmode\": \"backward\"}, {\"count\": 6, \"label\": \"6m\", \"step\": \"month\", \"stepmode\": \"backward\"}, {\"count\": 1, \"label\": \"YTD\", \"step\": \"year\", \"stepmode\": \"todate\"}, {\"count\": 1, \"label\": \"1y\", \"step\": \"year\", \"stepmode\": \"backward\"}, {\"step\": \"all\"}]}, \"type\": \"date\"}}, {\"showLink\": true, \"linkText\": \"Export to plot.ly\"})});</script>"
      ],
      "text/vnd.plotly.v1+html": [
       "<div id=\"b4c67b33-3440-44d3-9c7a-d33c7b4583bc\" style=\"height: 600px; width: 900px;\" class=\"plotly-graph-div\"></div><script type=\"text/javascript\">require([\"plotly\"], function(Plotly) { window.PLOTLYENV=window.PLOTLYENV || {};window.PLOTLYENV.BASE_URL=\"https://plot.ly\";Plotly.newPlot(\"b4c67b33-3440-44d3-9c7a-d33c7b4583bc\", [{\"type\": \"scatter\", \"x\": [\"2018-01-01\", \"2018-02-28\"], \"y\": [0, 0], \"name\": \"\", \"marker\": {\"color\": \"white\"}}, {\"type\": \"scatter\", \"x\": [\"2018-03-05\", \"2018-05-15\"], \"y\": [1, 1], \"name\": \"\", \"marker\": {\"color\": \"white\"}}, {\"type\": \"scatter\", \"x\": [\"2018-05-01\", \"2018-06-30\"], \"y\": [2, 2], \"name\": \"\", \"marker\": {\"color\": \"white\"}}], {\"title\": \"Gantt Chart\", \"showlegend\": false, \"height\": 600, \"width\": 900, \"shapes\": [{\"x0\": \"2018-01-01\", \"x1\": \"2018-02-28\", \"type\": \"rect\", \"xref\": \"x\", \"yref\": \"y\", \"opacity\": 1, \"line\": {\"width\": 0}, \"y0\": -0.2, \"y1\": 0.2, \"fillcolor\": \"rgb(31, 119, 180)\"}, {\"x0\": \"2018-03-05\", \"x1\": \"2018-05-15\", \"type\": \"rect\", \"xref\": \"x\", \"yref\": \"y\", \"opacity\": 1, \"line\": {\"width\": 0}, \"y0\": 0.8, \"y1\": 1.2, \"fillcolor\": \"rgb(255, 127, 14)\"}, {\"x0\": \"2018-05-01\", \"x1\": \"2018-06-30\", \"type\": \"rect\", \"xref\": \"x\", \"yref\": \"y\", \"opacity\": 1, \"line\": {\"width\": 0}, \"y0\": 1.8, \"y1\": 2.2, \"fillcolor\": \"rgb(44, 160, 44)\"}], \"hovermode\": \"closest\", \"yaxis\": {\"showgrid\": false, \"ticktext\": [\"Task 1\", \"Task 2\", \"Task 3\"], \"tickvals\": [0, 1, 2], \"range\": [-1, 4], \"autorange\": false, \"zeroline\": false}, \"xaxis\": {\"showgrid\": false, \"zeroline\": false, \"rangeselector\": {\"buttons\": [{\"count\": 7, \"label\": \"1w\", \"step\": \"day\", \"stepmode\": \"backward\"}, {\"count\": 1, \"label\": \"1m\", \"step\": \"month\", \"stepmode\": \"backward\"}, {\"count\": 6, \"label\": \"6m\", \"step\": \"month\", \"stepmode\": \"backward\"}, {\"count\": 1, \"label\": \"YTD\", \"step\": \"year\", \"stepmode\": \"todate\"}, {\"count\": 1, \"label\": \"1y\", \"step\": \"year\", \"stepmode\": \"backward\"}, {\"step\": \"all\"}]}, \"type\": \"date\"}}, {\"showLink\": true, \"linkText\": \"Export to plot.ly\"})});</script>"
      ]
     },
     "metadata": {},
     "output_type": "display_data"
    }
   ],
   "source": [
    "fig = ff.create_gantt(tasks)\n",
    "\n",
    "offline.iplot(fig)"
   ]
  },
  {
   "cell_type": "markdown",
   "metadata": {},
   "source": [
    "### Using Color Scales\n",
    "Color scales can be used in Gantt charts to represent information"
   ]
  },
  {
   "cell_type": "markdown",
   "metadata": {},
   "source": [
    "### Numeric data represented with a color scale\n",
    "By using a color scale, we can portray how much of a task is completed"
   ]
  },
  {
   "cell_type": "code",
   "execution_count": 5,
   "metadata": {
    "collapsed": true
   },
   "outputs": [],
   "source": [
    "tasks = [dict(Task='Task 1', \n",
    "              Start='2018-01-01', \n",
    "              Finish='2018-02-28',\n",
    "              Complete=100),\n",
    "         \n",
    "         dict(Task='Task 2', \n",
    "              Start='2018-03-05', \n",
    "              Finish='2018-04-15',\n",
    "              Complete=60),\n",
    "         \n",
    "         dict(Task='Task 3', \n",
    "              Start='2018-04-15', \n",
    "              Finish='2018-06-30',\n",
    "              Complete=20)]"
   ]
  },
  {
   "cell_type": "markdown",
   "metadata": {},
   "source": [
    "#### Define the Gantt chart\n",
    "* The <b>colors</b> attribute takes in the name of a built-in color scale or a list of RGB or Hexademical numbers\n",
    "* <b>index_col</b> is used to specify which field should be represented using the color scale\n",
    "* <b>show_colorbar</b> can be set to view the color scale as a reference "
   ]
  },
  {
   "cell_type": "code",
   "execution_count": 6,
   "metadata": {},
   "outputs": [
    {
     "data": {
      "application/vnd.plotly.v1+json": {
       "data": [
        {
         "marker": {
          "color": "white"
         },
         "name": "",
         "x": [
          "2018-01-01",
          "2018-02-28"
         ],
         "y": [
          0,
          0
         ]
        },
        {
         "marker": {
          "color": "white"
         },
         "name": "",
         "x": [
          "2018-03-05",
          "2018-04-15"
         ],
         "y": [
          1,
          1
         ]
        },
        {
         "marker": {
          "color": "white"
         },
         "name": "",
         "x": [
          "2018-04-15",
          "2018-06-30"
         ],
         "y": [
          2,
          2
         ]
        },
        {
         "marker": {
          "cmax": 100,
          "cmin": 0,
          "color": "white",
          "colorscale": [
           [
            0,
            "rgb(0.0, 0.0, 255.0)"
           ],
           [
            1,
            "rgb(255.0, 0.0, 0.0)"
           ]
          ],
          "showscale": true
         },
         "name": "",
         "x": [
          "2018-04-15",
          "2018-04-15"
         ],
         "y": [
          2,
          2
         ]
        }
       ],
       "layout": {
        "height": 600,
        "hovermode": "closest",
        "shapes": [
         {
          "fillcolor": "rgb(255.0, 0.0, 0.0)",
          "line": {
           "width": 0
          },
          "opacity": 1,
          "type": "rect",
          "x0": "2018-01-01",
          "x1": "2018-02-28",
          "xref": "x",
          "y0": -0.2,
          "y1": 0.2,
          "yref": "y"
         },
         {
          "fillcolor": "rgb(153.0, 0.0, 102.0)",
          "line": {
           "width": 0
          },
          "opacity": 1,
          "type": "rect",
          "x0": "2018-03-05",
          "x1": "2018-04-15",
          "xref": "x",
          "y0": 0.8,
          "y1": 1.2,
          "yref": "y"
         },
         {
          "fillcolor": "rgb(51.0, 0.0, 204.0)",
          "line": {
           "width": 0
          },
          "opacity": 1,
          "type": "rect",
          "x0": "2018-04-15",
          "x1": "2018-06-30",
          "xref": "x",
          "y0": 1.8,
          "y1": 2.2,
          "yref": "y"
         }
        ],
        "showlegend": false,
        "title": "Gantt Chart with a color scale",
        "width": 900,
        "xaxis": {
         "rangeselector": {
          "buttons": [
           {
            "count": 7,
            "label": "1w",
            "step": "day",
            "stepmode": "backward"
           },
           {
            "count": 1,
            "label": "1m",
            "step": "month",
            "stepmode": "backward"
           },
           {
            "count": 6,
            "label": "6m",
            "step": "month",
            "stepmode": "backward"
           },
           {
            "count": 1,
            "label": "YTD",
            "step": "year",
            "stepmode": "todate"
           },
           {
            "count": 1,
            "label": "1y",
            "step": "year",
            "stepmode": "backward"
           },
           {
            "step": "all"
           }
          ]
         },
         "showgrid": false,
         "type": "date",
         "zeroline": false
        },
        "yaxis": {
         "autorange": false,
         "range": [
          -1,
          4
         ],
         "showgrid": false,
         "ticktext": [
          "Task 1",
          "Task 2",
          "Task 3"
         ],
         "tickvals": [
          0,
          1,
          2
         ],
         "zeroline": false
        }
       }
      },
      "text/html": [
       "<div id=\"31875f57-7757-40cb-921f-493ab2ce8744\" style=\"height: 600px; width: 900px;\" class=\"plotly-graph-div\"></div><script type=\"text/javascript\">require([\"plotly\"], function(Plotly) { window.PLOTLYENV=window.PLOTLYENV || {};window.PLOTLYENV.BASE_URL=\"https://plot.ly\";Plotly.newPlot(\"31875f57-7757-40cb-921f-493ab2ce8744\", [{\"x\": [\"2018-01-01\", \"2018-02-28\"], \"y\": [0, 0], \"name\": \"\", \"marker\": {\"color\": \"white\"}}, {\"x\": [\"2018-03-05\", \"2018-04-15\"], \"y\": [1, 1], \"name\": \"\", \"marker\": {\"color\": \"white\"}}, {\"x\": [\"2018-04-15\", \"2018-06-30\"], \"y\": [2, 2], \"name\": \"\", \"marker\": {\"color\": \"white\"}}, {\"x\": [\"2018-04-15\", \"2018-04-15\"], \"y\": [2, 2], \"name\": \"\", \"marker\": {\"color\": \"white\", \"colorscale\": [[0, \"rgb(0.0, 0.0, 255.0)\"], [1, \"rgb(255.0, 0.0, 0.0)\"]], \"showscale\": true, \"cmax\": 100, \"cmin\": 0}}], {\"title\": \"Gantt Chart with a color scale\", \"showlegend\": false, \"height\": 600, \"width\": 900, \"shapes\": [{\"x0\": \"2018-01-01\", \"x1\": \"2018-02-28\", \"type\": \"rect\", \"xref\": \"x\", \"yref\": \"y\", \"opacity\": 1, \"line\": {\"width\": 0}, \"y0\": -0.2, \"y1\": 0.2, \"fillcolor\": \"rgb(255.0, 0.0, 0.0)\"}, {\"x0\": \"2018-03-05\", \"x1\": \"2018-04-15\", \"type\": \"rect\", \"xref\": \"x\", \"yref\": \"y\", \"opacity\": 1, \"line\": {\"width\": 0}, \"y0\": 0.8, \"y1\": 1.2, \"fillcolor\": \"rgb(153.0, 0.0, 102.0)\"}, {\"x0\": \"2018-04-15\", \"x1\": \"2018-06-30\", \"type\": \"rect\", \"xref\": \"x\", \"yref\": \"y\", \"opacity\": 1, \"line\": {\"width\": 0}, \"y0\": 1.8, \"y1\": 2.2, \"fillcolor\": \"rgb(51.0, 0.0, 204.0)\"}], \"hovermode\": \"closest\", \"yaxis\": {\"showgrid\": false, \"ticktext\": [\"Task 1\", \"Task 2\", \"Task 3\"], \"tickvals\": [0, 1, 2], \"range\": [-1, 4], \"autorange\": false, \"zeroline\": false}, \"xaxis\": {\"showgrid\": false, \"zeroline\": false, \"rangeselector\": {\"buttons\": [{\"count\": 7, \"label\": \"1w\", \"step\": \"day\", \"stepmode\": \"backward\"}, {\"count\": 1, \"label\": \"1m\", \"step\": \"month\", \"stepmode\": \"backward\"}, {\"count\": 6, \"label\": \"6m\", \"step\": \"month\", \"stepmode\": \"backward\"}, {\"count\": 1, \"label\": \"YTD\", \"step\": \"year\", \"stepmode\": \"todate\"}, {\"count\": 1, \"label\": \"1y\", \"step\": \"year\", \"stepmode\": \"backward\"}, {\"step\": \"all\"}]}, \"type\": \"date\"}}, {\"showLink\": true, \"linkText\": \"Export to plot.ly\"})});</script>"
      ],
      "text/vnd.plotly.v1+html": [
       "<div id=\"31875f57-7757-40cb-921f-493ab2ce8744\" style=\"height: 600px; width: 900px;\" class=\"plotly-graph-div\"></div><script type=\"text/javascript\">require([\"plotly\"], function(Plotly) { window.PLOTLYENV=window.PLOTLYENV || {};window.PLOTLYENV.BASE_URL=\"https://plot.ly\";Plotly.newPlot(\"31875f57-7757-40cb-921f-493ab2ce8744\", [{\"x\": [\"2018-01-01\", \"2018-02-28\"], \"y\": [0, 0], \"name\": \"\", \"marker\": {\"color\": \"white\"}}, {\"x\": [\"2018-03-05\", \"2018-04-15\"], \"y\": [1, 1], \"name\": \"\", \"marker\": {\"color\": \"white\"}}, {\"x\": [\"2018-04-15\", \"2018-06-30\"], \"y\": [2, 2], \"name\": \"\", \"marker\": {\"color\": \"white\"}}, {\"x\": [\"2018-04-15\", \"2018-04-15\"], \"y\": [2, 2], \"name\": \"\", \"marker\": {\"color\": \"white\", \"colorscale\": [[0, \"rgb(0.0, 0.0, 255.0)\"], [1, \"rgb(255.0, 0.0, 0.0)\"]], \"showscale\": true, \"cmax\": 100, \"cmin\": 0}}], {\"title\": \"Gantt Chart with a color scale\", \"showlegend\": false, \"height\": 600, \"width\": 900, \"shapes\": [{\"x0\": \"2018-01-01\", \"x1\": \"2018-02-28\", \"type\": \"rect\", \"xref\": \"x\", \"yref\": \"y\", \"opacity\": 1, \"line\": {\"width\": 0}, \"y0\": -0.2, \"y1\": 0.2, \"fillcolor\": \"rgb(255.0, 0.0, 0.0)\"}, {\"x0\": \"2018-03-05\", \"x1\": \"2018-04-15\", \"type\": \"rect\", \"xref\": \"x\", \"yref\": \"y\", \"opacity\": 1, \"line\": {\"width\": 0}, \"y0\": 0.8, \"y1\": 1.2, \"fillcolor\": \"rgb(153.0, 0.0, 102.0)\"}, {\"x0\": \"2018-04-15\", \"x1\": \"2018-06-30\", \"type\": \"rect\", \"xref\": \"x\", \"yref\": \"y\", \"opacity\": 1, \"line\": {\"width\": 0}, \"y0\": 1.8, \"y1\": 2.2, \"fillcolor\": \"rgb(51.0, 0.0, 204.0)\"}], \"hovermode\": \"closest\", \"yaxis\": {\"showgrid\": false, \"ticktext\": [\"Task 1\", \"Task 2\", \"Task 3\"], \"tickvals\": [0, 1, 2], \"range\": [-1, 4], \"autorange\": false, \"zeroline\": false}, \"xaxis\": {\"showgrid\": false, \"zeroline\": false, \"rangeselector\": {\"buttons\": [{\"count\": 7, \"label\": \"1w\", \"step\": \"day\", \"stepmode\": \"backward\"}, {\"count\": 1, \"label\": \"1m\", \"step\": \"month\", \"stepmode\": \"backward\"}, {\"count\": 6, \"label\": \"6m\", \"step\": \"month\", \"stepmode\": \"backward\"}, {\"count\": 1, \"label\": \"YTD\", \"step\": \"year\", \"stepmode\": \"todate\"}, {\"count\": 1, \"label\": \"1y\", \"step\": \"year\", \"stepmode\": \"backward\"}, {\"step\": \"all\"}]}, \"type\": \"date\"}}, {\"showLink\": true, \"linkText\": \"Export to plot.ly\"})});</script>"
      ]
     },
     "metadata": {},
     "output_type": "display_data"
    }
   ],
   "source": [
    "fig = ff.create_gantt(tasks, \n",
    "                      title = 'Gantt Chart with a color scale',\n",
    "                      \n",
    "                      colors = 'Picnic', \n",
    "                      index_col = 'Complete', \n",
    "                      show_colorbar = True)\n",
    "\n",
    "offline.iplot(fig)"
   ]
  },
  {
   "cell_type": "markdown",
   "metadata": {},
   "source": [
    "### Color Scales to represent string categories"
   ]
  },
  {
   "cell_type": "markdown",
   "metadata": {},
   "source": [
    "#### Import a CSV file containing a schedule\n",
    "The following is a schedule for a school going kid depicting his/her activities for 1-July-2018 "
   ]
  },
  {
   "cell_type": "code",
   "execution_count": 7,
   "metadata": {},
   "outputs": [
    {
     "data": {
      "text/html": [
       "<div>\n",
       "<style scoped>\n",
       "    .dataframe tbody tr th:only-of-type {\n",
       "        vertical-align: middle;\n",
       "    }\n",
       "\n",
       "    .dataframe tbody tr th {\n",
       "        vertical-align: top;\n",
       "    }\n",
       "\n",
       "    .dataframe thead th {\n",
       "        text-align: right;\n",
       "    }\n",
       "</style>\n",
       "<table border=\"1\" class=\"dataframe\">\n",
       "  <thead>\n",
       "    <tr style=\"text-align: right;\">\n",
       "      <th></th>\n",
       "      <th>Task</th>\n",
       "      <th>Start</th>\n",
       "      <th>Finish</th>\n",
       "      <th>Category</th>\n",
       "    </tr>\n",
       "  </thead>\n",
       "  <tbody>\n",
       "    <tr>\n",
       "      <th>0</th>\n",
       "      <td>Sleep</td>\n",
       "      <td>2018-07-01 0:00:00</td>\n",
       "      <td>2018-07-01 7:00:00</td>\n",
       "      <td>Rest</td>\n",
       "    </tr>\n",
       "    <tr>\n",
       "      <th>1</th>\n",
       "      <td>Breakfast</td>\n",
       "      <td>2018-07-01 7:30:00</td>\n",
       "      <td>2018-07-01 8:00:00</td>\n",
       "      <td>Eat</td>\n",
       "    </tr>\n",
       "    <tr>\n",
       "      <th>2</th>\n",
       "      <td>Music</td>\n",
       "      <td>2018-07-01 8:00:00</td>\n",
       "      <td>2018-07-01 12:00:00</td>\n",
       "      <td>Music</td>\n",
       "    </tr>\n",
       "    <tr>\n",
       "      <th>3</th>\n",
       "      <td>Math</td>\n",
       "      <td>2018-07-01 9:00:00</td>\n",
       "      <td>2018-07-01 12:00:00</td>\n",
       "      <td>Homework</td>\n",
       "    </tr>\n",
       "    <tr>\n",
       "      <th>4</th>\n",
       "      <td>Lunch</td>\n",
       "      <td>2018-07-01 12:00:00</td>\n",
       "      <td>2018-07-01 13:00:00</td>\n",
       "      <td>Eat</td>\n",
       "    </tr>\n",
       "    <tr>\n",
       "      <th>5</th>\n",
       "      <td>Physics</td>\n",
       "      <td>2018-07-01 13:00:00</td>\n",
       "      <td>2018-07-01 14:30:00</td>\n",
       "      <td>Homework</td>\n",
       "    </tr>\n",
       "    <tr>\n",
       "      <th>6</th>\n",
       "      <td>Music</td>\n",
       "      <td>2018-07-01 14:00:00</td>\n",
       "      <td>2018-07-01 15:30:00</td>\n",
       "      <td>Music</td>\n",
       "    </tr>\n",
       "    <tr>\n",
       "      <th>7</th>\n",
       "      <td>Nap</td>\n",
       "      <td>2018-07-01 16:00:00</td>\n",
       "      <td>2018-07-01 16:30:00</td>\n",
       "      <td>Rest</td>\n",
       "    </tr>\n",
       "    <tr>\n",
       "      <th>8</th>\n",
       "      <td>Tennis</td>\n",
       "      <td>2018-07-01 17:30:00</td>\n",
       "      <td>2018-07-01 19:00:00</td>\n",
       "      <td>Play</td>\n",
       "    </tr>\n",
       "    <tr>\n",
       "      <th>9</th>\n",
       "      <td>Dinner</td>\n",
       "      <td>2018-07-01 20:00:00</td>\n",
       "      <td>2018-07-01 20:30:00</td>\n",
       "      <td>Eat</td>\n",
       "    </tr>\n",
       "    <tr>\n",
       "      <th>10</th>\n",
       "      <td>Music</td>\n",
       "      <td>2018-07-01 20:30:00</td>\n",
       "      <td>2018-07-01 22:00:00</td>\n",
       "      <td>Music</td>\n",
       "    </tr>\n",
       "    <tr>\n",
       "      <th>11</th>\n",
       "      <td>History</td>\n",
       "      <td>2018-07-01 21:00:00</td>\n",
       "      <td>2018-07-01 22:00:00</td>\n",
       "      <td>Homework</td>\n",
       "    </tr>\n",
       "  </tbody>\n",
       "</table>\n",
       "</div>"
      ],
      "text/plain": [
       "         Task                Start               Finish  Category\n",
       "0       Sleep   2018-07-01 0:00:00   2018-07-01 7:00:00      Rest\n",
       "1   Breakfast   2018-07-01 7:30:00   2018-07-01 8:00:00       Eat\n",
       "2       Music   2018-07-01 8:00:00  2018-07-01 12:00:00     Music\n",
       "3        Math   2018-07-01 9:00:00  2018-07-01 12:00:00  Homework\n",
       "4       Lunch  2018-07-01 12:00:00  2018-07-01 13:00:00       Eat\n",
       "5     Physics  2018-07-01 13:00:00  2018-07-01 14:30:00  Homework\n",
       "6       Music  2018-07-01 14:00:00  2018-07-01 15:30:00     Music\n",
       "7         Nap  2018-07-01 16:00:00  2018-07-01 16:30:00      Rest\n",
       "8      Tennis  2018-07-01 17:30:00  2018-07-01 19:00:00      Play\n",
       "9      Dinner  2018-07-01 20:00:00  2018-07-01 20:30:00       Eat\n",
       "10      Music  2018-07-01 20:30:00  2018-07-01 22:00:00     Music\n",
       "11    History  2018-07-01 21:00:00  2018-07-01 22:00:00  Homework"
      ]
     },
     "execution_count": 7,
     "metadata": {},
     "output_type": "execute_result"
    }
   ],
   "source": [
    "import pandas as pd\n",
    "\n",
    "schedule = pd.read_csv('./datasets/schedule.csv')\n",
    "schedule"
   ]
  },
  {
   "cell_type": "markdown",
   "metadata": {},
   "source": [
    "#### Define a color map\n",
    "This needs to contain colors specified in either RGB or Hexadecimal format (named colors will not work in a Gantt Chart). The list can contain a mix of both RGB and Hex colors.\n",
    "\n",
    "Here, we map the Category names to the color we want it to be portrayed by."
   ]
  },
  {
   "cell_type": "code",
   "execution_count": 8,
   "metadata": {
    "collapsed": true
   },
   "outputs": [],
   "source": [
    "color_dict = dict(Rest = 'rgb(46, 137, 205)',\n",
    "                  Eat = 'rgb(114, 44, 121)',\n",
    "                  Homework = 'rgb(198, 47, 105)',\n",
    "                  \n",
    "                  Play = '#BD8FD7',\n",
    "                  Music = '#78F7DE')"
   ]
  },
  {
   "cell_type": "markdown",
   "metadata": {},
   "source": [
    "#### Draw the Gantt Chart\n",
    "We cannot use a named color scale to map String values, so we pass in our colors dictionary to be used to assign colors to the different values of 'Category' in our dataset.\n",
    "\n",
    "<b>bar_width</b> sets the width (in this portrayal, the height) of each bar. A bar_width of 0.5 equals the distance between two grid lines on the Y axis. "
   ]
  },
  {
   "cell_type": "code",
   "execution_count": 9,
   "metadata": {
    "scrolled": false
   },
   "outputs": [
    {
     "data": {
      "application/vnd.plotly.v1+json": {
       "data": [
        {
         "marker": {
          "color": "white"
         },
         "name": "",
         "x": [
          "2018-07-01 0:00:00",
          "2018-07-01 7:00:00"
         ],
         "y": [
          0,
          0
         ]
        },
        {
         "marker": {
          "color": "white"
         },
         "name": "",
         "x": [
          "2018-07-01 7:30:00",
          "2018-07-01 8:00:00"
         ],
         "y": [
          1,
          1
         ]
        },
        {
         "marker": {
          "color": "white"
         },
         "name": "",
         "x": [
          "2018-07-01 8:00:00",
          "2018-07-01 12:00:00"
         ],
         "y": [
          2,
          2
         ]
        },
        {
         "marker": {
          "color": "white"
         },
         "name": "",
         "x": [
          "2018-07-01 9:00:00",
          "2018-07-01 12:00:00"
         ],
         "y": [
          3,
          3
         ]
        },
        {
         "marker": {
          "color": "white"
         },
         "name": "",
         "x": [
          "2018-07-01 12:00:00",
          "2018-07-01 13:00:00"
         ],
         "y": [
          4,
          4
         ]
        },
        {
         "marker": {
          "color": "white"
         },
         "name": "",
         "x": [
          "2018-07-01 13:00:00",
          "2018-07-01 14:30:00"
         ],
         "y": [
          5,
          5
         ]
        },
        {
         "marker": {
          "color": "white"
         },
         "name": "",
         "x": [
          "2018-07-01 14:00:00",
          "2018-07-01 15:30:00"
         ],
         "y": [
          6,
          6
         ]
        },
        {
         "marker": {
          "color": "white"
         },
         "name": "",
         "x": [
          "2018-07-01 16:00:00",
          "2018-07-01 16:30:00"
         ],
         "y": [
          7,
          7
         ]
        },
        {
         "marker": {
          "color": "white"
         },
         "name": "",
         "x": [
          "2018-07-01 17:30:00",
          "2018-07-01 19:00:00"
         ],
         "y": [
          8,
          8
         ]
        },
        {
         "marker": {
          "color": "white"
         },
         "name": "",
         "x": [
          "2018-07-01 20:00:00",
          "2018-07-01 20:30:00"
         ],
         "y": [
          9,
          9
         ]
        },
        {
         "marker": {
          "color": "white"
         },
         "name": "",
         "x": [
          "2018-07-01 20:30:00",
          "2018-07-01 22:00:00"
         ],
         "y": [
          10,
          10
         ]
        },
        {
         "marker": {
          "color": "white"
         },
         "name": "",
         "x": [
          "2018-07-01 21:00:00",
          "2018-07-01 22:00:00"
         ],
         "y": [
          11,
          11
         ]
        },
        {
         "hoverinfo": "none",
         "marker": {
          "color": "rgb(114, 44, 121)",
          "size": 1
         },
         "name": "Eat",
         "showlegend": true,
         "x": [
          "2018-07-01 21:00:00",
          "2018-07-01 21:00:00"
         ],
         "y": [
          0,
          0
         ]
        },
        {
         "hoverinfo": "none",
         "marker": {
          "color": "rgb(198, 47, 105)",
          "size": 1
         },
         "name": "Homework",
         "showlegend": true,
         "x": [
          "2018-07-01 21:00:00",
          "2018-07-01 21:00:00"
         ],
         "y": [
          1,
          1
         ]
        },
        {
         "hoverinfo": "none",
         "marker": {
          "color": "rgb(120, 247, 222)",
          "size": 1
         },
         "name": "Music",
         "showlegend": true,
         "x": [
          "2018-07-01 21:00:00",
          "2018-07-01 21:00:00"
         ],
         "y": [
          2,
          2
         ]
        },
        {
         "hoverinfo": "none",
         "marker": {
          "color": "rgb(189, 143, 215)",
          "size": 1
         },
         "name": "Play",
         "showlegend": true,
         "x": [
          "2018-07-01 21:00:00",
          "2018-07-01 21:00:00"
         ],
         "y": [
          3,
          3
         ]
        },
        {
         "hoverinfo": "none",
         "marker": {
          "color": "rgb(46, 137, 205)",
          "size": 1
         },
         "name": "Rest",
         "showlegend": true,
         "x": [
          "2018-07-01 21:00:00",
          "2018-07-01 21:00:00"
         ],
         "y": [
          4,
          4
         ]
        }
       ],
       "layout": {
        "height": 600,
        "hovermode": "closest",
        "shapes": [
         {
          "fillcolor": "rgb(46, 137, 205)",
          "line": {
           "width": 0
          },
          "opacity": 1,
          "type": "rect",
          "x0": "2018-07-01 0:00:00",
          "x1": "2018-07-01 7:00:00",
          "xref": "x",
          "y0": -0.5,
          "y1": 0.5,
          "yref": "y"
         },
         {
          "fillcolor": "rgb(114, 44, 121)",
          "line": {
           "width": 0
          },
          "opacity": 1,
          "type": "rect",
          "x0": "2018-07-01 7:30:00",
          "x1": "2018-07-01 8:00:00",
          "xref": "x",
          "y0": 0.5,
          "y1": 1.5,
          "yref": "y"
         },
         {
          "fillcolor": "rgb(120, 247, 222)",
          "line": {
           "width": 0
          },
          "opacity": 1,
          "type": "rect",
          "x0": "2018-07-01 8:00:00",
          "x1": "2018-07-01 12:00:00",
          "xref": "x",
          "y0": 1.5,
          "y1": 2.5,
          "yref": "y"
         },
         {
          "fillcolor": "rgb(198, 47, 105)",
          "line": {
           "width": 0
          },
          "opacity": 1,
          "type": "rect",
          "x0": "2018-07-01 9:00:00",
          "x1": "2018-07-01 12:00:00",
          "xref": "x",
          "y0": 2.5,
          "y1": 3.5,
          "yref": "y"
         },
         {
          "fillcolor": "rgb(114, 44, 121)",
          "line": {
           "width": 0
          },
          "opacity": 1,
          "type": "rect",
          "x0": "2018-07-01 12:00:00",
          "x1": "2018-07-01 13:00:00",
          "xref": "x",
          "y0": 3.5,
          "y1": 4.5,
          "yref": "y"
         },
         {
          "fillcolor": "rgb(198, 47, 105)",
          "line": {
           "width": 0
          },
          "opacity": 1,
          "type": "rect",
          "x0": "2018-07-01 13:00:00",
          "x1": "2018-07-01 14:30:00",
          "xref": "x",
          "y0": 4.5,
          "y1": 5.5,
          "yref": "y"
         },
         {
          "fillcolor": "rgb(120, 247, 222)",
          "line": {
           "width": 0
          },
          "opacity": 1,
          "type": "rect",
          "x0": "2018-07-01 14:00:00",
          "x1": "2018-07-01 15:30:00",
          "xref": "x",
          "y0": 5.5,
          "y1": 6.5,
          "yref": "y"
         },
         {
          "fillcolor": "rgb(46, 137, 205)",
          "line": {
           "width": 0
          },
          "opacity": 1,
          "type": "rect",
          "x0": "2018-07-01 16:00:00",
          "x1": "2018-07-01 16:30:00",
          "xref": "x",
          "y0": 6.5,
          "y1": 7.5,
          "yref": "y"
         },
         {
          "fillcolor": "rgb(189, 143, 215)",
          "line": {
           "width": 0
          },
          "opacity": 1,
          "type": "rect",
          "x0": "2018-07-01 17:30:00",
          "x1": "2018-07-01 19:00:00",
          "xref": "x",
          "y0": 7.5,
          "y1": 8.5,
          "yref": "y"
         },
         {
          "fillcolor": "rgb(114, 44, 121)",
          "line": {
           "width": 0
          },
          "opacity": 1,
          "type": "rect",
          "x0": "2018-07-01 20:00:00",
          "x1": "2018-07-01 20:30:00",
          "xref": "x",
          "y0": 8.5,
          "y1": 9.5,
          "yref": "y"
         },
         {
          "fillcolor": "rgb(120, 247, 222)",
          "line": {
           "width": 0
          },
          "opacity": 1,
          "type": "rect",
          "x0": "2018-07-01 20:30:00",
          "x1": "2018-07-01 22:00:00",
          "xref": "x",
          "y0": 9.5,
          "y1": 10.5,
          "yref": "y"
         },
         {
          "fillcolor": "rgb(198, 47, 105)",
          "line": {
           "width": 0
          },
          "opacity": 1,
          "type": "rect",
          "x0": "2018-07-01 21:00:00",
          "x1": "2018-07-01 22:00:00",
          "xref": "x",
          "y0": 10.5,
          "y1": 11.5,
          "yref": "y"
         }
        ],
        "showlegend": true,
        "title": "Schedule for 1-July-2018",
        "width": 900,
        "xaxis": {
         "rangeselector": {
          "buttons": [
           {
            "count": 7,
            "label": "1w",
            "step": "day",
            "stepmode": "backward"
           },
           {
            "count": 1,
            "label": "1m",
            "step": "month",
            "stepmode": "backward"
           },
           {
            "count": 6,
            "label": "6m",
            "step": "month",
            "stepmode": "backward"
           },
           {
            "count": 1,
            "label": "YTD",
            "step": "year",
            "stepmode": "todate"
           },
           {
            "count": 1,
            "label": "1y",
            "step": "year",
            "stepmode": "backward"
           },
           {
            "step": "all"
           }
          ]
         },
         "showgrid": true,
         "type": "date",
         "zeroline": false
        },
        "yaxis": {
         "autorange": false,
         "range": [
          -1,
          13
         ],
         "showgrid": true,
         "ticktext": [
          "Sleep",
          "Breakfast",
          "Music",
          "Math",
          "Lunch",
          "Physics",
          "Music",
          "Nap",
          "Tennis",
          "Dinner",
          "Music",
          "History"
         ],
         "tickvals": [
          0,
          1,
          2,
          3,
          4,
          5,
          6,
          7,
          8,
          9,
          10,
          11
         ],
         "zeroline": false
        }
       }
      },
      "text/html": [
       "<div id=\"85a7c7cc-5022-4717-ad41-1bb9ec70a9ee\" style=\"height: 600px; width: 900px;\" class=\"plotly-graph-div\"></div><script type=\"text/javascript\">require([\"plotly\"], function(Plotly) { window.PLOTLYENV=window.PLOTLYENV || {};window.PLOTLYENV.BASE_URL=\"https://plot.ly\";Plotly.newPlot(\"85a7c7cc-5022-4717-ad41-1bb9ec70a9ee\", [{\"x\": [\"2018-07-01 0:00:00\", \"2018-07-01 7:00:00\"], \"y\": [0, 0], \"name\": \"\", \"marker\": {\"color\": \"white\"}}, {\"x\": [\"2018-07-01 7:30:00\", \"2018-07-01 8:00:00\"], \"y\": [1, 1], \"name\": \"\", \"marker\": {\"color\": \"white\"}}, {\"x\": [\"2018-07-01 8:00:00\", \"2018-07-01 12:00:00\"], \"y\": [2, 2], \"name\": \"\", \"marker\": {\"color\": \"white\"}}, {\"x\": [\"2018-07-01 9:00:00\", \"2018-07-01 12:00:00\"], \"y\": [3, 3], \"name\": \"\", \"marker\": {\"color\": \"white\"}}, {\"x\": [\"2018-07-01 12:00:00\", \"2018-07-01 13:00:00\"], \"y\": [4, 4], \"name\": \"\", \"marker\": {\"color\": \"white\"}}, {\"x\": [\"2018-07-01 13:00:00\", \"2018-07-01 14:30:00\"], \"y\": [5, 5], \"name\": \"\", \"marker\": {\"color\": \"white\"}}, {\"x\": [\"2018-07-01 14:00:00\", \"2018-07-01 15:30:00\"], \"y\": [6, 6], \"name\": \"\", \"marker\": {\"color\": \"white\"}}, {\"x\": [\"2018-07-01 16:00:00\", \"2018-07-01 16:30:00\"], \"y\": [7, 7], \"name\": \"\", \"marker\": {\"color\": \"white\"}}, {\"x\": [\"2018-07-01 17:30:00\", \"2018-07-01 19:00:00\"], \"y\": [8, 8], \"name\": \"\", \"marker\": {\"color\": \"white\"}}, {\"x\": [\"2018-07-01 20:00:00\", \"2018-07-01 20:30:00\"], \"y\": [9, 9], \"name\": \"\", \"marker\": {\"color\": \"white\"}}, {\"x\": [\"2018-07-01 20:30:00\", \"2018-07-01 22:00:00\"], \"y\": [10, 10], \"name\": \"\", \"marker\": {\"color\": \"white\"}}, {\"x\": [\"2018-07-01 21:00:00\", \"2018-07-01 22:00:00\"], \"y\": [11, 11], \"name\": \"\", \"marker\": {\"color\": \"white\"}}, {\"x\": [\"2018-07-01 21:00:00\", \"2018-07-01 21:00:00\"], \"y\": [0, 0], \"showlegend\": true, \"hoverinfo\": \"none\", \"name\": \"Eat\", \"marker\": {\"color\": \"rgb(114, 44, 121)\", \"size\": 1}}, {\"x\": [\"2018-07-01 21:00:00\", \"2018-07-01 21:00:00\"], \"y\": [1, 1], \"showlegend\": true, \"hoverinfo\": \"none\", \"name\": \"Homework\", \"marker\": {\"color\": \"rgb(198, 47, 105)\", \"size\": 1}}, {\"x\": [\"2018-07-01 21:00:00\", \"2018-07-01 21:00:00\"], \"y\": [2, 2], \"showlegend\": true, \"hoverinfo\": \"none\", \"name\": \"Music\", \"marker\": {\"color\": \"rgb(120, 247, 222)\", \"size\": 1}}, {\"x\": [\"2018-07-01 21:00:00\", \"2018-07-01 21:00:00\"], \"y\": [3, 3], \"showlegend\": true, \"hoverinfo\": \"none\", \"name\": \"Play\", \"marker\": {\"color\": \"rgb(189, 143, 215)\", \"size\": 1}}, {\"x\": [\"2018-07-01 21:00:00\", \"2018-07-01 21:00:00\"], \"y\": [4, 4], \"showlegend\": true, \"hoverinfo\": \"none\", \"name\": \"Rest\", \"marker\": {\"color\": \"rgb(46, 137, 205)\", \"size\": 1}}], {\"title\": \"Schedule for 1-July-2018\", \"showlegend\": true, \"height\": 600, \"width\": 900, \"shapes\": [{\"x0\": \"2018-07-01 0:00:00\", \"x1\": \"2018-07-01 7:00:00\", \"type\": \"rect\", \"xref\": \"x\", \"yref\": \"y\", \"opacity\": 1, \"line\": {\"width\": 0}, \"y0\": -0.5, \"y1\": 0.5, \"fillcolor\": \"rgb(46, 137, 205)\"}, {\"x0\": \"2018-07-01 7:30:00\", \"x1\": \"2018-07-01 8:00:00\", \"type\": \"rect\", \"xref\": \"x\", \"yref\": \"y\", \"opacity\": 1, \"line\": {\"width\": 0}, \"y0\": 0.5, \"y1\": 1.5, \"fillcolor\": \"rgb(114, 44, 121)\"}, {\"x0\": \"2018-07-01 8:00:00\", \"x1\": \"2018-07-01 12:00:00\", \"type\": \"rect\", \"xref\": \"x\", \"yref\": \"y\", \"opacity\": 1, \"line\": {\"width\": 0}, \"y0\": 1.5, \"y1\": 2.5, \"fillcolor\": \"rgb(120, 247, 222)\"}, {\"x0\": \"2018-07-01 9:00:00\", \"x1\": \"2018-07-01 12:00:00\", \"type\": \"rect\", \"xref\": \"x\", \"yref\": \"y\", \"opacity\": 1, \"line\": {\"width\": 0}, \"y0\": 2.5, \"y1\": 3.5, \"fillcolor\": \"rgb(198, 47, 105)\"}, {\"x0\": \"2018-07-01 12:00:00\", \"x1\": \"2018-07-01 13:00:00\", \"type\": \"rect\", \"xref\": \"x\", \"yref\": \"y\", \"opacity\": 1, \"line\": {\"width\": 0}, \"y0\": 3.5, \"y1\": 4.5, \"fillcolor\": \"rgb(114, 44, 121)\"}, {\"x0\": \"2018-07-01 13:00:00\", \"x1\": \"2018-07-01 14:30:00\", \"type\": \"rect\", \"xref\": \"x\", \"yref\": \"y\", \"opacity\": 1, \"line\": {\"width\": 0}, \"y0\": 4.5, \"y1\": 5.5, \"fillcolor\": \"rgb(198, 47, 105)\"}, {\"x0\": \"2018-07-01 14:00:00\", \"x1\": \"2018-07-01 15:30:00\", \"type\": \"rect\", \"xref\": \"x\", \"yref\": \"y\", \"opacity\": 1, \"line\": {\"width\": 0}, \"y0\": 5.5, \"y1\": 6.5, \"fillcolor\": \"rgb(120, 247, 222)\"}, {\"x0\": \"2018-07-01 16:00:00\", \"x1\": \"2018-07-01 16:30:00\", \"type\": \"rect\", \"xref\": \"x\", \"yref\": \"y\", \"opacity\": 1, \"line\": {\"width\": 0}, \"y0\": 6.5, \"y1\": 7.5, \"fillcolor\": \"rgb(46, 137, 205)\"}, {\"x0\": \"2018-07-01 17:30:00\", \"x1\": \"2018-07-01 19:00:00\", \"type\": \"rect\", \"xref\": \"x\", \"yref\": \"y\", \"opacity\": 1, \"line\": {\"width\": 0}, \"y0\": 7.5, \"y1\": 8.5, \"fillcolor\": \"rgb(189, 143, 215)\"}, {\"x0\": \"2018-07-01 20:00:00\", \"x1\": \"2018-07-01 20:30:00\", \"type\": \"rect\", \"xref\": \"x\", \"yref\": \"y\", \"opacity\": 1, \"line\": {\"width\": 0}, \"y0\": 8.5, \"y1\": 9.5, \"fillcolor\": \"rgb(114, 44, 121)\"}, {\"x0\": \"2018-07-01 20:30:00\", \"x1\": \"2018-07-01 22:00:00\", \"type\": \"rect\", \"xref\": \"x\", \"yref\": \"y\", \"opacity\": 1, \"line\": {\"width\": 0}, \"y0\": 9.5, \"y1\": 10.5, \"fillcolor\": \"rgb(120, 247, 222)\"}, {\"x0\": \"2018-07-01 21:00:00\", \"x1\": \"2018-07-01 22:00:00\", \"type\": \"rect\", \"xref\": \"x\", \"yref\": \"y\", \"opacity\": 1, \"line\": {\"width\": 0}, \"y0\": 10.5, \"y1\": 11.5, \"fillcolor\": \"rgb(198, 47, 105)\"}], \"hovermode\": \"closest\", \"yaxis\": {\"showgrid\": true, \"ticktext\": [\"Sleep\", \"Breakfast\", \"Music\", \"Math\", \"Lunch\", \"Physics\", \"Music\", \"Nap\", \"Tennis\", \"Dinner\", \"Music\", \"History\"], \"tickvals\": [0, 1, 2, 3, 4, 5, 6, 7, 8, 9, 10, 11], \"range\": [-1, 13], \"autorange\": false, \"zeroline\": false}, \"xaxis\": {\"showgrid\": true, \"zeroline\": false, \"rangeselector\": {\"buttons\": [{\"count\": 7, \"label\": \"1w\", \"step\": \"day\", \"stepmode\": \"backward\"}, {\"count\": 1, \"label\": \"1m\", \"step\": \"month\", \"stepmode\": \"backward\"}, {\"count\": 6, \"label\": \"6m\", \"step\": \"month\", \"stepmode\": \"backward\"}, {\"count\": 1, \"label\": \"YTD\", \"step\": \"year\", \"stepmode\": \"todate\"}, {\"count\": 1, \"label\": \"1y\", \"step\": \"year\", \"stepmode\": \"backward\"}, {\"step\": \"all\"}]}, \"type\": \"date\"}}, {\"showLink\": true, \"linkText\": \"Export to plot.ly\"})});</script>"
      ],
      "text/vnd.plotly.v1+html": [
       "<div id=\"85a7c7cc-5022-4717-ad41-1bb9ec70a9ee\" style=\"height: 600px; width: 900px;\" class=\"plotly-graph-div\"></div><script type=\"text/javascript\">require([\"plotly\"], function(Plotly) { window.PLOTLYENV=window.PLOTLYENV || {};window.PLOTLYENV.BASE_URL=\"https://plot.ly\";Plotly.newPlot(\"85a7c7cc-5022-4717-ad41-1bb9ec70a9ee\", [{\"x\": [\"2018-07-01 0:00:00\", \"2018-07-01 7:00:00\"], \"y\": [0, 0], \"name\": \"\", \"marker\": {\"color\": \"white\"}}, {\"x\": [\"2018-07-01 7:30:00\", \"2018-07-01 8:00:00\"], \"y\": [1, 1], \"name\": \"\", \"marker\": {\"color\": \"white\"}}, {\"x\": [\"2018-07-01 8:00:00\", \"2018-07-01 12:00:00\"], \"y\": [2, 2], \"name\": \"\", \"marker\": {\"color\": \"white\"}}, {\"x\": [\"2018-07-01 9:00:00\", \"2018-07-01 12:00:00\"], \"y\": [3, 3], \"name\": \"\", \"marker\": {\"color\": \"white\"}}, {\"x\": [\"2018-07-01 12:00:00\", \"2018-07-01 13:00:00\"], \"y\": [4, 4], \"name\": \"\", \"marker\": {\"color\": \"white\"}}, {\"x\": [\"2018-07-01 13:00:00\", \"2018-07-01 14:30:00\"], \"y\": [5, 5], \"name\": \"\", \"marker\": {\"color\": \"white\"}}, {\"x\": [\"2018-07-01 14:00:00\", \"2018-07-01 15:30:00\"], \"y\": [6, 6], \"name\": \"\", \"marker\": {\"color\": \"white\"}}, {\"x\": [\"2018-07-01 16:00:00\", \"2018-07-01 16:30:00\"], \"y\": [7, 7], \"name\": \"\", \"marker\": {\"color\": \"white\"}}, {\"x\": [\"2018-07-01 17:30:00\", \"2018-07-01 19:00:00\"], \"y\": [8, 8], \"name\": \"\", \"marker\": {\"color\": \"white\"}}, {\"x\": [\"2018-07-01 20:00:00\", \"2018-07-01 20:30:00\"], \"y\": [9, 9], \"name\": \"\", \"marker\": {\"color\": \"white\"}}, {\"x\": [\"2018-07-01 20:30:00\", \"2018-07-01 22:00:00\"], \"y\": [10, 10], \"name\": \"\", \"marker\": {\"color\": \"white\"}}, {\"x\": [\"2018-07-01 21:00:00\", \"2018-07-01 22:00:00\"], \"y\": [11, 11], \"name\": \"\", \"marker\": {\"color\": \"white\"}}, {\"x\": [\"2018-07-01 21:00:00\", \"2018-07-01 21:00:00\"], \"y\": [0, 0], \"showlegend\": true, \"hoverinfo\": \"none\", \"name\": \"Eat\", \"marker\": {\"color\": \"rgb(114, 44, 121)\", \"size\": 1}}, {\"x\": [\"2018-07-01 21:00:00\", \"2018-07-01 21:00:00\"], \"y\": [1, 1], \"showlegend\": true, \"hoverinfo\": \"none\", \"name\": \"Homework\", \"marker\": {\"color\": \"rgb(198, 47, 105)\", \"size\": 1}}, {\"x\": [\"2018-07-01 21:00:00\", \"2018-07-01 21:00:00\"], \"y\": [2, 2], \"showlegend\": true, \"hoverinfo\": \"none\", \"name\": \"Music\", \"marker\": {\"color\": \"rgb(120, 247, 222)\", \"size\": 1}}, {\"x\": [\"2018-07-01 21:00:00\", \"2018-07-01 21:00:00\"], \"y\": [3, 3], \"showlegend\": true, \"hoverinfo\": \"none\", \"name\": \"Play\", \"marker\": {\"color\": \"rgb(189, 143, 215)\", \"size\": 1}}, {\"x\": [\"2018-07-01 21:00:00\", \"2018-07-01 21:00:00\"], \"y\": [4, 4], \"showlegend\": true, \"hoverinfo\": \"none\", \"name\": \"Rest\", \"marker\": {\"color\": \"rgb(46, 137, 205)\", \"size\": 1}}], {\"title\": \"Schedule for 1-July-2018\", \"showlegend\": true, \"height\": 600, \"width\": 900, \"shapes\": [{\"x0\": \"2018-07-01 0:00:00\", \"x1\": \"2018-07-01 7:00:00\", \"type\": \"rect\", \"xref\": \"x\", \"yref\": \"y\", \"opacity\": 1, \"line\": {\"width\": 0}, \"y0\": -0.5, \"y1\": 0.5, \"fillcolor\": \"rgb(46, 137, 205)\"}, {\"x0\": \"2018-07-01 7:30:00\", \"x1\": \"2018-07-01 8:00:00\", \"type\": \"rect\", \"xref\": \"x\", \"yref\": \"y\", \"opacity\": 1, \"line\": {\"width\": 0}, \"y0\": 0.5, \"y1\": 1.5, \"fillcolor\": \"rgb(114, 44, 121)\"}, {\"x0\": \"2018-07-01 8:00:00\", \"x1\": \"2018-07-01 12:00:00\", \"type\": \"rect\", \"xref\": \"x\", \"yref\": \"y\", \"opacity\": 1, \"line\": {\"width\": 0}, \"y0\": 1.5, \"y1\": 2.5, \"fillcolor\": \"rgb(120, 247, 222)\"}, {\"x0\": \"2018-07-01 9:00:00\", \"x1\": \"2018-07-01 12:00:00\", \"type\": \"rect\", \"xref\": \"x\", \"yref\": \"y\", \"opacity\": 1, \"line\": {\"width\": 0}, \"y0\": 2.5, \"y1\": 3.5, \"fillcolor\": \"rgb(198, 47, 105)\"}, {\"x0\": \"2018-07-01 12:00:00\", \"x1\": \"2018-07-01 13:00:00\", \"type\": \"rect\", \"xref\": \"x\", \"yref\": \"y\", \"opacity\": 1, \"line\": {\"width\": 0}, \"y0\": 3.5, \"y1\": 4.5, \"fillcolor\": \"rgb(114, 44, 121)\"}, {\"x0\": \"2018-07-01 13:00:00\", \"x1\": \"2018-07-01 14:30:00\", \"type\": \"rect\", \"xref\": \"x\", \"yref\": \"y\", \"opacity\": 1, \"line\": {\"width\": 0}, \"y0\": 4.5, \"y1\": 5.5, \"fillcolor\": \"rgb(198, 47, 105)\"}, {\"x0\": \"2018-07-01 14:00:00\", \"x1\": \"2018-07-01 15:30:00\", \"type\": \"rect\", \"xref\": \"x\", \"yref\": \"y\", \"opacity\": 1, \"line\": {\"width\": 0}, \"y0\": 5.5, \"y1\": 6.5, \"fillcolor\": \"rgb(120, 247, 222)\"}, {\"x0\": \"2018-07-01 16:00:00\", \"x1\": \"2018-07-01 16:30:00\", \"type\": \"rect\", \"xref\": \"x\", \"yref\": \"y\", \"opacity\": 1, \"line\": {\"width\": 0}, \"y0\": 6.5, \"y1\": 7.5, \"fillcolor\": \"rgb(46, 137, 205)\"}, {\"x0\": \"2018-07-01 17:30:00\", \"x1\": \"2018-07-01 19:00:00\", \"type\": \"rect\", \"xref\": \"x\", \"yref\": \"y\", \"opacity\": 1, \"line\": {\"width\": 0}, \"y0\": 7.5, \"y1\": 8.5, \"fillcolor\": \"rgb(189, 143, 215)\"}, {\"x0\": \"2018-07-01 20:00:00\", \"x1\": \"2018-07-01 20:30:00\", \"type\": \"rect\", \"xref\": \"x\", \"yref\": \"y\", \"opacity\": 1, \"line\": {\"width\": 0}, \"y0\": 8.5, \"y1\": 9.5, \"fillcolor\": \"rgb(114, 44, 121)\"}, {\"x0\": \"2018-07-01 20:30:00\", \"x1\": \"2018-07-01 22:00:00\", \"type\": \"rect\", \"xref\": \"x\", \"yref\": \"y\", \"opacity\": 1, \"line\": {\"width\": 0}, \"y0\": 9.5, \"y1\": 10.5, \"fillcolor\": \"rgb(120, 247, 222)\"}, {\"x0\": \"2018-07-01 21:00:00\", \"x1\": \"2018-07-01 22:00:00\", \"type\": \"rect\", \"xref\": \"x\", \"yref\": \"y\", \"opacity\": 1, \"line\": {\"width\": 0}, \"y0\": 10.5, \"y1\": 11.5, \"fillcolor\": \"rgb(198, 47, 105)\"}], \"hovermode\": \"closest\", \"yaxis\": {\"showgrid\": true, \"ticktext\": [\"Sleep\", \"Breakfast\", \"Music\", \"Math\", \"Lunch\", \"Physics\", \"Music\", \"Nap\", \"Tennis\", \"Dinner\", \"Music\", \"History\"], \"tickvals\": [0, 1, 2, 3, 4, 5, 6, 7, 8, 9, 10, 11], \"range\": [-1, 13], \"autorange\": false, \"zeroline\": false}, \"xaxis\": {\"showgrid\": true, \"zeroline\": false, \"rangeselector\": {\"buttons\": [{\"count\": 7, \"label\": \"1w\", \"step\": \"day\", \"stepmode\": \"backward\"}, {\"count\": 1, \"label\": \"1m\", \"step\": \"month\", \"stepmode\": \"backward\"}, {\"count\": 6, \"label\": \"6m\", \"step\": \"month\", \"stepmode\": \"backward\"}, {\"count\": 1, \"label\": \"YTD\", \"step\": \"year\", \"stepmode\": \"todate\"}, {\"count\": 1, \"label\": \"1y\", \"step\": \"year\", \"stepmode\": \"backward\"}, {\"step\": \"all\"}]}, \"type\": \"date\"}}, {\"showLink\": true, \"linkText\": \"Export to plot.ly\"})});</script>"
      ]
     },
     "metadata": {},
     "output_type": "display_data"
    }
   ],
   "source": [
    "fig = ff.create_gantt(schedule,\n",
    "                      title='Schedule for 1-July-2018',\n",
    "                      \n",
    "                      colors=color_dict, \n",
    "                      index_col='Category',\n",
    "                      show_colorbar=True,\n",
    "                      \n",
    "                      bar_width=0.5,\n",
    "                      \n",
    "                      showgrid_x=True, \n",
    "                      showgrid_y=True)\n",
    "\n",
    "offline.iplot(fig)"
   ]
  },
  {
   "cell_type": "markdown",
   "metadata": {},
   "source": [
    "#### Alternatively, we use a color list\n",
    "Here, the ordering of colors will be mapped to the list of categories in alphabetical order."
   ]
  },
  {
   "cell_type": "code",
   "execution_count": 10,
   "metadata": {
    "collapsed": true
   },
   "outputs": [],
   "source": [
    "color_list = ['#BD8FD7', \n",
    "              '#78F7DE', \n",
    "              'rgb(198, 47, 105)', \n",
    "              'rgb(114, 44, 121)', \n",
    "              'rgb(46, 137, 205)']"
   ]
  },
  {
   "cell_type": "code",
   "execution_count": 11,
   "metadata": {},
   "outputs": [
    {
     "data": {
      "application/vnd.plotly.v1+json": {
       "data": [
        {
         "marker": {
          "color": "white"
         },
         "name": "",
         "x": [
          "2018-07-01 0:00:00",
          "2018-07-01 7:00:00"
         ],
         "y": [
          0,
          0
         ]
        },
        {
         "marker": {
          "color": "white"
         },
         "name": "",
         "x": [
          "2018-07-01 7:30:00",
          "2018-07-01 8:00:00"
         ],
         "y": [
          1,
          1
         ]
        },
        {
         "marker": {
          "color": "white"
         },
         "name": "",
         "x": [
          "2018-07-01 8:00:00",
          "2018-07-01 12:00:00"
         ],
         "y": [
          2,
          2
         ]
        },
        {
         "marker": {
          "color": "white"
         },
         "name": "",
         "x": [
          "2018-07-01 9:00:00",
          "2018-07-01 12:00:00"
         ],
         "y": [
          3,
          3
         ]
        },
        {
         "marker": {
          "color": "white"
         },
         "name": "",
         "x": [
          "2018-07-01 12:00:00",
          "2018-07-01 13:00:00"
         ],
         "y": [
          4,
          4
         ]
        },
        {
         "marker": {
          "color": "white"
         },
         "name": "",
         "x": [
          "2018-07-01 13:00:00",
          "2018-07-01 14:30:00"
         ],
         "y": [
          5,
          5
         ]
        },
        {
         "marker": {
          "color": "white"
         },
         "name": "",
         "x": [
          "2018-07-01 14:00:00",
          "2018-07-01 15:30:00"
         ],
         "y": [
          6,
          6
         ]
        },
        {
         "marker": {
          "color": "white"
         },
         "name": "",
         "x": [
          "2018-07-01 16:00:00",
          "2018-07-01 16:30:00"
         ],
         "y": [
          7,
          7
         ]
        },
        {
         "marker": {
          "color": "white"
         },
         "name": "",
         "x": [
          "2018-07-01 17:30:00",
          "2018-07-01 19:00:00"
         ],
         "y": [
          8,
          8
         ]
        },
        {
         "marker": {
          "color": "white"
         },
         "name": "",
         "x": [
          "2018-07-01 20:00:00",
          "2018-07-01 20:30:00"
         ],
         "y": [
          9,
          9
         ]
        },
        {
         "marker": {
          "color": "white"
         },
         "name": "",
         "x": [
          "2018-07-01 20:30:00",
          "2018-07-01 22:00:00"
         ],
         "y": [
          10,
          10
         ]
        },
        {
         "marker": {
          "color": "white"
         },
         "name": "",
         "x": [
          "2018-07-01 21:00:00",
          "2018-07-01 22:00:00"
         ],
         "y": [
          11,
          11
         ]
        },
        {
         "hoverinfo": "none",
         "marker": {
          "color": "rgb(189, 143, 215)",
          "size": 1
         },
         "name": "Eat",
         "showlegend": true,
         "x": [
          "2018-07-01 21:00:00",
          "2018-07-01 21:00:00"
         ],
         "y": [
          0,
          0
         ]
        },
        {
         "hoverinfo": "none",
         "marker": {
          "color": "rgb(120, 247, 222)",
          "size": 1
         },
         "name": "Homework",
         "showlegend": true,
         "x": [
          "2018-07-01 21:00:00",
          "2018-07-01 21:00:00"
         ],
         "y": [
          1,
          1
         ]
        },
        {
         "hoverinfo": "none",
         "marker": {
          "color": "rgb(198, 47, 105)",
          "size": 1
         },
         "name": "Music",
         "showlegend": true,
         "x": [
          "2018-07-01 21:00:00",
          "2018-07-01 21:00:00"
         ],
         "y": [
          2,
          2
         ]
        },
        {
         "hoverinfo": "none",
         "marker": {
          "color": "rgb(114, 44, 121)",
          "size": 1
         },
         "name": "Play",
         "showlegend": true,
         "x": [
          "2018-07-01 21:00:00",
          "2018-07-01 21:00:00"
         ],
         "y": [
          3,
          3
         ]
        },
        {
         "hoverinfo": "none",
         "marker": {
          "color": "rgb(46, 137, 205)",
          "size": 1
         },
         "name": "Rest",
         "showlegend": true,
         "x": [
          "2018-07-01 21:00:00",
          "2018-07-01 21:00:00"
         ],
         "y": [
          4,
          4
         ]
        }
       ],
       "layout": {
        "height": 600,
        "hovermode": "closest",
        "shapes": [
         {
          "fillcolor": "rgb(46, 137, 205)",
          "line": {
           "width": 0
          },
          "opacity": 1,
          "type": "rect",
          "x0": "2018-07-01 0:00:00",
          "x1": "2018-07-01 7:00:00",
          "xref": "x",
          "y0": -0.5,
          "y1": 0.5,
          "yref": "y"
         },
         {
          "fillcolor": "rgb(189, 143, 215)",
          "line": {
           "width": 0
          },
          "opacity": 1,
          "type": "rect",
          "x0": "2018-07-01 7:30:00",
          "x1": "2018-07-01 8:00:00",
          "xref": "x",
          "y0": 0.5,
          "y1": 1.5,
          "yref": "y"
         },
         {
          "fillcolor": "rgb(198, 47, 105)",
          "line": {
           "width": 0
          },
          "opacity": 1,
          "type": "rect",
          "x0": "2018-07-01 8:00:00",
          "x1": "2018-07-01 12:00:00",
          "xref": "x",
          "y0": 1.5,
          "y1": 2.5,
          "yref": "y"
         },
         {
          "fillcolor": "rgb(120, 247, 222)",
          "line": {
           "width": 0
          },
          "opacity": 1,
          "type": "rect",
          "x0": "2018-07-01 9:00:00",
          "x1": "2018-07-01 12:00:00",
          "xref": "x",
          "y0": 2.5,
          "y1": 3.5,
          "yref": "y"
         },
         {
          "fillcolor": "rgb(189, 143, 215)",
          "line": {
           "width": 0
          },
          "opacity": 1,
          "type": "rect",
          "x0": "2018-07-01 12:00:00",
          "x1": "2018-07-01 13:00:00",
          "xref": "x",
          "y0": 3.5,
          "y1": 4.5,
          "yref": "y"
         },
         {
          "fillcolor": "rgb(120, 247, 222)",
          "line": {
           "width": 0
          },
          "opacity": 1,
          "type": "rect",
          "x0": "2018-07-01 13:00:00",
          "x1": "2018-07-01 14:30:00",
          "xref": "x",
          "y0": 4.5,
          "y1": 5.5,
          "yref": "y"
         },
         {
          "fillcolor": "rgb(198, 47, 105)",
          "line": {
           "width": 0
          },
          "opacity": 1,
          "type": "rect",
          "x0": "2018-07-01 14:00:00",
          "x1": "2018-07-01 15:30:00",
          "xref": "x",
          "y0": 5.5,
          "y1": 6.5,
          "yref": "y"
         },
         {
          "fillcolor": "rgb(46, 137, 205)",
          "line": {
           "width": 0
          },
          "opacity": 1,
          "type": "rect",
          "x0": "2018-07-01 16:00:00",
          "x1": "2018-07-01 16:30:00",
          "xref": "x",
          "y0": 6.5,
          "y1": 7.5,
          "yref": "y"
         },
         {
          "fillcolor": "rgb(114, 44, 121)",
          "line": {
           "width": 0
          },
          "opacity": 1,
          "type": "rect",
          "x0": "2018-07-01 17:30:00",
          "x1": "2018-07-01 19:00:00",
          "xref": "x",
          "y0": 7.5,
          "y1": 8.5,
          "yref": "y"
         },
         {
          "fillcolor": "rgb(189, 143, 215)",
          "line": {
           "width": 0
          },
          "opacity": 1,
          "type": "rect",
          "x0": "2018-07-01 20:00:00",
          "x1": "2018-07-01 20:30:00",
          "xref": "x",
          "y0": 8.5,
          "y1": 9.5,
          "yref": "y"
         },
         {
          "fillcolor": "rgb(198, 47, 105)",
          "line": {
           "width": 0
          },
          "opacity": 1,
          "type": "rect",
          "x0": "2018-07-01 20:30:00",
          "x1": "2018-07-01 22:00:00",
          "xref": "x",
          "y0": 9.5,
          "y1": 10.5,
          "yref": "y"
         },
         {
          "fillcolor": "rgb(120, 247, 222)",
          "line": {
           "width": 0
          },
          "opacity": 1,
          "type": "rect",
          "x0": "2018-07-01 21:00:00",
          "x1": "2018-07-01 22:00:00",
          "xref": "x",
          "y0": 10.5,
          "y1": 11.5,
          "yref": "y"
         }
        ],
        "showlegend": true,
        "title": "Schedule for 1-July-2018",
        "width": 900,
        "xaxis": {
         "rangeselector": {
          "buttons": [
           {
            "count": 7,
            "label": "1w",
            "step": "day",
            "stepmode": "backward"
           },
           {
            "count": 1,
            "label": "1m",
            "step": "month",
            "stepmode": "backward"
           },
           {
            "count": 6,
            "label": "6m",
            "step": "month",
            "stepmode": "backward"
           },
           {
            "count": 1,
            "label": "YTD",
            "step": "year",
            "stepmode": "todate"
           },
           {
            "count": 1,
            "label": "1y",
            "step": "year",
            "stepmode": "backward"
           },
           {
            "step": "all"
           }
          ]
         },
         "showgrid": true,
         "type": "date",
         "zeroline": false
        },
        "yaxis": {
         "autorange": false,
         "range": [
          -1,
          13
         ],
         "showgrid": true,
         "ticktext": [
          "Sleep",
          "Breakfast",
          "Music",
          "Math",
          "Lunch",
          "Physics",
          "Music",
          "Nap",
          "Tennis",
          "Dinner",
          "Music",
          "History"
         ],
         "tickvals": [
          0,
          1,
          2,
          3,
          4,
          5,
          6,
          7,
          8,
          9,
          10,
          11
         ],
         "zeroline": false
        }
       }
      },
      "text/html": [
       "<div id=\"3dc1532f-fd9d-42a9-8499-443a66caed6c\" style=\"height: 600px; width: 900px;\" class=\"plotly-graph-div\"></div><script type=\"text/javascript\">require([\"plotly\"], function(Plotly) { window.PLOTLYENV=window.PLOTLYENV || {};window.PLOTLYENV.BASE_URL=\"https://plot.ly\";Plotly.newPlot(\"3dc1532f-fd9d-42a9-8499-443a66caed6c\", [{\"x\": [\"2018-07-01 0:00:00\", \"2018-07-01 7:00:00\"], \"y\": [0, 0], \"name\": \"\", \"marker\": {\"color\": \"white\"}}, {\"x\": [\"2018-07-01 7:30:00\", \"2018-07-01 8:00:00\"], \"y\": [1, 1], \"name\": \"\", \"marker\": {\"color\": \"white\"}}, {\"x\": [\"2018-07-01 8:00:00\", \"2018-07-01 12:00:00\"], \"y\": [2, 2], \"name\": \"\", \"marker\": {\"color\": \"white\"}}, {\"x\": [\"2018-07-01 9:00:00\", \"2018-07-01 12:00:00\"], \"y\": [3, 3], \"name\": \"\", \"marker\": {\"color\": \"white\"}}, {\"x\": [\"2018-07-01 12:00:00\", \"2018-07-01 13:00:00\"], \"y\": [4, 4], \"name\": \"\", \"marker\": {\"color\": \"white\"}}, {\"x\": [\"2018-07-01 13:00:00\", \"2018-07-01 14:30:00\"], \"y\": [5, 5], \"name\": \"\", \"marker\": {\"color\": \"white\"}}, {\"x\": [\"2018-07-01 14:00:00\", \"2018-07-01 15:30:00\"], \"y\": [6, 6], \"name\": \"\", \"marker\": {\"color\": \"white\"}}, {\"x\": [\"2018-07-01 16:00:00\", \"2018-07-01 16:30:00\"], \"y\": [7, 7], \"name\": \"\", \"marker\": {\"color\": \"white\"}}, {\"x\": [\"2018-07-01 17:30:00\", \"2018-07-01 19:00:00\"], \"y\": [8, 8], \"name\": \"\", \"marker\": {\"color\": \"white\"}}, {\"x\": [\"2018-07-01 20:00:00\", \"2018-07-01 20:30:00\"], \"y\": [9, 9], \"name\": \"\", \"marker\": {\"color\": \"white\"}}, {\"x\": [\"2018-07-01 20:30:00\", \"2018-07-01 22:00:00\"], \"y\": [10, 10], \"name\": \"\", \"marker\": {\"color\": \"white\"}}, {\"x\": [\"2018-07-01 21:00:00\", \"2018-07-01 22:00:00\"], \"y\": [11, 11], \"name\": \"\", \"marker\": {\"color\": \"white\"}}, {\"x\": [\"2018-07-01 21:00:00\", \"2018-07-01 21:00:00\"], \"y\": [0, 0], \"showlegend\": true, \"name\": \"Eat\", \"hoverinfo\": \"none\", \"marker\": {\"color\": \"rgb(189, 143, 215)\", \"size\": 1}}, {\"x\": [\"2018-07-01 21:00:00\", \"2018-07-01 21:00:00\"], \"y\": [1, 1], \"showlegend\": true, \"name\": \"Homework\", \"hoverinfo\": \"none\", \"marker\": {\"color\": \"rgb(120, 247, 222)\", \"size\": 1}}, {\"x\": [\"2018-07-01 21:00:00\", \"2018-07-01 21:00:00\"], \"y\": [2, 2], \"showlegend\": true, \"name\": \"Music\", \"hoverinfo\": \"none\", \"marker\": {\"color\": \"rgb(198, 47, 105)\", \"size\": 1}}, {\"x\": [\"2018-07-01 21:00:00\", \"2018-07-01 21:00:00\"], \"y\": [3, 3], \"showlegend\": true, \"name\": \"Play\", \"hoverinfo\": \"none\", \"marker\": {\"color\": \"rgb(114, 44, 121)\", \"size\": 1}}, {\"x\": [\"2018-07-01 21:00:00\", \"2018-07-01 21:00:00\"], \"y\": [4, 4], \"showlegend\": true, \"name\": \"Rest\", \"hoverinfo\": \"none\", \"marker\": {\"color\": \"rgb(46, 137, 205)\", \"size\": 1}}], {\"title\": \"Schedule for 1-July-2018\", \"showlegend\": true, \"height\": 600, \"width\": 900, \"shapes\": [{\"x0\": \"2018-07-01 0:00:00\", \"x1\": \"2018-07-01 7:00:00\", \"type\": \"rect\", \"xref\": \"x\", \"yref\": \"y\", \"opacity\": 1, \"line\": {\"width\": 0}, \"y0\": -0.5, \"y1\": 0.5, \"fillcolor\": \"rgb(46, 137, 205)\"}, {\"x0\": \"2018-07-01 7:30:00\", \"x1\": \"2018-07-01 8:00:00\", \"type\": \"rect\", \"xref\": \"x\", \"yref\": \"y\", \"opacity\": 1, \"line\": {\"width\": 0}, \"y0\": 0.5, \"y1\": 1.5, \"fillcolor\": \"rgb(189, 143, 215)\"}, {\"x0\": \"2018-07-01 8:00:00\", \"x1\": \"2018-07-01 12:00:00\", \"type\": \"rect\", \"xref\": \"x\", \"yref\": \"y\", \"opacity\": 1, \"line\": {\"width\": 0}, \"y0\": 1.5, \"y1\": 2.5, \"fillcolor\": \"rgb(198, 47, 105)\"}, {\"x0\": \"2018-07-01 9:00:00\", \"x1\": \"2018-07-01 12:00:00\", \"type\": \"rect\", \"xref\": \"x\", \"yref\": \"y\", \"opacity\": 1, \"line\": {\"width\": 0}, \"y0\": 2.5, \"y1\": 3.5, \"fillcolor\": \"rgb(120, 247, 222)\"}, {\"x0\": \"2018-07-01 12:00:00\", \"x1\": \"2018-07-01 13:00:00\", \"type\": \"rect\", \"xref\": \"x\", \"yref\": \"y\", \"opacity\": 1, \"line\": {\"width\": 0}, \"y0\": 3.5, \"y1\": 4.5, \"fillcolor\": \"rgb(189, 143, 215)\"}, {\"x0\": \"2018-07-01 13:00:00\", \"x1\": \"2018-07-01 14:30:00\", \"type\": \"rect\", \"xref\": \"x\", \"yref\": \"y\", \"opacity\": 1, \"line\": {\"width\": 0}, \"y0\": 4.5, \"y1\": 5.5, \"fillcolor\": \"rgb(120, 247, 222)\"}, {\"x0\": \"2018-07-01 14:00:00\", \"x1\": \"2018-07-01 15:30:00\", \"type\": \"rect\", \"xref\": \"x\", \"yref\": \"y\", \"opacity\": 1, \"line\": {\"width\": 0}, \"y0\": 5.5, \"y1\": 6.5, \"fillcolor\": \"rgb(198, 47, 105)\"}, {\"x0\": \"2018-07-01 16:00:00\", \"x1\": \"2018-07-01 16:30:00\", \"type\": \"rect\", \"xref\": \"x\", \"yref\": \"y\", \"opacity\": 1, \"line\": {\"width\": 0}, \"y0\": 6.5, \"y1\": 7.5, \"fillcolor\": \"rgb(46, 137, 205)\"}, {\"x0\": \"2018-07-01 17:30:00\", \"x1\": \"2018-07-01 19:00:00\", \"type\": \"rect\", \"xref\": \"x\", \"yref\": \"y\", \"opacity\": 1, \"line\": {\"width\": 0}, \"y0\": 7.5, \"y1\": 8.5, \"fillcolor\": \"rgb(114, 44, 121)\"}, {\"x0\": \"2018-07-01 20:00:00\", \"x1\": \"2018-07-01 20:30:00\", \"type\": \"rect\", \"xref\": \"x\", \"yref\": \"y\", \"opacity\": 1, \"line\": {\"width\": 0}, \"y0\": 8.5, \"y1\": 9.5, \"fillcolor\": \"rgb(189, 143, 215)\"}, {\"x0\": \"2018-07-01 20:30:00\", \"x1\": \"2018-07-01 22:00:00\", \"type\": \"rect\", \"xref\": \"x\", \"yref\": \"y\", \"opacity\": 1, \"line\": {\"width\": 0}, \"y0\": 9.5, \"y1\": 10.5, \"fillcolor\": \"rgb(198, 47, 105)\"}, {\"x0\": \"2018-07-01 21:00:00\", \"x1\": \"2018-07-01 22:00:00\", \"type\": \"rect\", \"xref\": \"x\", \"yref\": \"y\", \"opacity\": 1, \"line\": {\"width\": 0}, \"y0\": 10.5, \"y1\": 11.5, \"fillcolor\": \"rgb(120, 247, 222)\"}], \"hovermode\": \"closest\", \"yaxis\": {\"showgrid\": true, \"ticktext\": [\"Sleep\", \"Breakfast\", \"Music\", \"Math\", \"Lunch\", \"Physics\", \"Music\", \"Nap\", \"Tennis\", \"Dinner\", \"Music\", \"History\"], \"tickvals\": [0, 1, 2, 3, 4, 5, 6, 7, 8, 9, 10, 11], \"range\": [-1, 13], \"autorange\": false, \"zeroline\": false}, \"xaxis\": {\"showgrid\": true, \"zeroline\": false, \"rangeselector\": {\"buttons\": [{\"count\": 7, \"label\": \"1w\", \"step\": \"day\", \"stepmode\": \"backward\"}, {\"count\": 1, \"label\": \"1m\", \"step\": \"month\", \"stepmode\": \"backward\"}, {\"count\": 6, \"label\": \"6m\", \"step\": \"month\", \"stepmode\": \"backward\"}, {\"count\": 1, \"label\": \"YTD\", \"step\": \"year\", \"stepmode\": \"todate\"}, {\"count\": 1, \"label\": \"1y\", \"step\": \"year\", \"stepmode\": \"backward\"}, {\"step\": \"all\"}]}, \"type\": \"date\"}}, {\"showLink\": true, \"linkText\": \"Export to plot.ly\"})});</script>"
      ],
      "text/vnd.plotly.v1+html": [
       "<div id=\"3dc1532f-fd9d-42a9-8499-443a66caed6c\" style=\"height: 600px; width: 900px;\" class=\"plotly-graph-div\"></div><script type=\"text/javascript\">require([\"plotly\"], function(Plotly) { window.PLOTLYENV=window.PLOTLYENV || {};window.PLOTLYENV.BASE_URL=\"https://plot.ly\";Plotly.newPlot(\"3dc1532f-fd9d-42a9-8499-443a66caed6c\", [{\"x\": [\"2018-07-01 0:00:00\", \"2018-07-01 7:00:00\"], \"y\": [0, 0], \"name\": \"\", \"marker\": {\"color\": \"white\"}}, {\"x\": [\"2018-07-01 7:30:00\", \"2018-07-01 8:00:00\"], \"y\": [1, 1], \"name\": \"\", \"marker\": {\"color\": \"white\"}}, {\"x\": [\"2018-07-01 8:00:00\", \"2018-07-01 12:00:00\"], \"y\": [2, 2], \"name\": \"\", \"marker\": {\"color\": \"white\"}}, {\"x\": [\"2018-07-01 9:00:00\", \"2018-07-01 12:00:00\"], \"y\": [3, 3], \"name\": \"\", \"marker\": {\"color\": \"white\"}}, {\"x\": [\"2018-07-01 12:00:00\", \"2018-07-01 13:00:00\"], \"y\": [4, 4], \"name\": \"\", \"marker\": {\"color\": \"white\"}}, {\"x\": [\"2018-07-01 13:00:00\", \"2018-07-01 14:30:00\"], \"y\": [5, 5], \"name\": \"\", \"marker\": {\"color\": \"white\"}}, {\"x\": [\"2018-07-01 14:00:00\", \"2018-07-01 15:30:00\"], \"y\": [6, 6], \"name\": \"\", \"marker\": {\"color\": \"white\"}}, {\"x\": [\"2018-07-01 16:00:00\", \"2018-07-01 16:30:00\"], \"y\": [7, 7], \"name\": \"\", \"marker\": {\"color\": \"white\"}}, {\"x\": [\"2018-07-01 17:30:00\", \"2018-07-01 19:00:00\"], \"y\": [8, 8], \"name\": \"\", \"marker\": {\"color\": \"white\"}}, {\"x\": [\"2018-07-01 20:00:00\", \"2018-07-01 20:30:00\"], \"y\": [9, 9], \"name\": \"\", \"marker\": {\"color\": \"white\"}}, {\"x\": [\"2018-07-01 20:30:00\", \"2018-07-01 22:00:00\"], \"y\": [10, 10], \"name\": \"\", \"marker\": {\"color\": \"white\"}}, {\"x\": [\"2018-07-01 21:00:00\", \"2018-07-01 22:00:00\"], \"y\": [11, 11], \"name\": \"\", \"marker\": {\"color\": \"white\"}}, {\"x\": [\"2018-07-01 21:00:00\", \"2018-07-01 21:00:00\"], \"y\": [0, 0], \"showlegend\": true, \"name\": \"Eat\", \"hoverinfo\": \"none\", \"marker\": {\"color\": \"rgb(189, 143, 215)\", \"size\": 1}}, {\"x\": [\"2018-07-01 21:00:00\", \"2018-07-01 21:00:00\"], \"y\": [1, 1], \"showlegend\": true, \"name\": \"Homework\", \"hoverinfo\": \"none\", \"marker\": {\"color\": \"rgb(120, 247, 222)\", \"size\": 1}}, {\"x\": [\"2018-07-01 21:00:00\", \"2018-07-01 21:00:00\"], \"y\": [2, 2], \"showlegend\": true, \"name\": \"Music\", \"hoverinfo\": \"none\", \"marker\": {\"color\": \"rgb(198, 47, 105)\", \"size\": 1}}, {\"x\": [\"2018-07-01 21:00:00\", \"2018-07-01 21:00:00\"], \"y\": [3, 3], \"showlegend\": true, \"name\": \"Play\", \"hoverinfo\": \"none\", \"marker\": {\"color\": \"rgb(114, 44, 121)\", \"size\": 1}}, {\"x\": [\"2018-07-01 21:00:00\", \"2018-07-01 21:00:00\"], \"y\": [4, 4], \"showlegend\": true, \"name\": \"Rest\", \"hoverinfo\": \"none\", \"marker\": {\"color\": \"rgb(46, 137, 205)\", \"size\": 1}}], {\"title\": \"Schedule for 1-July-2018\", \"showlegend\": true, \"height\": 600, \"width\": 900, \"shapes\": [{\"x0\": \"2018-07-01 0:00:00\", \"x1\": \"2018-07-01 7:00:00\", \"type\": \"rect\", \"xref\": \"x\", \"yref\": \"y\", \"opacity\": 1, \"line\": {\"width\": 0}, \"y0\": -0.5, \"y1\": 0.5, \"fillcolor\": \"rgb(46, 137, 205)\"}, {\"x0\": \"2018-07-01 7:30:00\", \"x1\": \"2018-07-01 8:00:00\", \"type\": \"rect\", \"xref\": \"x\", \"yref\": \"y\", \"opacity\": 1, \"line\": {\"width\": 0}, \"y0\": 0.5, \"y1\": 1.5, \"fillcolor\": \"rgb(189, 143, 215)\"}, {\"x0\": \"2018-07-01 8:00:00\", \"x1\": \"2018-07-01 12:00:00\", \"type\": \"rect\", \"xref\": \"x\", \"yref\": \"y\", \"opacity\": 1, \"line\": {\"width\": 0}, \"y0\": 1.5, \"y1\": 2.5, \"fillcolor\": \"rgb(198, 47, 105)\"}, {\"x0\": \"2018-07-01 9:00:00\", \"x1\": \"2018-07-01 12:00:00\", \"type\": \"rect\", \"xref\": \"x\", \"yref\": \"y\", \"opacity\": 1, \"line\": {\"width\": 0}, \"y0\": 2.5, \"y1\": 3.5, \"fillcolor\": \"rgb(120, 247, 222)\"}, {\"x0\": \"2018-07-01 12:00:00\", \"x1\": \"2018-07-01 13:00:00\", \"type\": \"rect\", \"xref\": \"x\", \"yref\": \"y\", \"opacity\": 1, \"line\": {\"width\": 0}, \"y0\": 3.5, \"y1\": 4.5, \"fillcolor\": \"rgb(189, 143, 215)\"}, {\"x0\": \"2018-07-01 13:00:00\", \"x1\": \"2018-07-01 14:30:00\", \"type\": \"rect\", \"xref\": \"x\", \"yref\": \"y\", \"opacity\": 1, \"line\": {\"width\": 0}, \"y0\": 4.5, \"y1\": 5.5, \"fillcolor\": \"rgb(120, 247, 222)\"}, {\"x0\": \"2018-07-01 14:00:00\", \"x1\": \"2018-07-01 15:30:00\", \"type\": \"rect\", \"xref\": \"x\", \"yref\": \"y\", \"opacity\": 1, \"line\": {\"width\": 0}, \"y0\": 5.5, \"y1\": 6.5, \"fillcolor\": \"rgb(198, 47, 105)\"}, {\"x0\": \"2018-07-01 16:00:00\", \"x1\": \"2018-07-01 16:30:00\", \"type\": \"rect\", \"xref\": \"x\", \"yref\": \"y\", \"opacity\": 1, \"line\": {\"width\": 0}, \"y0\": 6.5, \"y1\": 7.5, \"fillcolor\": \"rgb(46, 137, 205)\"}, {\"x0\": \"2018-07-01 17:30:00\", \"x1\": \"2018-07-01 19:00:00\", \"type\": \"rect\", \"xref\": \"x\", \"yref\": \"y\", \"opacity\": 1, \"line\": {\"width\": 0}, \"y0\": 7.5, \"y1\": 8.5, \"fillcolor\": \"rgb(114, 44, 121)\"}, {\"x0\": \"2018-07-01 20:00:00\", \"x1\": \"2018-07-01 20:30:00\", \"type\": \"rect\", \"xref\": \"x\", \"yref\": \"y\", \"opacity\": 1, \"line\": {\"width\": 0}, \"y0\": 8.5, \"y1\": 9.5, \"fillcolor\": \"rgb(189, 143, 215)\"}, {\"x0\": \"2018-07-01 20:30:00\", \"x1\": \"2018-07-01 22:00:00\", \"type\": \"rect\", \"xref\": \"x\", \"yref\": \"y\", \"opacity\": 1, \"line\": {\"width\": 0}, \"y0\": 9.5, \"y1\": 10.5, \"fillcolor\": \"rgb(198, 47, 105)\"}, {\"x0\": \"2018-07-01 21:00:00\", \"x1\": \"2018-07-01 22:00:00\", \"type\": \"rect\", \"xref\": \"x\", \"yref\": \"y\", \"opacity\": 1, \"line\": {\"width\": 0}, \"y0\": 10.5, \"y1\": 11.5, \"fillcolor\": \"rgb(120, 247, 222)\"}], \"hovermode\": \"closest\", \"yaxis\": {\"showgrid\": true, \"ticktext\": [\"Sleep\", \"Breakfast\", \"Music\", \"Math\", \"Lunch\", \"Physics\", \"Music\", \"Nap\", \"Tennis\", \"Dinner\", \"Music\", \"History\"], \"tickvals\": [0, 1, 2, 3, 4, 5, 6, 7, 8, 9, 10, 11], \"range\": [-1, 13], \"autorange\": false, \"zeroline\": false}, \"xaxis\": {\"showgrid\": true, \"zeroline\": false, \"rangeselector\": {\"buttons\": [{\"count\": 7, \"label\": \"1w\", \"step\": \"day\", \"stepmode\": \"backward\"}, {\"count\": 1, \"label\": \"1m\", \"step\": \"month\", \"stepmode\": \"backward\"}, {\"count\": 6, \"label\": \"6m\", \"step\": \"month\", \"stepmode\": \"backward\"}, {\"count\": 1, \"label\": \"YTD\", \"step\": \"year\", \"stepmode\": \"todate\"}, {\"count\": 1, \"label\": \"1y\", \"step\": \"year\", \"stepmode\": \"backward\"}, {\"step\": \"all\"}]}, \"type\": \"date\"}}, {\"showLink\": true, \"linkText\": \"Export to plot.ly\"})});</script>"
      ]
     },
     "metadata": {},
     "output_type": "display_data"
    }
   ],
   "source": [
    "fig = ff.create_gantt(schedule,\n",
    "                      title='Schedule for 1-July-2018',\n",
    "                      \n",
    "                      colors=color_list, \n",
    "                      index_col='Category',\n",
    "                      show_colorbar=True,\n",
    "                      \n",
    "                      bar_width=0.5, \n",
    "                      showgrid_x=True, \n",
    "                      showgrid_y=True)\n",
    "\n",
    "offline.iplot(fig)"
   ]
  },
  {
   "cell_type": "markdown",
   "metadata": {},
   "source": [
    "#### Grouping tasks\n",
    "In our schedule, there are 3 occurences of Music which have so far appeared as separate tasks. We use the group_tasks attribute so that they all appear in the same row on our plot."
   ]
  },
  {
   "cell_type": "code",
   "execution_count": 12,
   "metadata": {},
   "outputs": [
    {
     "data": {
      "application/vnd.plotly.v1+json": {
       "data": [
        {
         "marker": {
          "color": "white"
         },
         "name": "",
         "x": [
          "2018-07-01 0:00:00",
          "2018-07-01 7:00:00"
         ],
         "y": [
          9,
          9
         ]
        },
        {
         "marker": {
          "color": "white"
         },
         "name": "",
         "x": [
          "2018-07-01 7:30:00",
          "2018-07-01 8:00:00"
         ],
         "y": [
          8,
          8
         ]
        },
        {
         "marker": {
          "color": "white"
         },
         "name": "",
         "x": [
          "2018-07-01 8:00:00",
          "2018-07-01 12:00:00"
         ],
         "y": [
          7,
          7
         ]
        },
        {
         "marker": {
          "color": "white"
         },
         "name": "",
         "x": [
          "2018-07-01 9:00:00",
          "2018-07-01 12:00:00"
         ],
         "y": [
          6,
          6
         ]
        },
        {
         "marker": {
          "color": "white"
         },
         "name": "",
         "x": [
          "2018-07-01 12:00:00",
          "2018-07-01 13:00:00"
         ],
         "y": [
          5,
          5
         ]
        },
        {
         "marker": {
          "color": "white"
         },
         "name": "",
         "x": [
          "2018-07-01 13:00:00",
          "2018-07-01 14:30:00"
         ],
         "y": [
          4,
          4
         ]
        },
        {
         "marker": {
          "color": "white"
         },
         "name": "",
         "x": [
          "2018-07-01 14:00:00",
          "2018-07-01 15:30:00"
         ],
         "y": [
          7,
          7
         ]
        },
        {
         "marker": {
          "color": "white"
         },
         "name": "",
         "x": [
          "2018-07-01 16:00:00",
          "2018-07-01 16:30:00"
         ],
         "y": [
          3,
          3
         ]
        },
        {
         "marker": {
          "color": "white"
         },
         "name": "",
         "x": [
          "2018-07-01 17:30:00",
          "2018-07-01 19:00:00"
         ],
         "y": [
          2,
          2
         ]
        },
        {
         "marker": {
          "color": "white"
         },
         "name": "",
         "x": [
          "2018-07-01 20:00:00",
          "2018-07-01 20:30:00"
         ],
         "y": [
          1,
          1
         ]
        },
        {
         "marker": {
          "color": "white"
         },
         "name": "",
         "x": [
          "2018-07-01 20:30:00",
          "2018-07-01 22:00:00"
         ],
         "y": [
          7,
          7
         ]
        },
        {
         "marker": {
          "color": "white"
         },
         "name": "",
         "x": [
          "2018-07-01 21:00:00",
          "2018-07-01 22:00:00"
         ],
         "y": [
          0,
          0
         ]
        },
        {
         "hoverinfo": "none",
         "marker": {
          "color": "rgb(189, 143, 215)",
          "size": 1
         },
         "name": "Eat",
         "showlegend": true,
         "x": [
          "2018-07-01 21:00:00",
          "2018-07-01 21:00:00"
         ],
         "y": [
          0,
          0
         ]
        },
        {
         "hoverinfo": "none",
         "marker": {
          "color": "rgb(120, 247, 222)",
          "size": 1
         },
         "name": "Homework",
         "showlegend": true,
         "x": [
          "2018-07-01 21:00:00",
          "2018-07-01 21:00:00"
         ],
         "y": [
          1,
          1
         ]
        },
        {
         "hoverinfo": "none",
         "marker": {
          "color": "rgb(198, 47, 105)",
          "size": 1
         },
         "name": "Music",
         "showlegend": true,
         "x": [
          "2018-07-01 21:00:00",
          "2018-07-01 21:00:00"
         ],
         "y": [
          2,
          2
         ]
        },
        {
         "hoverinfo": "none",
         "marker": {
          "color": "rgb(114, 44, 121)",
          "size": 1
         },
         "name": "Play",
         "showlegend": true,
         "x": [
          "2018-07-01 21:00:00",
          "2018-07-01 21:00:00"
         ],
         "y": [
          3,
          3
         ]
        },
        {
         "hoverinfo": "none",
         "marker": {
          "color": "rgb(46, 137, 205)",
          "size": 1
         },
         "name": "Rest",
         "showlegend": true,
         "x": [
          "2018-07-01 21:00:00",
          "2018-07-01 21:00:00"
         ],
         "y": [
          4,
          4
         ]
        }
       ],
       "layout": {
        "height": 600,
        "hovermode": "closest",
        "shapes": [
         {
          "fillcolor": "rgb(46, 137, 205)",
          "line": {
           "width": 0
          },
          "opacity": 1,
          "type": "rect",
          "x0": "2018-07-01 0:00:00",
          "x1": "2018-07-01 7:00:00",
          "xref": "x",
          "y0": 8.5,
          "y1": 9.5,
          "yref": "y"
         },
         {
          "fillcolor": "rgb(189, 143, 215)",
          "line": {
           "width": 0
          },
          "opacity": 1,
          "type": "rect",
          "x0": "2018-07-01 7:30:00",
          "x1": "2018-07-01 8:00:00",
          "xref": "x",
          "y0": 7.5,
          "y1": 8.5,
          "yref": "y"
         },
         {
          "fillcolor": "rgb(198, 47, 105)",
          "line": {
           "width": 0
          },
          "opacity": 1,
          "type": "rect",
          "x0": "2018-07-01 8:00:00",
          "x1": "2018-07-01 12:00:00",
          "xref": "x",
          "y0": 6.5,
          "y1": 7.5,
          "yref": "y"
         },
         {
          "fillcolor": "rgb(120, 247, 222)",
          "line": {
           "width": 0
          },
          "opacity": 1,
          "type": "rect",
          "x0": "2018-07-01 9:00:00",
          "x1": "2018-07-01 12:00:00",
          "xref": "x",
          "y0": 5.5,
          "y1": 6.5,
          "yref": "y"
         },
         {
          "fillcolor": "rgb(189, 143, 215)",
          "line": {
           "width": 0
          },
          "opacity": 1,
          "type": "rect",
          "x0": "2018-07-01 12:00:00",
          "x1": "2018-07-01 13:00:00",
          "xref": "x",
          "y0": 4.5,
          "y1": 5.5,
          "yref": "y"
         },
         {
          "fillcolor": "rgb(120, 247, 222)",
          "line": {
           "width": 0
          },
          "opacity": 1,
          "type": "rect",
          "x0": "2018-07-01 13:00:00",
          "x1": "2018-07-01 14:30:00",
          "xref": "x",
          "y0": 3.5,
          "y1": 4.5,
          "yref": "y"
         },
         {
          "fillcolor": "rgb(198, 47, 105)",
          "line": {
           "width": 0
          },
          "opacity": 1,
          "type": "rect",
          "x0": "2018-07-01 14:00:00",
          "x1": "2018-07-01 15:30:00",
          "xref": "x",
          "y0": 6.5,
          "y1": 7.5,
          "yref": "y"
         },
         {
          "fillcolor": "rgb(46, 137, 205)",
          "line": {
           "width": 0
          },
          "opacity": 1,
          "type": "rect",
          "x0": "2018-07-01 16:00:00",
          "x1": "2018-07-01 16:30:00",
          "xref": "x",
          "y0": 2.5,
          "y1": 3.5,
          "yref": "y"
         },
         {
          "fillcolor": "rgb(114, 44, 121)",
          "line": {
           "width": 0
          },
          "opacity": 1,
          "type": "rect",
          "x0": "2018-07-01 17:30:00",
          "x1": "2018-07-01 19:00:00",
          "xref": "x",
          "y0": 1.5,
          "y1": 2.5,
          "yref": "y"
         },
         {
          "fillcolor": "rgb(189, 143, 215)",
          "line": {
           "width": 0
          },
          "opacity": 1,
          "type": "rect",
          "x0": "2018-07-01 20:00:00",
          "x1": "2018-07-01 20:30:00",
          "xref": "x",
          "y0": 0.5,
          "y1": 1.5,
          "yref": "y"
         },
         {
          "fillcolor": "rgb(198, 47, 105)",
          "line": {
           "width": 0
          },
          "opacity": 1,
          "type": "rect",
          "x0": "2018-07-01 20:30:00",
          "x1": "2018-07-01 22:00:00",
          "xref": "x",
          "y0": 6.5,
          "y1": 7.5,
          "yref": "y"
         },
         {
          "fillcolor": "rgb(120, 247, 222)",
          "line": {
           "width": 0
          },
          "opacity": 1,
          "type": "rect",
          "x0": "2018-07-01 21:00:00",
          "x1": "2018-07-01 22:00:00",
          "xref": "x",
          "y0": -0.5,
          "y1": 0.5,
          "yref": "y"
         }
        ],
        "showlegend": true,
        "title": "Schedule for 1-July-2018",
        "width": 900,
        "xaxis": {
         "rangeselector": {
          "buttons": [
           {
            "count": 7,
            "label": "1w",
            "step": "day",
            "stepmode": "backward"
           },
           {
            "count": 1,
            "label": "1m",
            "step": "month",
            "stepmode": "backward"
           },
           {
            "count": 6,
            "label": "6m",
            "step": "month",
            "stepmode": "backward"
           },
           {
            "count": 1,
            "label": "YTD",
            "step": "year",
            "stepmode": "todate"
           },
           {
            "count": 1,
            "label": "1y",
            "step": "year",
            "stepmode": "backward"
           },
           {
            "step": "all"
           }
          ]
         },
         "showgrid": true,
         "type": "date",
         "zeroline": false
        },
        "yaxis": {
         "autorange": false,
         "range": [
          -1,
          11
         ],
         "showgrid": true,
         "ticktext": [
          "History",
          "Dinner",
          "Tennis",
          "Nap",
          "Physics",
          "Lunch",
          "Math",
          "Music",
          "Breakfast",
          "Sleep"
         ],
         "tickvals": [
          0,
          1,
          2,
          3,
          4,
          5,
          6,
          7,
          8,
          9
         ],
         "zeroline": false
        }
       }
      },
      "text/html": [
       "<div id=\"4040cc7c-bee4-41dc-951f-c8df96b3adf4\" style=\"height: 600px; width: 900px;\" class=\"plotly-graph-div\"></div><script type=\"text/javascript\">require([\"plotly\"], function(Plotly) { window.PLOTLYENV=window.PLOTLYENV || {};window.PLOTLYENV.BASE_URL=\"https://plot.ly\";Plotly.newPlot(\"4040cc7c-bee4-41dc-951f-c8df96b3adf4\", [{\"x\": [\"2018-07-01 0:00:00\", \"2018-07-01 7:00:00\"], \"y\": [9, 9], \"name\": \"\", \"marker\": {\"color\": \"white\"}}, {\"x\": [\"2018-07-01 7:30:00\", \"2018-07-01 8:00:00\"], \"y\": [8, 8], \"name\": \"\", \"marker\": {\"color\": \"white\"}}, {\"x\": [\"2018-07-01 8:00:00\", \"2018-07-01 12:00:00\"], \"y\": [7, 7], \"name\": \"\", \"marker\": {\"color\": \"white\"}}, {\"x\": [\"2018-07-01 9:00:00\", \"2018-07-01 12:00:00\"], \"y\": [6, 6], \"name\": \"\", \"marker\": {\"color\": \"white\"}}, {\"x\": [\"2018-07-01 12:00:00\", \"2018-07-01 13:00:00\"], \"y\": [5, 5], \"name\": \"\", \"marker\": {\"color\": \"white\"}}, {\"x\": [\"2018-07-01 13:00:00\", \"2018-07-01 14:30:00\"], \"y\": [4, 4], \"name\": \"\", \"marker\": {\"color\": \"white\"}}, {\"x\": [\"2018-07-01 14:00:00\", \"2018-07-01 15:30:00\"], \"y\": [7, 7], \"name\": \"\", \"marker\": {\"color\": \"white\"}}, {\"x\": [\"2018-07-01 16:00:00\", \"2018-07-01 16:30:00\"], \"y\": [3, 3], \"name\": \"\", \"marker\": {\"color\": \"white\"}}, {\"x\": [\"2018-07-01 17:30:00\", \"2018-07-01 19:00:00\"], \"y\": [2, 2], \"name\": \"\", \"marker\": {\"color\": \"white\"}}, {\"x\": [\"2018-07-01 20:00:00\", \"2018-07-01 20:30:00\"], \"y\": [1, 1], \"name\": \"\", \"marker\": {\"color\": \"white\"}}, {\"x\": [\"2018-07-01 20:30:00\", \"2018-07-01 22:00:00\"], \"y\": [7, 7], \"name\": \"\", \"marker\": {\"color\": \"white\"}}, {\"x\": [\"2018-07-01 21:00:00\", \"2018-07-01 22:00:00\"], \"y\": [0, 0], \"name\": \"\", \"marker\": {\"color\": \"white\"}}, {\"x\": [\"2018-07-01 21:00:00\", \"2018-07-01 21:00:00\"], \"y\": [0, 0], \"showlegend\": true, \"name\": \"Eat\", \"hoverinfo\": \"none\", \"marker\": {\"color\": \"rgb(189, 143, 215)\", \"size\": 1}}, {\"x\": [\"2018-07-01 21:00:00\", \"2018-07-01 21:00:00\"], \"y\": [1, 1], \"showlegend\": true, \"name\": \"Homework\", \"hoverinfo\": \"none\", \"marker\": {\"color\": \"rgb(120, 247, 222)\", \"size\": 1}}, {\"x\": [\"2018-07-01 21:00:00\", \"2018-07-01 21:00:00\"], \"y\": [2, 2], \"showlegend\": true, \"name\": \"Music\", \"hoverinfo\": \"none\", \"marker\": {\"color\": \"rgb(198, 47, 105)\", \"size\": 1}}, {\"x\": [\"2018-07-01 21:00:00\", \"2018-07-01 21:00:00\"], \"y\": [3, 3], \"showlegend\": true, \"name\": \"Play\", \"hoverinfo\": \"none\", \"marker\": {\"color\": \"rgb(114, 44, 121)\", \"size\": 1}}, {\"x\": [\"2018-07-01 21:00:00\", \"2018-07-01 21:00:00\"], \"y\": [4, 4], \"showlegend\": true, \"name\": \"Rest\", \"hoverinfo\": \"none\", \"marker\": {\"color\": \"rgb(46, 137, 205)\", \"size\": 1}}], {\"title\": \"Schedule for 1-July-2018\", \"showlegend\": true, \"height\": 600, \"width\": 900, \"shapes\": [{\"x0\": \"2018-07-01 0:00:00\", \"x1\": \"2018-07-01 7:00:00\", \"type\": \"rect\", \"xref\": \"x\", \"yref\": \"y\", \"opacity\": 1, \"line\": {\"width\": 0}, \"y0\": 8.5, \"y1\": 9.5, \"fillcolor\": \"rgb(46, 137, 205)\"}, {\"x0\": \"2018-07-01 7:30:00\", \"x1\": \"2018-07-01 8:00:00\", \"type\": \"rect\", \"xref\": \"x\", \"yref\": \"y\", \"opacity\": 1, \"line\": {\"width\": 0}, \"y0\": 7.5, \"y1\": 8.5, \"fillcolor\": \"rgb(189, 143, 215)\"}, {\"x0\": \"2018-07-01 8:00:00\", \"x1\": \"2018-07-01 12:00:00\", \"type\": \"rect\", \"xref\": \"x\", \"yref\": \"y\", \"opacity\": 1, \"line\": {\"width\": 0}, \"y0\": 6.5, \"y1\": 7.5, \"fillcolor\": \"rgb(198, 47, 105)\"}, {\"x0\": \"2018-07-01 9:00:00\", \"x1\": \"2018-07-01 12:00:00\", \"type\": \"rect\", \"xref\": \"x\", \"yref\": \"y\", \"opacity\": 1, \"line\": {\"width\": 0}, \"y0\": 5.5, \"y1\": 6.5, \"fillcolor\": \"rgb(120, 247, 222)\"}, {\"x0\": \"2018-07-01 12:00:00\", \"x1\": \"2018-07-01 13:00:00\", \"type\": \"rect\", \"xref\": \"x\", \"yref\": \"y\", \"opacity\": 1, \"line\": {\"width\": 0}, \"y0\": 4.5, \"y1\": 5.5, \"fillcolor\": \"rgb(189, 143, 215)\"}, {\"x0\": \"2018-07-01 13:00:00\", \"x1\": \"2018-07-01 14:30:00\", \"type\": \"rect\", \"xref\": \"x\", \"yref\": \"y\", \"opacity\": 1, \"line\": {\"width\": 0}, \"y0\": 3.5, \"y1\": 4.5, \"fillcolor\": \"rgb(120, 247, 222)\"}, {\"x0\": \"2018-07-01 14:00:00\", \"x1\": \"2018-07-01 15:30:00\", \"type\": \"rect\", \"xref\": \"x\", \"yref\": \"y\", \"opacity\": 1, \"line\": {\"width\": 0}, \"y0\": 6.5, \"y1\": 7.5, \"fillcolor\": \"rgb(198, 47, 105)\"}, {\"x0\": \"2018-07-01 16:00:00\", \"x1\": \"2018-07-01 16:30:00\", \"type\": \"rect\", \"xref\": \"x\", \"yref\": \"y\", \"opacity\": 1, \"line\": {\"width\": 0}, \"y0\": 2.5, \"y1\": 3.5, \"fillcolor\": \"rgb(46, 137, 205)\"}, {\"x0\": \"2018-07-01 17:30:00\", \"x1\": \"2018-07-01 19:00:00\", \"type\": \"rect\", \"xref\": \"x\", \"yref\": \"y\", \"opacity\": 1, \"line\": {\"width\": 0}, \"y0\": 1.5, \"y1\": 2.5, \"fillcolor\": \"rgb(114, 44, 121)\"}, {\"x0\": \"2018-07-01 20:00:00\", \"x1\": \"2018-07-01 20:30:00\", \"type\": \"rect\", \"xref\": \"x\", \"yref\": \"y\", \"opacity\": 1, \"line\": {\"width\": 0}, \"y0\": 0.5, \"y1\": 1.5, \"fillcolor\": \"rgb(189, 143, 215)\"}, {\"x0\": \"2018-07-01 20:30:00\", \"x1\": \"2018-07-01 22:00:00\", \"type\": \"rect\", \"xref\": \"x\", \"yref\": \"y\", \"opacity\": 1, \"line\": {\"width\": 0}, \"y0\": 6.5, \"y1\": 7.5, \"fillcolor\": \"rgb(198, 47, 105)\"}, {\"x0\": \"2018-07-01 21:00:00\", \"x1\": \"2018-07-01 22:00:00\", \"type\": \"rect\", \"xref\": \"x\", \"yref\": \"y\", \"opacity\": 1, \"line\": {\"width\": 0}, \"y0\": -0.5, \"y1\": 0.5, \"fillcolor\": \"rgb(120, 247, 222)\"}], \"hovermode\": \"closest\", \"yaxis\": {\"showgrid\": true, \"ticktext\": [\"History\", \"Dinner\", \"Tennis\", \"Nap\", \"Physics\", \"Lunch\", \"Math\", \"Music\", \"Breakfast\", \"Sleep\"], \"tickvals\": [0, 1, 2, 3, 4, 5, 6, 7, 8, 9], \"range\": [-1, 11], \"autorange\": false, \"zeroline\": false}, \"xaxis\": {\"showgrid\": true, \"zeroline\": false, \"rangeselector\": {\"buttons\": [{\"count\": 7, \"label\": \"1w\", \"step\": \"day\", \"stepmode\": \"backward\"}, {\"count\": 1, \"label\": \"1m\", \"step\": \"month\", \"stepmode\": \"backward\"}, {\"count\": 6, \"label\": \"6m\", \"step\": \"month\", \"stepmode\": \"backward\"}, {\"count\": 1, \"label\": \"YTD\", \"step\": \"year\", \"stepmode\": \"todate\"}, {\"count\": 1, \"label\": \"1y\", \"step\": \"year\", \"stepmode\": \"backward\"}, {\"step\": \"all\"}]}, \"type\": \"date\"}}, {\"showLink\": true, \"linkText\": \"Export to plot.ly\"})});</script>"
      ],
      "text/vnd.plotly.v1+html": [
       "<div id=\"4040cc7c-bee4-41dc-951f-c8df96b3adf4\" style=\"height: 600px; width: 900px;\" class=\"plotly-graph-div\"></div><script type=\"text/javascript\">require([\"plotly\"], function(Plotly) { window.PLOTLYENV=window.PLOTLYENV || {};window.PLOTLYENV.BASE_URL=\"https://plot.ly\";Plotly.newPlot(\"4040cc7c-bee4-41dc-951f-c8df96b3adf4\", [{\"x\": [\"2018-07-01 0:00:00\", \"2018-07-01 7:00:00\"], \"y\": [9, 9], \"name\": \"\", \"marker\": {\"color\": \"white\"}}, {\"x\": [\"2018-07-01 7:30:00\", \"2018-07-01 8:00:00\"], \"y\": [8, 8], \"name\": \"\", \"marker\": {\"color\": \"white\"}}, {\"x\": [\"2018-07-01 8:00:00\", \"2018-07-01 12:00:00\"], \"y\": [7, 7], \"name\": \"\", \"marker\": {\"color\": \"white\"}}, {\"x\": [\"2018-07-01 9:00:00\", \"2018-07-01 12:00:00\"], \"y\": [6, 6], \"name\": \"\", \"marker\": {\"color\": \"white\"}}, {\"x\": [\"2018-07-01 12:00:00\", \"2018-07-01 13:00:00\"], \"y\": [5, 5], \"name\": \"\", \"marker\": {\"color\": \"white\"}}, {\"x\": [\"2018-07-01 13:00:00\", \"2018-07-01 14:30:00\"], \"y\": [4, 4], \"name\": \"\", \"marker\": {\"color\": \"white\"}}, {\"x\": [\"2018-07-01 14:00:00\", \"2018-07-01 15:30:00\"], \"y\": [7, 7], \"name\": \"\", \"marker\": {\"color\": \"white\"}}, {\"x\": [\"2018-07-01 16:00:00\", \"2018-07-01 16:30:00\"], \"y\": [3, 3], \"name\": \"\", \"marker\": {\"color\": \"white\"}}, {\"x\": [\"2018-07-01 17:30:00\", \"2018-07-01 19:00:00\"], \"y\": [2, 2], \"name\": \"\", \"marker\": {\"color\": \"white\"}}, {\"x\": [\"2018-07-01 20:00:00\", \"2018-07-01 20:30:00\"], \"y\": [1, 1], \"name\": \"\", \"marker\": {\"color\": \"white\"}}, {\"x\": [\"2018-07-01 20:30:00\", \"2018-07-01 22:00:00\"], \"y\": [7, 7], \"name\": \"\", \"marker\": {\"color\": \"white\"}}, {\"x\": [\"2018-07-01 21:00:00\", \"2018-07-01 22:00:00\"], \"y\": [0, 0], \"name\": \"\", \"marker\": {\"color\": \"white\"}}, {\"x\": [\"2018-07-01 21:00:00\", \"2018-07-01 21:00:00\"], \"y\": [0, 0], \"showlegend\": true, \"name\": \"Eat\", \"hoverinfo\": \"none\", \"marker\": {\"color\": \"rgb(189, 143, 215)\", \"size\": 1}}, {\"x\": [\"2018-07-01 21:00:00\", \"2018-07-01 21:00:00\"], \"y\": [1, 1], \"showlegend\": true, \"name\": \"Homework\", \"hoverinfo\": \"none\", \"marker\": {\"color\": \"rgb(120, 247, 222)\", \"size\": 1}}, {\"x\": [\"2018-07-01 21:00:00\", \"2018-07-01 21:00:00\"], \"y\": [2, 2], \"showlegend\": true, \"name\": \"Music\", \"hoverinfo\": \"none\", \"marker\": {\"color\": \"rgb(198, 47, 105)\", \"size\": 1}}, {\"x\": [\"2018-07-01 21:00:00\", \"2018-07-01 21:00:00\"], \"y\": [3, 3], \"showlegend\": true, \"name\": \"Play\", \"hoverinfo\": \"none\", \"marker\": {\"color\": \"rgb(114, 44, 121)\", \"size\": 1}}, {\"x\": [\"2018-07-01 21:00:00\", \"2018-07-01 21:00:00\"], \"y\": [4, 4], \"showlegend\": true, \"name\": \"Rest\", \"hoverinfo\": \"none\", \"marker\": {\"color\": \"rgb(46, 137, 205)\", \"size\": 1}}], {\"title\": \"Schedule for 1-July-2018\", \"showlegend\": true, \"height\": 600, \"width\": 900, \"shapes\": [{\"x0\": \"2018-07-01 0:00:00\", \"x1\": \"2018-07-01 7:00:00\", \"type\": \"rect\", \"xref\": \"x\", \"yref\": \"y\", \"opacity\": 1, \"line\": {\"width\": 0}, \"y0\": 8.5, \"y1\": 9.5, \"fillcolor\": \"rgb(46, 137, 205)\"}, {\"x0\": \"2018-07-01 7:30:00\", \"x1\": \"2018-07-01 8:00:00\", \"type\": \"rect\", \"xref\": \"x\", \"yref\": \"y\", \"opacity\": 1, \"line\": {\"width\": 0}, \"y0\": 7.5, \"y1\": 8.5, \"fillcolor\": \"rgb(189, 143, 215)\"}, {\"x0\": \"2018-07-01 8:00:00\", \"x1\": \"2018-07-01 12:00:00\", \"type\": \"rect\", \"xref\": \"x\", \"yref\": \"y\", \"opacity\": 1, \"line\": {\"width\": 0}, \"y0\": 6.5, \"y1\": 7.5, \"fillcolor\": \"rgb(198, 47, 105)\"}, {\"x0\": \"2018-07-01 9:00:00\", \"x1\": \"2018-07-01 12:00:00\", \"type\": \"rect\", \"xref\": \"x\", \"yref\": \"y\", \"opacity\": 1, \"line\": {\"width\": 0}, \"y0\": 5.5, \"y1\": 6.5, \"fillcolor\": \"rgb(120, 247, 222)\"}, {\"x0\": \"2018-07-01 12:00:00\", \"x1\": \"2018-07-01 13:00:00\", \"type\": \"rect\", \"xref\": \"x\", \"yref\": \"y\", \"opacity\": 1, \"line\": {\"width\": 0}, \"y0\": 4.5, \"y1\": 5.5, \"fillcolor\": \"rgb(189, 143, 215)\"}, {\"x0\": \"2018-07-01 13:00:00\", \"x1\": \"2018-07-01 14:30:00\", \"type\": \"rect\", \"xref\": \"x\", \"yref\": \"y\", \"opacity\": 1, \"line\": {\"width\": 0}, \"y0\": 3.5, \"y1\": 4.5, \"fillcolor\": \"rgb(120, 247, 222)\"}, {\"x0\": \"2018-07-01 14:00:00\", \"x1\": \"2018-07-01 15:30:00\", \"type\": \"rect\", \"xref\": \"x\", \"yref\": \"y\", \"opacity\": 1, \"line\": {\"width\": 0}, \"y0\": 6.5, \"y1\": 7.5, \"fillcolor\": \"rgb(198, 47, 105)\"}, {\"x0\": \"2018-07-01 16:00:00\", \"x1\": \"2018-07-01 16:30:00\", \"type\": \"rect\", \"xref\": \"x\", \"yref\": \"y\", \"opacity\": 1, \"line\": {\"width\": 0}, \"y0\": 2.5, \"y1\": 3.5, \"fillcolor\": \"rgb(46, 137, 205)\"}, {\"x0\": \"2018-07-01 17:30:00\", \"x1\": \"2018-07-01 19:00:00\", \"type\": \"rect\", \"xref\": \"x\", \"yref\": \"y\", \"opacity\": 1, \"line\": {\"width\": 0}, \"y0\": 1.5, \"y1\": 2.5, \"fillcolor\": \"rgb(114, 44, 121)\"}, {\"x0\": \"2018-07-01 20:00:00\", \"x1\": \"2018-07-01 20:30:00\", \"type\": \"rect\", \"xref\": \"x\", \"yref\": \"y\", \"opacity\": 1, \"line\": {\"width\": 0}, \"y0\": 0.5, \"y1\": 1.5, \"fillcolor\": \"rgb(189, 143, 215)\"}, {\"x0\": \"2018-07-01 20:30:00\", \"x1\": \"2018-07-01 22:00:00\", \"type\": \"rect\", \"xref\": \"x\", \"yref\": \"y\", \"opacity\": 1, \"line\": {\"width\": 0}, \"y0\": 6.5, \"y1\": 7.5, \"fillcolor\": \"rgb(198, 47, 105)\"}, {\"x0\": \"2018-07-01 21:00:00\", \"x1\": \"2018-07-01 22:00:00\", \"type\": \"rect\", \"xref\": \"x\", \"yref\": \"y\", \"opacity\": 1, \"line\": {\"width\": 0}, \"y0\": -0.5, \"y1\": 0.5, \"fillcolor\": \"rgb(120, 247, 222)\"}], \"hovermode\": \"closest\", \"yaxis\": {\"showgrid\": true, \"ticktext\": [\"History\", \"Dinner\", \"Tennis\", \"Nap\", \"Physics\", \"Lunch\", \"Math\", \"Music\", \"Breakfast\", \"Sleep\"], \"tickvals\": [0, 1, 2, 3, 4, 5, 6, 7, 8, 9], \"range\": [-1, 11], \"autorange\": false, \"zeroline\": false}, \"xaxis\": {\"showgrid\": true, \"zeroline\": false, \"rangeselector\": {\"buttons\": [{\"count\": 7, \"label\": \"1w\", \"step\": \"day\", \"stepmode\": \"backward\"}, {\"count\": 1, \"label\": \"1m\", \"step\": \"month\", \"stepmode\": \"backward\"}, {\"count\": 6, \"label\": \"6m\", \"step\": \"month\", \"stepmode\": \"backward\"}, {\"count\": 1, \"label\": \"YTD\", \"step\": \"year\", \"stepmode\": \"todate\"}, {\"count\": 1, \"label\": \"1y\", \"step\": \"year\", \"stepmode\": \"backward\"}, {\"step\": \"all\"}]}, \"type\": \"date\"}}, {\"showLink\": true, \"linkText\": \"Export to plot.ly\"})});</script>"
      ]
     },
     "metadata": {},
     "output_type": "display_data"
    }
   ],
   "source": [
    "fig = ff.create_gantt(schedule,\n",
    "                      title='Schedule for 1-July-2018',\n",
    "                      \n",
    "                      colors=color_list, \n",
    "                      index_col='Category',\n",
    "                      show_colorbar=True,\n",
    "                      \n",
    "                      bar_width=0.5, \n",
    "                      showgrid_x=True, \n",
    "                      showgrid_y=True,\n",
    "                      \n",
    "                      group_tasks=True)\n",
    "\n",
    "offline.iplot(fig)"
   ]
  },
  {
   "cell_type": "code",
   "execution_count": null,
   "metadata": {
    "collapsed": true
   },
   "outputs": [],
   "source": []
  }
 ],
 "metadata": {
  "kernelspec": {
   "display_name": "Python 3",
   "language": "python",
   "name": "python3"
  },
  "language_info": {
   "codemirror_mode": {
    "name": "ipython",
    "version": 3
   },
   "file_extension": ".py",
   "mimetype": "text/x-python",
   "name": "python",
   "nbconvert_exporter": "python",
   "pygments_lexer": "ipython3",
   "version": "3.6.3"
  }
 },
 "nbformat": 4,
 "nbformat_minor": 2
}
